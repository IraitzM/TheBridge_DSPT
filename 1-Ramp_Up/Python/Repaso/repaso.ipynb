{
 "cells": [
  {
   "cell_type": "markdown",
   "metadata": {},
   "source": [
    "Para resolver este ejercicio necesitarás la lista del ejercicio anterior (`lista_examen`). Se recomienda leer cada punto hasta el final antes de resolver el ejercicio.\n",
    "\n",
    "Se repite para que quede aún más claro: **SOLO USAR LA VARIABLE** `lista_examen`. Usar otra variable se calificará como error.  \n",
    "\n",
    "1. Guardar en las variables, sin uso de funciones (puedes usar print) ni bucles: \n",
    "    - `res21` El tercer destino de vacaciones\n",
    "    - `res22` El penúltimo objeto que te llevarías a una isla para todo tipo de longitudes de listados.\n",
    "    - `res23` Los 3 primeros caracteres de la población de nacimiento.\n",
    "    - `res24` Una lista de los valores del diccionario de tu pc.\n",
    "    - `res25` Guardar dentro del diccionario dentro de `lista_examen` una nueva clave llamada `s_operativo` con una lista de 3 booleanos, True si es Windows, de tus últimos 3 pcs.\n",
    "\n",
    "<br></br>   \n",
    "    \n",
    "2. Mostrar por pantalla, con uso de un bucle `for`:\n",
    "    - Las posiciones y elementos de `lista_examen` de las posiciones impares.\n",
    "    - Todos los elementos de `lista_examen` al revés.\n",
    "    - Todos aquellos elementos que sean colecciones ordenadas de `lista_examen`, si no lo son, imprimir el tipo.\n",
    "\n",
    "<br></br>  \n",
    "\n",
    "3. Con uso del bucle `while`, borra los destinos por la cola hasta que tengas 3 destinos, y guarda esos destinos borrados en una nueva lista `destinos_borrados`."
   ]
  },
  {
   "cell_type": "code",
   "execution_count": 37,
   "metadata": {},
   "outputs": [],
   "source": [
    "edad = 35\n",
    "poblacion = \"Vitoria\"\n",
    "altura = 1.80 \n",
    "s_operativo = True\n",
    "nada = None \n",
    "lista_vacaciones = [\"San Sebastian\", \"Ibiza\", \"Amsterdam\", \"Berlín\", \"Ipanema\"]\n",
    "tupla_isla = (\"comida\", \"telefono_movil\", \"cuchillo\")\n",
    "dict_pc = {\"marca\": \"Lenovo\", \n",
    "           \"ram\": 16}\n",
    "lista_examen = [edad, poblacion, altura, s_operativo, nada, lista_vacaciones, tupla_isla, dict_pc]"
   ]
  },
  {
   "cell_type": "code",
   "execution_count": 6,
   "metadata": {},
   "outputs": [
    {
     "name": "stdout",
     "output_type": "stream",
     "text": [
      "Amsterdam\n"
     ]
    }
   ],
   "source": [
    "res21 = lista_vacaciones[2]\n",
    "print(res21)"
   ]
  },
  {
   "cell_type": "code",
   "execution_count": 16,
   "metadata": {},
   "outputs": [
    {
     "name": "stdout",
     "output_type": "stream",
     "text": [
      "Amsterdam\n"
     ]
    }
   ],
   "source": [
    "res21 = lista_examen[5][2]\n",
    "print(res21)"
   ]
  },
  {
   "cell_type": "code",
   "execution_count": 9,
   "metadata": {},
   "outputs": [
    {
     "name": "stdout",
     "output_type": "stream",
     "text": [
      "telefono_movil\n"
     ]
    }
   ],
   "source": [
    "res22 = tupla_isla[1]\n",
    "print(res22)"
   ]
  },
  {
   "cell_type": "code",
   "execution_count": 18,
   "metadata": {},
   "outputs": [
    {
     "name": "stdout",
     "output_type": "stream",
     "text": [
      "telefono_movil\n"
     ]
    }
   ],
   "source": [
    "res22 = lista_examen[6][-2]\n",
    "print(res22)"
   ]
  },
  {
   "cell_type": "code",
   "execution_count": 10,
   "metadata": {},
   "outputs": [
    {
     "name": "stdout",
     "output_type": "stream",
     "text": [
      "Vit\n"
     ]
    }
   ],
   "source": [
    "res23 = poblacion[0:3]\n",
    "print(res23)"
   ]
  },
  {
   "cell_type": "code",
   "execution_count": 14,
   "metadata": {},
   "outputs": [
    {
     "name": "stdout",
     "output_type": "stream",
     "text": [
      "['Lenovo', 16]\n"
     ]
    }
   ],
   "source": [
    "res24 = list()\n",
    "\n",
    "for valor in dict_pc.values():\n",
    "    res24.append(valor)\n",
    "    \n",
    "print(res24) "
   ]
  },
  {
   "cell_type": "code",
   "execution_count": 20,
   "metadata": {},
   "outputs": [
    {
     "name": "stdout",
     "output_type": "stream",
     "text": [
      "['Lenovo', 16]\n"
     ]
    }
   ],
   "source": [
    "res24 = list(lista_examen[-1].values())\n",
    "print(res24)"
   ]
  },
  {
   "cell_type": "code",
   "execution_count": 23,
   "metadata": {},
   "outputs": [
    {
     "name": "stdout",
     "output_type": "stream",
     "text": [
      "{'marca': 'Lenovo', 'ram': 16, 's_operativo': [True, True, False]}\n"
     ]
    }
   ],
   "source": [
    "lista_examen[-1][\"s_operativo\"] = [True, True, False] # VA AL ÚLTIMO ELEMENTO DE LA LISTA (DICCIONARIO) Y ASIGNA LA CLAVE \"s_operativo\" CON SUS VALORES\n",
    "res25 = lista_examen[-1] # VA A LA ÚLTIMA POSICION DE LA LISTA EXAMEN Y LE ASIGNA EL VALOR A LA VARIABLE \"RES25\" \n",
    "print(res25)"
   ]
  },
  {
   "cell_type": "markdown",
   "metadata": {},
   "source": [
    " 2 PARTE DEL EXAMEN"
   ]
  },
  {
   "cell_type": "code",
   "execution_count": 25,
   "metadata": {},
   "outputs": [
    {
     "name": "stdout",
     "output_type": "stream",
     "text": [
      "0 35\n",
      "2 1.8\n",
      "4 None\n",
      "6 ('comida', 'telefono_movil', 'cuchillo')\n"
     ]
    }
   ],
   "source": [
    "for posicion in range(0, len(lista_examen), 2): # RECORRE LA LISTA_EXAMEN DESDE EL PRIMER ELEMENTO DE 2 EN 2 ( LOS IMPARES)\n",
    "    print(posicion, lista_examen[posicion])"
   ]
  },
  {
   "cell_type": "code",
   "execution_count": 28,
   "metadata": {},
   "outputs": [
    {
     "name": "stdout",
     "output_type": "stream",
     "text": [
      "1 Vitoria\n",
      "3 True\n",
      "5 ['San Sebastian', 'Ibiza', 'Amsterdam', 'Berlín', 'Ipanema']\n",
      "7 {'marca': 'Lenovo', 'ram': 16, 's_operativo': [True, True, False]}\n",
      "[{'marca': 'Lenovo', 'ram': 16, 's_operativo': [True, True, False]}, ('comida', 'telefono_movil', 'cuchillo'), ['San Sebastian', 'Ibiza', 'Amsterdam', 'Berlín', 'Ipanema'], None, True, 1.8, 'Vitoria', 35]\n"
     ]
    }
   ],
   "source": [
    "# LOS ELEMENTOS AL REVES \n",
    "\n",
    "lista_al_reves = [0]*len(lista_examen)\n",
    "for posicion in range(len(lista_examen)):\n",
    "    if posicion % 2 != 0: \n",
    "        print(posicion, lista_examen[posicion])\n",
    "    lista_al_reves[posicion] = lista_examen[-posicion -1]\n",
    "\n",
    "print(lista_al_reves)"
   ]
  },
  {
   "cell_type": "code",
   "execution_count": 29,
   "metadata": {},
   "outputs": [
    {
     "name": "stdout",
     "output_type": "stream",
     "text": [
      "<class 'int'>\n",
      "<class 'str'>\n",
      "<class 'float'>\n",
      "<class 'bool'>\n",
      "<class 'NoneType'>\n",
      "['Amsterdam', 'Berlín', 'Ibiza', 'Ipanema', 'San Sebastian']\n",
      "['comida', 'cuchillo', 'telefono_movil']\n",
      "['marca', 'ram', 's_operativo']\n"
     ]
    }
   ],
   "source": [
    "# Todos aquellos elementos que sean colecciones ordenadas de `lista_examen`, si no lo son, imprimir el tipo.\n",
    "\n",
    "for elem in lista_examen: \n",
    "    if type(elem) == dict or type(elem) == list or type(elem) == tuple:\n",
    "        print(sorted(elem))\n",
    "    else:\n",
    "        print(type(elem))"
   ]
  },
  {
   "cell_type": "code",
   "execution_count": 39,
   "metadata": {},
   "outputs": [
    {
     "name": "stdout",
     "output_type": "stream",
     "text": [
      "['Ipanema', 'Berlín']\n"
     ]
    }
   ],
   "source": [
    "destinos_borrados = []\n",
    "\n",
    "while len(lista_examen[5]) > 3:\n",
    "    destinos_borrados.append(lista_examen[5]. pop(-1))\n",
    "\n",
    "print(destinos_borrados) # PAGINA WEB WOLFRAM ALFA "
   ]
  },
  {
   "cell_type": "markdown",
   "metadata": {},
   "source": [
    "# TERCER EJERCICIO \n",
    "\n",
    "#### Crear un programa que calcule la cuota de una hipoteca\n",
    "\n",
    "Las cuotas hipotecarias se calculan utilizando la fórmula del interés francés. \n",
    "\n",
    "La fórmula del interés frances es la siguiente:\n",
    "\\begin{align*}\n",
    "C=V \\frac{(1+i)^n i}{(1+i)^n -1}\n",
    "\\end{align*}\n",
    "\n",
    "\n",
    "    C = cuota a pagar (mensual)\n",
    "    V = volumen del préstamo hipotecario\n",
    "    i = tipo de interés del período (mensual)\n",
    "    n = número de cuotas (mensuales)\n",
    "\n",
    "1. Crea un programa que solicite al usuario los datos de su hipoteca mediante input() los datos (volumen, interés **anual**, y plazo en **años**) y le devuelva la cuota **mensual** a pagar. No es necesario encapsularlo en funciones.\n",
    "\n",
    "2. Crea una función `calcular_hip` que realiza el cálculo y cuyos argumentos de entrada sean `volumen`, `interes_anual` y `años`, devolviendo la couta mensual(float). El argumento de `años` deberá de tener un valor por defecto de 30.\n",
    "3. Calcula la cuota y guárdala en la variable `res_cuota` si la cantidad de la hipoteca son 350000 euros, el interés anual es del 5% y la quiere pagar en 20 años a partir de la función `calcular_hip`.\n",
    "4. Crea una función `gasto_vivienda`, con dos argumentos de entrada `ingreso` y `lista_hip`. Esta lista tendrá los 3 valores de los argumentos de entrada de `calcular_hip`, siendo esta una función que deberá ser utilizada dentro de `gasto_vivienda`. Tiene que devolver el valor del porcentaje de gasto en la hipoteca respecto a los ingresos. (Entre 0 y 1, es decir 0.5 si es del 50%)\n",
    "5. Calcula el porcentaje de gasto en la hipoteca si el ingreso es de 1700 euros y guárdalo en la variable `res_porcentaje`.\n",
    "6. Documenta ambas funciones con el estilo de Google.\n",
    "\n"
   ]
  },
  {
   "cell_type": "code",
   "execution_count": 56,
   "metadata": {},
   "outputs": [
    {
     "name": "stdout",
     "output_type": "stream",
     "text": [
      "290.4999498216017\n"
     ]
    }
   ],
   "source": [
    "volumen = float(input(\"¿Cuanto dinero necesitas?\"))\n",
    "interes_anual = float(input(\"¿Que interes anual tienes?\"))\n",
    "años = float(input(\"plazo en años\")) \n",
    "\n",
    "def calcular_hip(volumen, interes_anual, años):\n",
    "    V = volumen \n",
    "    interes_mensual = interes_anual/ 100 / 12\n",
    "    n = años * 12\n",
    "\n",
    "    return V * ((1 + interes_mensual)**n *  interes_mensual) / ((1 + interes_mensual)**n - 1)\n",
    "\n",
    "if volumen == 350000 and interes_anual == 5 and años == 20:\n",
    "    res_cuota = calcular_hip(volumen, interes_anual, años)\n",
    "else:\n",
    "    print(calcular_hip(volumen, interes_anual, años))"
   ]
  },
  {
   "cell_type": "code",
   "execution_count": 50,
   "metadata": {},
   "outputs": [
    {
     "data": {
      "text/plain": [
       "6359.523790238491"
      ]
     },
     "execution_count": 50,
     "metadata": {},
     "output_type": "execute_result"
    }
   ],
   "source": [
    "C * n"
   ]
  },
  {
   "cell_type": "code",
   "execution_count": 51,
   "metadata": {},
   "outputs": [
    {
     "data": {
      "text/plain": [
       "0.00025"
      ]
     },
     "execution_count": 51,
     "metadata": {},
     "output_type": "execute_result"
    }
   ],
   "source": [
    "interes_mensual"
   ]
  },
  {
   "cell_type": "code",
   "execution_count": 55,
   "metadata": {},
   "outputs": [
    {
     "ename": "NameError",
     "evalue": "name 'v' is not defined",
     "output_type": "error",
     "traceback": [
      "\u001b[1;31m---------------------------------------------------------------------------\u001b[0m",
      "\u001b[1;31mNameError\u001b[0m                                 Traceback (most recent call last)",
      "Cell \u001b[1;32mIn[55], line 4\u001b[0m\n\u001b[0;32m      2\u001b[0m     res_cuota \u001b[38;5;241m=\u001b[39m calcular_hip(v, interes_anual, años)\n\u001b[0;32m      3\u001b[0m \u001b[38;5;28;01melse\u001b[39;00m:\n\u001b[1;32m----> 4\u001b[0m     \u001b[38;5;28mprint\u001b[39m(calcular_hip(\u001b[43mv\u001b[49m, interes_anual, años))\n",
      "\u001b[1;31mNameError\u001b[0m: name 'v' is not defined"
     ]
    }
   ],
   "source": []
  },
  {
   "cell_type": "code",
   "execution_count": null,
   "metadata": {},
   "outputs": [],
   "source": [
    "def gasto_vivienda(ingreso, lista_hip):\n",
    "    lista_ratio_cuotas = []\n",
    "    for hipoteca in lista_hip:\n",
    "        cuota = calcular_hip(*hipoteca)\n",
    "        lista_ratio_cuotas.append(cuota/ingreso)\n",
    "\n",
    "    return lista_ratio_cuotas"
   ]
  },
  {
   "cell_type": "code",
   "execution_count": null,
   "metadata": {},
   "outputs": [],
   "source": [
    "gasto_vivienda[1500, [100000, 5, 20], [100000, 3.7, 40], [100000, 0.3, 30]]"
   ]
  },
  {
   "cell_type": "markdown",
   "metadata": {},
   "source": []
  },
  {
   "cell_type": "code",
   "execution_count": 59,
   "metadata": {},
   "outputs": [],
   "source": [
    "class cliente(): \n",
    "\n",
    "    mamifero = True \n",
    "\n",
    "    def __init__(self, altura, edad, nombre, ahorros, target = True, ojos = 2) -> None: \n",
    "\n",
    "        self.ojos = ojos\n",
    "        self.altura = altura\n",
    "        self.edad = edad \n",
    "        self.ahorros = ahorros\n",
    "        self.target = target\n",
    "        self.nombre = nombre \n",
    "\n",
    "    def cumplir_edad(self): \n",
    "\n",
    "        self.edad = self.edad + 1 \n",
    "\n",
    "        if self.edad == 80:\n",
    "            self.altura = self.altura * 0.9 \n",
    "\n",
    "        return f\"felices {self.edad} años!\" # ESTUDIAR ESTE FORMATO DE DEVOLVER UN MENSAJE \n",
    "\n",
    "    def comprar(self, volumen_gasto:list): # MIRAR COMO SE INCLUYO LA LISTA \n",
    "\n",
    "        self.ahorros -= sum(volumen_gasto) # SE SUMAN VOLUMEN_GASTO Y SE LE RESTA A SELF.AHORROS \n",
    "\n",
    "        if self.ahorros <= 0 and self.target: \n",
    "            self.target = False  "
   ]
  },
  {
   "cell_type": "code",
   "execution_count": 62,
   "metadata": {},
   "outputs": [],
   "source": [
    "cliente_1 = cliente(1.7, 25, 3000, \"Manuel\", ojos = 1)\n",
    "cliente_2 = cliente(1.68, 26, 2000, \"Laura\")"
   ]
  },
  {
   "cell_type": "code",
   "execution_count": 61,
   "metadata": {},
   "outputs": [
    {
     "data": {
      "text/plain": [
       "1"
      ]
     },
     "execution_count": 61,
     "metadata": {},
     "output_type": "execute_result"
    }
   ],
   "source": [
    "cliente_1.ojos "
   ]
  },
  {
   "cell_type": "code",
   "execution_count": 66,
   "metadata": {},
   "outputs": [
    {
     "data": {
      "text/plain": [
       "'felices 26 años!'"
      ]
     },
     "execution_count": 66,
     "metadata": {},
     "output_type": "execute_result"
    }
   ],
   "source": [
    "cliente_1.cumplir_edad()"
   ]
  },
  {
   "cell_type": "code",
   "execution_count": 64,
   "metadata": {},
   "outputs": [
    {
     "data": {
      "text/plain": [
       "1.7"
      ]
     },
     "execution_count": 64,
     "metadata": {},
     "output_type": "execute_result"
    }
   ],
   "source": [
    "cliente_1.altura"
   ]
  },
  {
   "cell_type": "code",
   "execution_count": 65,
   "metadata": {},
   "outputs": [
    {
     "data": {
      "text/plain": [
       "True"
      ]
     },
     "execution_count": 65,
     "metadata": {},
     "output_type": "execute_result"
    }
   ],
   "source": [
    "cliente_1.target"
   ]
  },
  {
   "cell_type": "code",
   "execution_count": 4,
   "metadata": {},
   "outputs": [],
   "source": [
    "def piramide_invertida(filas = 5):\n",
    "    piramide = \" \"\n",
    "    for i in range(filas, 0, -1):\n",
    "        for j in range(i, 0, -1):\n",
    "            piramide += \" \".join(str(j)) + \"\\n\"\n",
    "    return piramide\n",
    "\n"
   ]
  },
  {
   "cell_type": "code",
   "execution_count": 5,
   "metadata": {},
   "outputs": [
    {
     "ename": "NameError",
     "evalue": "name 'piramide' is not defined",
     "output_type": "error",
     "traceback": [
      "\u001b[1;31m---------------------------------------------------------------------------\u001b[0m",
      "\u001b[1;31mNameError\u001b[0m                                 Traceback (most recent call last)",
      "Cell \u001b[1;32mIn[5], line 1\u001b[0m\n\u001b[1;32m----> 1\u001b[0m variable \u001b[38;5;241m=\u001b[39m \u001b[38;5;28mprint\u001b[39m(\u001b[43mpiramide\u001b[49m)\n",
      "\u001b[1;31mNameError\u001b[0m: name 'piramide' is not defined"
     ]
    }
   ],
   "source": [
    "variable = print(piramide)"
   ]
  }
 ],
 "metadata": {
  "kernelspec": {
   "display_name": "Python 3",
   "language": "python",
   "name": "python3"
  },
  "language_info": {
   "codemirror_mode": {
    "name": "ipython",
    "version": 3
   },
   "file_extension": ".py",
   "mimetype": "text/x-python",
   "name": "python",
   "nbconvert_exporter": "python",
   "pygments_lexer": "ipython3",
   "version": "3.12.3"
  }
 },
 "nbformat": 4,
 "nbformat_minor": 2
}
