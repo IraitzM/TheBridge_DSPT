{
  "cells": [
    {
      "attachments": {},
      "cell_type": "markdown",
      "metadata": {
        "id": "AY6Q1wDJUobm"
      },
      "source": [
        "<h1><center>Examen Ramp Up 2024</center></h1>\n",
        "\n",
        "<h3>Ejercicio 1</h3>\n",
        "\n",
        "Diseñar una función que reciba un diccionario con la compra realizada ({‘Pan’: 2,‘Yogur’: 6}) y calcule el importe total de la compra teniendo en cuenta los descuentos (porcentaje en formato unitario) impuesto por el comercio. A continuación, tenéis disponible la información sobre los productos que tiene el comercio, además de sus precios y descuentos (porcentaje en formato unitario) respectivamente. \n",
        "\n",
        "| **Producto** | **Precio** | **Descuento** |\n",
        "|:--------------:|:------------:|:---------------:|\n",
        "|Pan | 1.20 | 0.10 |\n",
        "|Yogur | 0.30 | 0.00 |\n",
        "|Lejia | 2.80 | 0.15 |\n",
        "|Leche | 0.87 | 0.05 |\n",
        "|Huevo | 0.17 | 0.20 |\n",
        "|Harina | 1.03 | 0.05 |\n",
        "|Detergente | 3.15 | 0.10 |\n",
        "|Gel | 4.19 | 0.00 |\n",
        "\n",
        "* Ejemplo:\n",
        "    * input: {‘Pan’: 2,‘Yogur’: 6}.\n",
        "    * output: 3,96.\n",
        "\n",
        "Podéis crear una clase Tienda con un método asociado a una función que contenga la información necesaria, lo que más sencillo os resulte."
      ]
    },
    {
      "cell_type": "code",
      "execution_count": null,
      "metadata": {
        "id": "WKlXTg5XUobq"
      },
      "outputs": [],
      "source": [
        "dict_compra = {\"pan\": 2, \"yogur\": 6}\n",
        "dict_precio_comercio = {\"pan\": 1.20, \"yogur\": 0.30, \"lejia\": 2.80, \"leche\": 0.87, \"huevo\": 0.17, \"harina\": 1.03, \"detergente\": 3.15, \"gel\": 4.19}\n",
        "dict_descuento_comercio = {\"pan\": 0.10, \"yogur\": 0.00, \"lejia\": 0.15, \"leche\": 0.05, \"huevo\": 0.2, \"harina\": 0.05, \"detergente\": 0.10, \"gel\": 0.00}\n",
        "dict_producto_precio = {}\n",
        "# 0.1 es el 10% de descuento\n",
        "\n",
        "# FUNCION QUE RECIBE UN DICCIONARIO CON LA COMPRA REALIZADA \n",
        "def funcion_calculo_importe_total_de_compra(dict_compra): \n",
        "\n",
        "\n",
        "# CALCULAR EL IMPORTE TOTAL DE LA COMPRA TENIENDO EN CUENTA LOS DESCUENTOS \"importe total = precio1 - descuento1 + precio2 - descuento2\"\n",
        "    for i in dict_compra.keys():\n",
        "        if dict_compra.keys() == dict_precio_comercio.keys():\n",
        "            dict_producto_precio = # ASIGNARLE ESE VALOR AL DICCIONARIO \n",
        "            \n",
        "\n",
        "\n",
        "\n"
      ]
    },
    {
      "cell_type": "code",
      "execution_count": 10,
      "metadata": {
        "id": "jtlPOhtKUobu"
      },
      "outputs": [],
      "source": [
        "class Tienda:\n",
        "    def __init__(self):\n",
        "        # Definir los productos y sus precios/descuentos\n",
        "        self.productos = {\n",
        "            'Pan': {'precio': 1.20, 'descuento': 0.10},\n",
        "            'Yogur': {'precio': 0.30, 'descuento': 0.00},\n",
        "            'Lejia': {'precio': 2.80, 'descuento': 0.15},\n",
        "            'Leche': {'precio': 0.87, 'descuento': 0.05},\n",
        "            'Huevo': {'precio': 0.17, 'descuento': 0.20},\n",
        "            'Harina': {'precio': 1.03, 'descuento': 0.05},\n",
        "            'Detergente': {'precio': 3.15, 'descuento': 0.10},\n",
        "            'Gel': {'precio': 4.19, 'descuento': 0.00}\n",
        "        }\n",
        "\n",
        "    def calcular_importe_total(self, compra):\n",
        "        total = 0\n",
        "        for producto, cantidad in compra.items():\n",
        "            if producto in self.productos:\n",
        "                precio_unitario = self.productos[producto]['precio']\n",
        "                descuento = self.productos[producto]['descuento']\n",
        "                precio_con_descuento = precio_unitario * (1 - descuento)\n",
        "                total += precio_con_descuento * cantidad\n",
        "            else:\n",
        "                print(f\"El producto '{producto}' no está disponible en la tienda.\")\n",
        "        return round(total, 2)\n"
      ]
    },
    {
      "cell_type": "code",
      "execution_count": 11,
      "metadata": {},
      "outputs": [
        {
          "name": "stdout",
          "output_type": "stream",
          "text": [
            "3.96\n"
          ]
        }
      ],
      "source": [
        "# Ejemplo de uso\n",
        "tienda = Tienda()\n",
        "compra = {'Pan': 2, 'Yogur': 6}\n",
        "importe_total = tienda.calcular_importe_total(compra)\n",
        "print(importe_total) "
      ]
    },
    {
      "attachments": {},
      "cell_type": "markdown",
      "metadata": {
        "id": "LaFJoGKaUobv"
      },
      "source": [
        "<h3>Ejercicio 2</h3>\n",
        "\n",
        "Desarrollar una función que reciba una lista de números enteros positivos y devuelva una lista de listas, en la que cada sublista será un par de números que representen el números de cifras pares e impares que presenta cada número.\n",
        "\n",
        "* Ejemplo:\n",
        "    * input: [124, 8771].\n",
        "    * output: [[2,1], [1,3]]."
      ]
    },
    {
      "cell_type": "code",
      "execution_count": null,
      "metadata": {
        "id": "XGfS0MjtUobv"
      },
      "outputs": [],
      "source": [
        "lista_numeros_positivos = []\n",
        "\n",
        "cantidad_numeros_a_ingresar = int()\n",
        "i = int()\n",
        "\n",
        "lista_cantidad_pares = []\n",
        "lista_cantidad_impares = []\n",
        "lista_resultado = [lista_cantidad_pares, lista_cantidad_impares]\n",
        "\n",
        "def numero_cifras_pares_impares(lista_numeros_positivos): \n",
        "\n",
        "    for value in lista_numeros_positivos[i]: \n",
        "        # ACCEDER A LAS CIFRAS DEL NUMERO Y RECORRERLAS \n",
        "\n",
        "\n"
      ]
    },
    {
      "cell_type": "code",
      "execution_count": 12,
      "metadata": {
        "id": "w5SpKpg3Uobv"
      },
      "outputs": [],
      "source": [
        "def contar_cifras_pares_impares(lista_numeros):\n",
        "    resultado = []\n",
        "    for numero in lista_numeros:\n",
        "        cifras_pares = 0\n",
        "        cifras_impares = 0\n",
        "        for digito in str(numero):\n",
        "            if int(digito) % 2 == 0:\n",
        "                cifras_pares += 1\n",
        "            else:\n",
        "                cifras_impares += 1\n",
        "        resultado.append([cifras_pares, cifras_impares])\n",
        "    return resultado"
      ]
    },
    {
      "cell_type": "code",
      "execution_count": 13,
      "metadata": {},
      "outputs": [
        {
          "name": "stdout",
          "output_type": "stream",
          "text": [
            "[[2, 1], [1, 3]]\n"
          ]
        }
      ],
      "source": [
        "# Ejemplo de uso\n",
        "numeros = [124, 8771]\n",
        "resultado = contar_cifras_pares_impares(numeros)\n",
        "print(resultado)"
      ]
    },
    {
      "attachments": {},
      "cell_type": "markdown",
      "metadata": {},
      "source": [
        "<h3>Ejercicio 3</h3>\n",
        "\n",
        "Diseñar una función que reciba un diccionario sobre las prendas (claves) y sus respectivos precios (valores) de una tienda y devuelve un diccionario con el top 3 (las tres prendas más caras).\n",
        "\n",
        "* Ejemplo:\n",
        "    * input: {'camisa': 45.50, 'pantalones':35, 'camiseta': 41.30, 'abrigo':55, 'calcetines': 24}.\n",
        "    * output: {'abrigo':55,'camisa': 45.50, 'camiseta': 41.30}."
      ]
    },
    {
      "cell_type": "code",
      "execution_count": 1,
      "metadata": {},
      "outputs": [
        {
          "name": "stdout",
          "output_type": "stream",
          "text": [
            "Los tres productos más caros son:  ['abrigo', 'camisa', 'camiseta']\n"
          ]
        }
      ],
      "source": [
        "from heapq import nlargest\n",
        "\n",
        "prendas = {\"camisa\": 45.50, \"pantalones\": 35, \"camiseta\": 41.30, \"abrigo\": 55, \"calcetines\": 24}\n",
        "\n",
        "prendas_3_mas_caras = nlargest(3, prendas, key=prendas.get)\n",
        "\n",
        "print(\"Los tres productos más caros son: \", prendas_3_mas_caras)"
      ]
    },
    {
      "cell_type": "code",
      "execution_count": 5,
      "metadata": {},
      "outputs": [],
      "source": [
        "def top_3_prendas(prendas):\n",
        "    # Ordenar el diccionario por valor en orden descendente\n",
        "    prendas_ordenadas = dict(sorted(prendas.items(), key=lambda item: item[1], reverse=True))\n",
        "    \n",
        "    # Tomar los primeros tres elementos del diccionario ordenado\n",
        "    top_3 = {k: prendas_ordenadas[k] for k in list(prendas_ordenadas)[:3]}\n",
        "    \n",
        "    return top_3"
      ]
    },
    {
      "cell_type": "code",
      "execution_count": 6,
      "metadata": {},
      "outputs": [
        {
          "name": "stdout",
          "output_type": "stream",
          "text": [
            "{'abrigo': 55, 'camisa': 45.5, 'camiseta': 41.3}\n"
          ]
        }
      ],
      "source": [
        "# Ejemplo de uso\n",
        "prendas = {'camisa': 45.50, 'pantalones':35, 'camiseta': 41.30, 'abrigo':55, 'calcetines': 24}\n",
        "top_3 = top_3_prendas(prendas)\n",
        "print(top_3)"
      ]
    },
    {
      "attachments": {},
      "cell_type": "markdown",
      "metadata": {},
      "source": [
        "<h3>Ejercicio 4</h3>\n",
        "\n",
        "Desarrollar una función que reciba una lista de números enteros positivos y devuelva una lista formada por dos listas, en la que una sublista represente el grupo de números pares y la otra sublista represente el grupo de los números impares.\n",
        "\n",
        "* Ejemplo:\n",
        "    * input: [13, 5, 2, 71, 40].\n",
        "    * output: [[13, 5, 71], [2, 40]]."
      ]
    },
    {
      "cell_type": "code",
      "execution_count": 2,
      "metadata": {},
      "outputs": [],
      "source": [
        "lista_numeros_positivos = [13, 5, 2, 71, 40]\n",
        "lista_pares = []\n",
        "lista_impares = []\n",
        "lista_resultado = [lista_pares, lista_impares]\n",
        "\n",
        "lista_resultado = [lista_pares, lista_impares]\n",
        "\n",
        "def numeros_pares_impares(lista_numeros_positivos):\n",
        "    for i in lista_numeros_positivos:\n",
        "        if i[-1] == 13579:\n",
        "            lista_impares.append(i) \n",
        "            #return lista_impares\n",
        "        elif i[-1] == 24680: \n",
        "            lista_pares.append(i)\n",
        "            #return lista_pares\n",
        "    return lista_resultado"
      ]
    },
    {
      "cell_type": "code",
      "execution_count": 14,
      "metadata": {},
      "outputs": [],
      "source": [
        "n = int(input(\"¿cuantos numeros ingresara?: \"))\n",
        "contador = 1\n",
        "mi_lista_numeros_positivos = []\n",
        "\n",
        "while contador <= n: \n",
        "    mis_numeros = int(input(\"ingrese sus numeros: \"))\n",
        "    mi_lista_numeros_positivos.append(mis_numeros)\n",
        "    mi_lista_numeros_positivos \n",
        "\n",
        "numeros_pares_impares(mi_lista_numeros_positivos)"
      ]
    },
    {
      "cell_type": "code",
      "execution_count": 1,
      "metadata": {},
      "outputs": [],
      "source": [
        "def separar_pares_impares(lista_numeros):\n",
        "    pares = []\n",
        "    impares = []\n",
        "    for numero in lista_numeros:\n",
        "        if numero % 2 == 0:\n",
        "            pares.append(numero)\n",
        "        else:\n",
        "            impares.append(numero)\n",
        "    return [impares, pares]"
      ]
    },
    {
      "cell_type": "code",
      "execution_count": 2,
      "metadata": {},
      "outputs": [
        {
          "name": "stdout",
          "output_type": "stream",
          "text": [
            "[[13, 5, 71], [2, 40]]\n"
          ]
        }
      ],
      "source": [
        "# Ejemplo de uso\n",
        "numeros = [13, 5, 2, 71, 40]\n",
        "resultado = separar_pares_impares(numeros)\n",
        "print(resultado) "
      ]
    },
    {
      "cell_type": "markdown",
      "metadata": {},
      "source": [
        "<h3>Ejercicio 5</h3>\n",
        "\n",
        "Diseñad una función que pida al usuario una dirección y sea capaz de extraer de cuantas palabras está compuesta y cuantos de los campos hacen referencia a números.\n",
        "\n",
        "* Ejemplo:\n",
        "    * input: _Urazurrutia Kalea, 3, Ibaiondo, 48003 Bilbo, Bizkaia_\n",
        "    * output: _La dirección está compuesta por 7 palabras de las cuales 2 son números._\n",
        "\n",
        "Tened cuidado con los signos de puntuación ( , . ) y en caso de tener campos compuestos ( 2A, 2ªDrch ) podéis asumirlos como palabra y no número."
      ]
    },
    {
      "cell_type": "code",
      "execution_count": 9,
      "metadata": {},
      "outputs": [],
      "source": [
        "direccion_usuario = str()\n",
        "direccion_lista = list()\n",
        "contador_palabras = 0 \n",
        "contador_numeros = 0\n",
        "\n",
        "direccion_usuario = input(\"ingrese su direccion: \")\n",
        "\n",
        "def cuantas_palabras_y_numeros_direccion(direccion_usuario): \n",
        "    \n",
        "    for palabra in direccion_usuario:\n",
        "        direccion_lista.append(palabra)\n",
        "\n",
        "    for pa in direccion_lista: \n",
        "        contador_palabras += contador_palabras # RETORNAR ESTA VARIABLE \n",
        "        if type(pa) == int: \n",
        "            contador_numeros += contador_numeros \n",
        "    #contador_palabras \n",
        "    #contador_numeros \n",
        "    return print(f\"La direccion esta compuesta por {contador_palabras} palabras de las cuales {contador_numeros} son numeros\")\n",
        "\n"
      ]
    },
    {
      "cell_type": "code",
      "execution_count": 3,
      "metadata": {},
      "outputs": [],
      "source": [
        "import re\n",
        "\n",
        "def analizar_direccion(direccion):\n",
        "    # Dividir la dirección en palabras utilizando expresiones regulares\n",
        "    palabras = re.findall(r'\\b\\w+\\b', direccion)\n",
        "    \n",
        "    # Inicializar contadores\n",
        "    total_palabras = len(palabras)\n",
        "    numeros = 0\n",
        "    \n",
        "    # Contar cuántas palabras son números\n",
        "    for palabra in palabras:\n",
        "        if palabra.isdigit():\n",
        "            numeros += 1\n",
        "    \n",
        "    return total_palabras, numeros \n"
      ]
    },
    {
      "cell_type": "code",
      "execution_count": 4,
      "metadata": {},
      "outputs": [
        {
          "name": "stdout",
          "output_type": "stream",
          "text": [
            "La dirección está compuesta por 7 palabras de las cuales 2 son números.\n"
          ]
        }
      ],
      "source": [
        "# Ejemplo de uso\n",
        "direccion = \"Urazurrutia Kalea, 3, Ibaiondo, 48003 Bilbo, Bizkaia\"\n",
        "total_palabras, numeros = analizar_direccion(direccion)\n",
        "print(f\"La dirección está compuesta por {total_palabras} palabras de las cuales {numeros} son números.\")"
      ]
    }
  ],
  "metadata": {
    "colab": {
      "provenance": []
    },
    "kernelspec": {
      "display_name": "Python 3 (ipykernel)",
      "language": "python",
      "name": "python3"
    },
    "language_info": {
      "codemirror_mode": {
        "name": "ipython",
        "version": 3
      },
      "file_extension": ".py",
      "mimetype": "text/x-python",
      "name": "python",
      "nbconvert_exporter": "python",
      "pygments_lexer": "ipython3",
      "version": "3.12.3"
    }
  },
  "nbformat": 4,
  "nbformat_minor": 0
}
