{
 "cells": [
  {
   "cell_type": "markdown",
   "metadata": {},
   "source": [
    "![imagen](./img/ejercicios.png)"
   ]
  },
  {
   "cell_type": "code",
   "execution_count": 1,
   "metadata": {},
   "outputs": [],
   "source": [
    "import numpy as np # HACER ESTOS EJERCICIOS, ANALIZAR UTILIZAR \"PANDAS\"\n"
   ]
  },
  {
   "cell_type": "markdown",
   "metadata": {},
   "source": [
    "## Ejercicio 1\n",
    "1. Crea un array que vaya del 0 al 9 y que se llame `my_array`\n",
    "2. Imprime por pantalla los elementos [9 7 5 3 1] en ese orden."
   ]
  },
  {
   "cell_type": "code",
   "execution_count": 2,
   "metadata": {},
   "outputs": [],
   "source": [
    "import numpy as np"
   ]
  },
  {
   "cell_type": "code",
   "execution_count": 17,
   "metadata": {},
   "outputs": [
    {
     "name": "stdout",
     "output_type": "stream",
     "text": [
      "[9 7 5 3 1]\n"
     ]
    }
   ],
   "source": [
    "my_array = np.arange(10)\n",
    "print(my_array[::-2]) # :: IMPRIME TODOS LOS DATOS \n",
    "                       # -2 EL 2 HACE QUE SE IMPRIMA UNO POR MEDIO, Y EL (-) HACE QUE SE IMPRIMAN DE ATRAS PARA ADELANTE "
   ]
  },
  {
   "cell_type": "markdown",
   "metadata": {},
   "source": [
    "## Ejercicio 2\n",
    "Imprime por pantalla la secuencia [8 7] del array `my_array`"
   ]
  },
  {
   "cell_type": "code",
   "execution_count": 27,
   "metadata": {},
   "outputs": [
    {
     "name": "stdout",
     "output_type": "stream",
     "text": [
      "[8 7]\n"
     ]
    }
   ],
   "source": [
    "print(my_array[-2:-4:-1])"
   ]
  },
  {
   "cell_type": "markdown",
   "metadata": {},
   "source": [
    "## Ejercicio 3\n",
    "Imprime por pantalla la secuencia [2 1 0] de `my_array`"
   ]
  },
  {
   "cell_type": "code",
   "execution_count": 29,
   "metadata": {},
   "outputs": [
    {
     "name": "stdout",
     "output_type": "stream",
     "text": [
      "[2 1 0]\n"
     ]
    }
   ],
   "source": [
    "print(my_array[2::-1])"
   ]
  },
  {
   "cell_type": "markdown",
   "metadata": {},
   "source": [
    "## Ejercicio 4\n",
    "1. Crea una matriz de 4x5, con una secuencia del 1 al 20\n",
    "2. Invierte totalmente la matriz. Tanto las filas, como las columnas"
   ]
  },
  {
   "cell_type": "code",
   "execution_count": 41,
   "metadata": {},
   "outputs": [
    {
     "name": "stdout",
     "output_type": "stream",
     "text": [
      "[[20 19 18 17 16]\n",
      " [15 14 13 12 11]\n",
      " [10  9  8  7  6]\n",
      " [ 5  4  3  2  1]]\n"
     ]
    }
   ],
   "source": [
    "matriz = np.arange(1, 21).reshape(4, 5) \n",
    "#print(matriz)\n",
    "'''la matriz es: \n",
    "[[ 1  2  3  4  5]\n",
    " [ 6  7  8  9 10]\n",
    " [11 12 13 14 15]\n",
    " [16 17 18 19 20]]\n",
    "\n",
    "'''\n",
    "\n",
    "# invertir la matriz totalmente  \n",
    "matriz_invertida = np.flip(matriz, axis=0) # con axis = 0, lo único que hace es cambiar el orden de las filas de la matriz \n",
    "                                            # la funcion \"flip() invierte la matriz\", ya sea en un eje o totalmente \n",
    "''' muestra el resultado: \n",
    "[[16 17 18 19 20]\n",
    " [11 12 13 14 15]\n",
    " [ 6  7  8  9 10]\n",
    " [ 1  2  3  4  5]]'''\n",
    "matriz_invertida = np.flip(matriz_invertida, axis=1) # con axis = 1, cambia las filas y las columnas de la matriz, es decir, la cambia totalmente \n",
    "''' la linea de arriba muestra el resultado: \n",
    "[[20 19 18 17 16]\n",
    " [15 14 13 12 11]\n",
    " [10  9  8  7  6]\n",
    " [ 5  4  3  2  1]]'''\n",
    "print(matriz_invertida) "
   ]
  },
  {
   "cell_type": "markdown",
   "metadata": {},
   "source": [
    "## Ejercicio 5\n",
    "\n",
    "Obtén el siguiente array, partiendo de la matriz del ejercicio 4\n",
    "```Python\n",
    "array([[1, 2],\n",
    "       [6, 7]])\n",
    "```"
   ]
  },
  {
   "cell_type": "code",
   "execution_count": 42,
   "metadata": {},
   "outputs": [
    {
     "name": "stdout",
     "output_type": "stream",
     "text": [
      "[[1 2]\n",
      " [6 7]]\n"
     ]
    }
   ],
   "source": [
    "matriz_datos = np.arange(1, 21).reshape(4, 5) \n",
    "\n",
    "matriz_resultado = matriz_datos[:2, :2] # ESTE COMANDO LO QUE ME DICE ES QUE DE LA MATRIZ ORIGINAL, VOY A EXTRAER LOS ELEMENTOS QUE ABARCAN EN EL EJE X EN LA POSICION 1º Y 2º\n",
    "                                   # Y EN EL EJE Y LOS ELEMENTOS QUE ESTAN INCLUIDOS DESDE LAS POSICIONES 1º Y 2º, ES COMO HACER UNA VENTANA DE SELECCION CON EL RATON CON ESOS RANGOS DE AMPLITUD  \n",
    "print(matriz_resultado)"
   ]
  },
  {
   "cell_type": "markdown",
   "metadata": {},
   "source": [
    "## Ejercicio 6\n",
    "Obtén el siguiente array, partiendo de la matriz del ejercicio 4\n",
    "```Python\n",
    "array([[ 1,  3,  5],\n",
    "       [11, 13, 15]])\n",
    "```"
   ]
  },
  {
   "cell_type": "code",
   "execution_count": 95,
   "metadata": {},
   "outputs": [
    {
     "ename": "IndexError",
     "evalue": "shape mismatch: indexing arrays could not be broadcast together with shapes (2,) (3,) ",
     "output_type": "error",
     "traceback": [
      "\u001b[1;31m---------------------------------------------------------------------------\u001b[0m",
      "\u001b[1;31mIndexError\u001b[0m                                Traceback (most recent call last)",
      "Cell \u001b[1;32mIn[95], line 2\u001b[0m\n\u001b[0;32m      1\u001b[0m matriz_datos \u001b[38;5;241m=\u001b[39m np\u001b[38;5;241m.\u001b[39marange(\u001b[38;5;241m1\u001b[39m, \u001b[38;5;241m21\u001b[39m)\u001b[38;5;241m.\u001b[39mreshape(\u001b[38;5;241m4\u001b[39m, \u001b[38;5;241m5\u001b[39m)\n\u001b[1;32m----> 2\u001b[0m matriz_resultado \u001b[38;5;241m=\u001b[39m \u001b[43mmatriz_datos\u001b[49m\u001b[43m[\u001b[49m\u001b[43m[\u001b[49m\u001b[38;5;241;43m0\u001b[39;49m\u001b[43m,\u001b[49m\u001b[43m \u001b[49m\u001b[38;5;241;43m2\u001b[39;49m\u001b[43m]\u001b[49m\u001b[43m,\u001b[49m\u001b[43m \u001b[49m\u001b[43m[\u001b[49m\u001b[38;5;241;43m0\u001b[39;49m\u001b[43m,\u001b[49m\u001b[43m \u001b[49m\u001b[38;5;241;43m2\u001b[39;49m\u001b[43m,\u001b[49m\u001b[43m \u001b[49m\u001b[38;5;241;43m4\u001b[39;49m\u001b[43m]\u001b[49m\u001b[43m]\u001b[49m\n\u001b[0;32m      3\u001b[0m \u001b[38;5;28mprint\u001b[39m(matriz_resultado)\n",
      "\u001b[1;31mIndexError\u001b[0m: shape mismatch: indexing arrays could not be broadcast together with shapes (2,) (3,) "
     ]
    }
   ],
   "source": [
    "matriz_datos = np.arange(1, 21).reshape(4, 5)\n",
    "matriz_resultado = matriz_datos[[0, 2], [0, 2, 4]]\n",
    "print(matriz_resultado)"
   ]
  },
  {
   "cell_type": "markdown",
   "metadata": {},
   "source": [
    "## Ejercicio 7\n",
    "Obtén el siguiente array, partiendo de la matriz del ejercicio 4\n",
    "```Python\n",
    "array([[ 5,  4,  3,  2,  1],\n",
    "       [10,  9,  8,  7,  6],\n",
    "       [15, 14, 13, 12, 11]])\n",
    "```"
   ]
  },
  {
   "cell_type": "code",
   "execution_count": 68,
   "metadata": {},
   "outputs": [
    {
     "name": "stdout",
     "output_type": "stream",
     "text": [
      "[[ 5  4  3  2  1]\n",
      " [10  9  8  7  6]\n",
      " [15 14 13 12 11]]\n"
     ]
    }
   ],
   "source": [
    "matriz_datos = np.arange(1, 21).reshape(4, 5)\n",
    "matriz_resultado = matriz_datos[:3, ::-1]\n",
    "\n",
    "print(matriz_resultado)"
   ]
  },
  {
   "cell_type": "markdown",
   "metadata": {},
   "source": [
    "## Ejercicio 8\n",
    "Dado el siguiente array:\n",
    "\n",
    "```Python\n",
    "x = np.array([\"Loro\", \"Perro\", \"Gato\", \"Loro\", \"Perro\"])\n",
    "```\n",
    "\n",
    "Filtra el array para quedarte únicamente con los loros.\n",
    "\n",
    "Resuélvelo de dos maneras diferentes"
   ]
  },
  {
   "cell_type": "code",
   "execution_count": 70,
   "metadata": {},
   "outputs": [
    {
     "name": "stdout",
     "output_type": "stream",
     "text": [
      "['Loro' 'Loro']\n"
     ]
    }
   ],
   "source": [
    "# SOLUCION 1\n",
    "\n",
    "x = np.array([\"Loro\", \"Perro\", \"Gato\", \"Loro\", \"Perro\"])\n",
    "\n",
    "filtro_resultado = x[x == \"Loro\"] # LE ASIGNO A LA VARIABLE RESULTADO DIRECTAMENTE LA CONDICION PARA ESCOGER LOS ELEMENTOS \n",
    "print(filtro_resultado)"
   ]
  },
  {
   "cell_type": "code",
   "execution_count": 72,
   "metadata": {},
   "outputs": [
    {
     "name": "stdout",
     "output_type": "stream",
     "text": [
      "['Loro' 'Loro']\n"
     ]
    }
   ],
   "source": [
    "# SOLUCION 2 \n",
    "\n",
    "x = np.array([\"Loro\", \"Perro\", \"Gato\", \"Loro\", \"Perro\"])\n",
    "\n",
    "indices = np.where(x == \"Loro\") # UTILIZA LA FUNCION WHERE PARA BUSCAR QUE VARIABLES SON \"LOROS\" Y LE ASIGNA SU POSICION A UNA VARIABLE \n",
    "filtro_resultado = x[indices]    # VA A LA POSICION DE LOS ELEMENTOS EN LA VARIABLE QUE LOS CONTIENE Y SE LOS ASIGNA A OTRA VARIABLE \n",
    "print(filtro_resultado) "
   ]
  },
  {
   "cell_type": "markdown",
   "metadata": {},
   "source": [
    "## Ejercicio 9\n",
    "Crea una secuencia de 20 elementos y transfórmala en un array compuesto por 2 matrices de 5x2"
   ]
  },
  {
   "cell_type": "code",
   "execution_count": 75,
   "metadata": {},
   "outputs": [
    {
     "name": "stdout",
     "output_type": "stream",
     "text": [
      "[[[ 0  1]\n",
      "  [ 2  3]\n",
      "  [ 4  5]\n",
      "  [ 6  7]\n",
      "  [ 8  9]]\n",
      "\n",
      " [[10 11]\n",
      "  [12 13]\n",
      "  [14 15]\n",
      "  [16 17]\n",
      "  [18 19]]]\n"
     ]
    }
   ],
   "source": [
    "# Crear una secuencia de 20 elementos\n",
    "array_secuencia = np.arange(20)\n",
    "\n",
    "# Transformar la secuencia en un array de 2 matrices de 5x2\n",
    "array_matrices = array_secuencia.reshape(2, 5, 2) # ASIGNACION DE LOS DATOS DEL ARRAY A 2 \"MATRICES DE 5 X 2\" \n",
    "                                                   # RESHAPE TIENE LAS DIMENSIONES DE LA NUEVA ESTRUCTURA; FILAS, COLUMNAS, CANTIDAD (DE MATRICES) \n",
    "print(array_matrices)"
   ]
  },
  {
   "cell_type": "markdown",
   "metadata": {},
   "source": [
    "## Ejercicio 10\n",
    "\n",
    "Crea un array de 10 0s. ¿Cuánto ocupa en memoria?\n",
    "\n",
    "Sustituye el 4to elemento por 1, e imprime el array por pantalla"
   ]
  },
  {
   "cell_type": "code",
   "execution_count": 76,
   "metadata": {},
   "outputs": [
    {
     "name": "stdout",
     "output_type": "stream",
     "text": [
      "[0. 0. 0. 1. 0. 0. 0. 0. 0. 0.]\n",
      "El array ocupa 80 bytes en memoria.\n"
     ]
    }
   ],
   "source": [
    "# Crear un array de 10 ceros\n",
    "array = np.zeros(10) # LA FUNCION ZERO() CREA UN ARRAY DE CEROS DE LA DIMENSION QUE SE LE INDIQUE \n",
    "\n",
    "# Sustituir el cuarto elemento por 1\n",
    "array[3] = 1 # 4º ELEMENTO \n",
    "\n",
    "# Imprimir el array por pantalla\n",
    "print(array)\n",
    "\n",
    "# Calcular el tamaño en memoria del array\n",
    "tamaño_memoria = array.nbytes # LA FUNCION NBYTES() CALCULA EL TAMAÑO EN MEMORIA QUE OCUPA EN ESTE CASO LA VARIABLE \"ARRAY\"\n",
    "\n",
    "print(\"El array ocupa\", tamaño_memoria, \"bytes en memoria.\")"
   ]
  },
  {
   "cell_type": "markdown",
   "metadata": {},
   "source": [
    "## Ejercicio 11\n",
    "\n",
    "Crea un vector que vaya del 10 al 49\n",
    "\n",
    "Inviértelo"
   ]
  },
  {
   "cell_type": "code",
   "execution_count": 77,
   "metadata": {},
   "outputs": [
    {
     "name": "stdout",
     "output_type": "stream",
     "text": [
      "[49 48 47 46 45 44 43 42 41 40 39 38 37 36 35 34 33 32 31 30 29 28 27 26\n",
      " 25 24 23 22 21 20 19 18 17 16 15 14 13 12 11 10]\n"
     ]
    }
   ],
   "source": [
    "# Crear un vector que vaya del 10 al 49\n",
    "vector = np.arange(10, 50)\n",
    "\n",
    "# Invertir el vector\n",
    "vector_invertido = np.flip(vector) # LA FUNCON FLIP() INVIERTE EN ESTE CASO A UN VECTOR \n",
    "\n",
    "# Imprimir el vector invertido por pantalla\n",
    "print(vector_invertido)"
   ]
  },
  {
   "cell_type": "markdown",
   "metadata": {},
   "source": [
    "## Ejercicio 12\n",
    "Encuentra los índices de los valores que no sean 0 del siguiente vector [1,2,0,0,4,0]. El output sería [0, 1, 4]. [Encuentra el método apropiado en la documentación.](https://numpy.org/doc/) Encapsúlalo en una función, con un argumento de entrada de un vector."
   ]
  },
  {
   "cell_type": "code",
   "execution_count": 78,
   "metadata": {},
   "outputs": [
    {
     "name": "stdout",
     "output_type": "stream",
     "text": [
      "[0 1 4]\n"
     ]
    }
   ],
   "source": [
    "def indices_no_cero(vector): # DEVUELVE LAS POSICIONES DE LOS VALORES QUE NO SON \"O\"S DEL VECTOR \n",
    "    # Encontrar los índices de los valores que no sean cero\n",
    "    indices = np.nonzero(vector)[0]\n",
    "    return indices\n",
    "\n",
    "# Vector dado\n",
    "vector = np.array([1, 2, 0, 0, 4, 0])\n",
    "\n",
    "# Llamar a la función y obtener los índices\n",
    "resultado = indices_no_cero(vector)\n",
    "\n",
    "print(resultado) "
   ]
  },
  {
   "attachments": {},
   "cell_type": "markdown",
   "metadata": {},
   "source": [
    "## Ejercicio 13\n",
    "Crea una matriz de números aleatorios 10x10. Encuentra los valores mínimo y máximo."
   ]
  },
  {
   "cell_type": "code",
   "execution_count": 79,
   "metadata": {},
   "outputs": [
    {
     "name": "stdout",
     "output_type": "stream",
     "text": [
      "Valor mínimo: 0.002211982702705173\n",
      "Valor máximo: 0.9587681260806983\n"
     ]
    }
   ],
   "source": [
    "# Crear una matriz de números aleatorios 10x10\n",
    "matriz = np.random.rand(10, 10)\n",
    "\n",
    "# Encontrar el valor mínimo\n",
    "minimo = np.min(matriz)\n",
    "\n",
    "# Encontrar el valor máximo\n",
    "maximo = np.max(matriz)\n",
    "\n",
    "print(\"Valor mínimo:\", minimo)\n",
    "print(\"Valor máximo:\", maximo) "
   ]
  },
  {
   "cell_type": "markdown",
   "metadata": {},
   "source": [
    "## Ejercicio 14\n",
    "Crea un vector aleatorio de tamaño 30 y calcula su media"
   ]
  },
  {
   "cell_type": "code",
   "execution_count": 80,
   "metadata": {},
   "outputs": [
    {
     "name": "stdout",
     "output_type": "stream",
     "text": [
      "La media del vector aleatorio es: 0.53168580987847\n"
     ]
    }
   ],
   "source": [
    "# Crear un vector aleatorio de tamaño 30\n",
    "vector = np.random.rand(30)\n",
    "\n",
    "# Calcular la media del vector\n",
    "media = np.mean(vector)\n",
    "\n",
    "print(\"La media del vector aleatorio es:\", media) "
   ]
  },
  {
   "cell_type": "markdown",
   "metadata": {},
   "source": [
    "## Ejercicio 15\n",
    "Crea un array cuadrado de 2D, con las dimensiones que quieras, pero que todo el borde esté compuesto por 1s, y el interior por 0s"
   ]
  },
  {
   "cell_type": "code",
   "execution_count": 81,
   "metadata": {},
   "outputs": [
    {
     "name": "stdout",
     "output_type": "stream",
     "text": [
      "[[1. 1. 1. 1. 1.]\n",
      " [1. 0. 0. 0. 1.]\n",
      " [1. 0. 0. 0. 1.]\n",
      " [1. 0. 0. 0. 1.]\n",
      " [1. 1. 1. 1. 1.]]\n"
     ]
    }
   ],
   "source": [
    "# Definir las dimensiones del array\n",
    "filas = 5\n",
    "columnas = 5\n",
    "\n",
    "# Crear un array lleno de unos\n",
    "array = np.ones((filas, columnas)) # LA FUNCION ONES() CREAR UN VECTOR DE 1 s \n",
    "\n",
    "# Actualizar el interior con ceros\n",
    "array[1:-1, 1:-1] = 0 # SE LE ASIGNA EL VALOR \"0\" A LOS VALORES DE LA VARIABLE ARRAY EN EL RANGO QUE SE ESPECIFICA  \n",
    "\n",
    "print(array) "
   ]
  },
  {
   "cell_type": "markdown",
   "metadata": {},
   "source": [
    "## Ejercicio 16\n",
    "Crea una matriz de 8x8, y rellénala con 0s y 1s. Tienes que replicar:\n",
    "```Python\n",
    "[[0 1 0 1 0 1 0 1]\n",
    " [1 0 1 0 1 0 1 0]\n",
    " [0 1 0 1 0 1 0 1]\n",
    " [1 0 1 0 1 0 1 0]\n",
    " [0 1 0 1 0 1 0 1]\n",
    " [1 0 1 0 1 0 1 0]\n",
    " [0 1 0 1 0 1 0 1]\n",
    " [1 0 1 0 1 0 1 0]]\n",
    "```"
   ]
  },
  {
   "cell_type": "code",
   "execution_count": 92,
   "metadata": {},
   "outputs": [
    {
     "name": "stdout",
     "output_type": "stream",
     "text": [
      "[[0 1 0 1 0 1 0 1]\n",
      " [1 0 1 0 1 0 1 0]\n",
      " [0 1 0 1 0 1 0 1]\n",
      " [1 0 1 0 1 0 1 0]\n",
      " [0 1 0 1 0 1 0 1]\n",
      " [1 0 1 0 1 0 1 0]\n",
      " [0 1 0 1 0 1 0 1]\n",
      " [1 0 1 0 1 0 1 0]]\n"
     ]
    }
   ],
   "source": [
    "# Crear una matriz de 8x8\n",
    "matriz = np.zeros((8, 8), dtype=int) # A LA MATRIZ SE LE ASIGNAN SOLAMENTE VALORES = 0 \n",
    "\n",
    "# Alternar entre 0s y 1s siguiendo el patrón dado\n",
    "matriz[::2, 1::2] = 1 # DESDE LA PRIMERA POSICION EN EL EJE \"Y\" Y LA SEGUNDA POSICION EN EL EJE \"X\" SE INTERCALAN EN FILAS POR MEDIO Y POSICION POR MEDIO LOS NUMEROS \"1\"\n",
    "'''[[0 1 0 1 0 1 0 1]\n",
    "    [0 0 0 0 0 0 0 0]\n",
    "    [0 1 0 1 0 1 0 1]\n",
    "    [0 0 0 0 0 0 0 0]\n",
    "    [0 1 0 1 0 1 0 1]\n",
    "    [0 0 0 0 0 0 0 0]\n",
    "    [0 1 0 1 0 1 0 1]\n",
    "    [0 0 0 0 0 0 0 0]]'''\n",
    "matriz[1::2, ::2] = 1 # DESDE LA SEGUNDA POSICION EN EL EJE \"Y\" Y LA PRIMERA POSICION EN EL EJE \"X\" SE INTERCALAN EN FILAS POR MEDIO Y POSICIONES POR MEDIO LOS NUMEROS \"1\"\n",
    "'''[[0 0 0 0 0 0 0 0]\n",
    "    [1 0 1 0 1 0 1 0]\n",
    "    [0 0 0 0 0 0 0 0]\n",
    "    [1 0 1 0 1 0 1 0]\n",
    "    [0 0 0 0 0 0 0 0]\n",
    "    [1 0 1 0 1 0 1 0]\n",
    "    [0 0 0 0 0 0 0 0]\n",
    "    [1 0 1 0 1 0 1 0]]'''\n",
    "print(matriz) "
   ]
  },
  {
   "cell_type": "markdown",
   "metadata": {},
   "source": [
    "## Ejercicio 17\n",
    "Replica la matriz del apartado anterior, pero en este caso usando [la función `tile`](https://numpy.org/doc/stable/reference/generated/numpy.tile.html)"
   ]
  },
  {
   "cell_type": "code",
   "execution_count": 87,
   "metadata": {},
   "outputs": [
    {
     "name": "stdout",
     "output_type": "stream",
     "text": [
      "[[0 1 0 1 0 1 0 1]\n",
      " [1 0 1 0 1 0 1 0]\n",
      " [0 1 0 1 0 1 0 1]\n",
      " [1 0 1 0 1 0 1 0]\n",
      " [0 1 0 1 0 1 0 1]\n",
      " [1 0 1 0 1 0 1 0]\n",
      " [0 1 0 1 0 1 0 1]\n",
      " [1 0 1 0 1 0 1 0]]\n"
     ]
    }
   ],
   "source": [
    "# Definir la matriz base\n",
    "matriz_base = np.array([[0, 1],\n",
    "                        [1, 0]])\n",
    "\n",
    "# Usar np.tile() para replicar la matriz base\n",
    "matriz = np.tile(matriz_base, (4, 4)) # LA \"FUNCION TILE()\" RECIBE UNA MATRIZ BASE COMO PARAMETRO DE ENTRADA, Y LA REPITE LAS VECES QUE \n",
    "                                       # SE LE INDIQUE TANTO EN EL EJE Y COMO EN EL EJE X FORMANDO UNA NUEVA MATRIZ \n",
    "print(matriz)"
   ]
  },
  {
   "cell_type": "markdown",
   "metadata": {},
   "source": [
    "## Ejercicio 18\n",
    "Crea una matriz aleatoria de 5x5 y normaliza sus valores. Para normalizar tienes que restar sus valores por la media(`np.mean`) y dividir el resultado por la desviación estándar(`np.std`)."
   ]
  },
  {
   "cell_type": "code",
   "execution_count": 93,
   "metadata": {},
   "outputs": [
    {
     "name": "stdout",
     "output_type": "stream",
     "text": [
      "Matriz original:\n",
      "[[0.4569142  0.37655099 0.35460661 0.23247996 0.57436626]\n",
      " [0.92239638 0.0294834  0.69097568 0.66218099 0.80160822]\n",
      " [0.12173882 0.38123618 0.71471791 0.69460554 0.53431635]\n",
      " [0.68015784 0.8384034  0.70259166 0.25080984 0.63961131]\n",
      " [0.15525041 0.44843184 0.39601075 0.19918463 0.8662513 ]]\n",
      "\n",
      "Matriz normalizada:\n",
      "[[-0.21013024 -0.53437006 -0.62290863 -1.11565056  0.26375124]\n",
      " [ 1.66794135 -1.93467667  0.7342329   0.61805556  1.1805998 ]\n",
      " [-1.56245559 -0.51546683  0.8300252   0.74887823  0.10216265]\n",
      " [ 0.69058639  1.32905657  0.78109966 -1.04169537  0.52699413]\n",
      " [-1.42724707 -0.24435385 -0.45585617 -1.24998656  1.44141393]]\n"
     ]
    }
   ],
   "source": [
    "# Crear una matriz aleatoria de 5x5\n",
    "matriz = np.random.rand(5, 5) # GENERA UNA MATRIZ DE FORMAS ESPECÍFICAS Y LA LLENA CON VALORES ALEATORIOS DISTRIBUIDOS UNIFORMEMENTE ENTRE 0 Y 1 \n",
    "\n",
    "# Calcular la media y la desviación estándar de la matriz\n",
    "media = np.mean(matriz)\n",
    "desviacion_estandar = np.std(matriz)\n",
    "\n",
    "# Normalizar la matriz\n",
    "matriz_normalizada = (matriz - media) / desviacion_estandar\n",
    "\n",
    "print(\"Matriz original:\")\n",
    "print(matriz)\n",
    "print(\"\\nMatriz normalizada:\")\n",
    "print(matriz_normalizada) "
   ]
  },
  {
   "cell_type": "markdown",
   "metadata": {},
   "source": [
    "## Ejercicio 19\n",
    "1. Crea una secuencia de números que vayan del 0 al 10.\n",
    "2. Crea un nuevo array, que parta del anterior, pero sustituya por el valor -1, todos los elementos cuyo valor se encuentre entre el 3 y el 8.\n",
    "3. Crea un nuevo array que niegue todos los elementos entre el 3 y el 8"
   ]
  },
  {
   "cell_type": "code",
   "execution_count": 94,
   "metadata": {},
   "outputs": [
    {
     "name": "stdout",
     "output_type": "stream",
     "text": [
      "Secuencia original:\n",
      "[ 0  1  2  3  4  5  6  7  8  9 10]\n",
      "\n",
      "Nuevo array con elementos entre 3 y 8 sustituidos por -1:\n",
      "[ 0  1  2 -1 -1 -1 -1 -1 -1  9 10]\n",
      "\n",
      "Nuevo array que niega los elementos entre 3 y 8:\n",
      "[ 0  1  2 -4 -5 -6 -7 -8 -9  9 10]\n"
     ]
    }
   ],
   "source": [
    "# Paso 1: Crear una secuencia de números del 0 al 10\n",
    "secuencia = np.arange(11) # LA VARIABLE \"SECUENCIA\" ALMACENA UN DATO DEL TIPO ARREGLO QUE CONTIENE 11 NÚMEROS. \n",
    "\n",
    "# Paso 2: Crear un nuevo array que sustituya los valores entre 3 y 8 por -1\n",
    "nuevo_array = np.where((secuencia >= 3) & (secuencia <= 8), -1, secuencia) # LA FUNCIÓN \"WHERE()\" BUSCA EN UNA VARIABLE QUE SE CUMPLAN LAS CONDICIONES INGRESADAS Y \n",
    "                                                                            # UNA VEZ IDENTIFICADOS DICHOS DATOS LOS OPERA SEGUN LO INDICADO \n",
    "# Paso 3: Crear un nuevo array que niegue los elementos entre 3 y 8\n",
    "array_negado = np.where((secuencia >= 3) & (secuencia <= 8), ~secuencia, secuencia) # ~ ES UN OPERADOR QUE NIEGA EL NÚMERO ASIGNADO, ESPECIFICAMENTE CAMBIA SU SIGNO Y SU VALOR \n",
    "\n",
    "print(\"Secuencia original:\")\n",
    "print(secuencia)\n",
    "print(\"\\nNuevo array con elementos entre 3 y 8 sustituidos por -1:\")\n",
    "print(nuevo_array)\n",
    "print(\"\\nNuevo array que niega los elementos entre 3 y 8:\")\n",
    "print(array_negado)"
   ]
  }
 ],
 "metadata": {
  "kernelspec": {
   "display_name": "Python 3.7.4 64-bit",
   "language": "python",
   "name": "python3"
  },
  "language_info": {
   "codemirror_mode": {
    "name": "ipython",
    "version": 3
   },
   "file_extension": ".py",
   "mimetype": "text/x-python",
   "name": "python",
   "nbconvert_exporter": "python",
   "pygments_lexer": "ipython3",
   "version": "3.12.3"
  },
  "vscode": {
   "interpreter": {
    "hash": "90139cb9a825bf3d63f6f6704e828dbd1ff7edbd4d0c6e906a71235d6efc74af"
   }
  }
 },
 "nbformat": 4,
 "nbformat_minor": 4
}
