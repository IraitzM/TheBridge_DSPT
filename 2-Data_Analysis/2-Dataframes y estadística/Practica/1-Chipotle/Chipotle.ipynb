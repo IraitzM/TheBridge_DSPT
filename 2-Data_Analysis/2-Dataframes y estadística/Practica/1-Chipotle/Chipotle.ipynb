{
 "cells": [
  {
   "attachments": {},
   "cell_type": "markdown",
   "metadata": {},
   "source": [
    "Importamos las librerías Pandas y Numpy"
   ]
  },
  {
   "cell_type": "code",
   "execution_count": 2,
   "metadata": {},
   "outputs": [],
   "source": [
    "import pandas as pd\n",
    "import numpy as np"
   ]
  },
  {
   "attachments": {},
   "cell_type": "markdown",
   "metadata": {},
   "source": [
    "### Step 2. Tomaremos el fichero en [esta URL](https://raw.githubusercontent.com/justmarkham/DAT8/master/data/chipotle.tsv) y lo leeremos como un dataframe.\n",
    "\n",
    "Pista: [read_csv](https://numpy.org/doc/stable/user/absolute_beginners.html#importing-and-exporting-a-csv)"
   ]
  },
  {
   "cell_type": "code",
   "execution_count": 21,
   "metadata": {},
   "outputs": [],
   "source": [
    "url = \"https://raw.githubusercontent.com/justmarkham/DAT8/master/data/chipotle.tsv\"\n",
    "\n",
    "df = pd.read_csv(url, sep='\\t')"
   ]
  },
  {
   "attachments": {},
   "cell_type": "markdown",
   "metadata": {},
   "source": [
    "### Step 3. Veamos los tipos de datos. ¿Podríamos obtener el producto de mayor precio?"
   ]
  },
  {
   "cell_type": "code",
   "execution_count": 26,
   "metadata": {},
   "outputs": [
    {
     "name": "stdout",
     "output_type": "stream",
     "text": [
      "Primeros registros del DataFrame:\n",
      "   order_id  quantity                              item_name  \\\n",
      "0         1         1           Chips and Fresh Tomato Salsa   \n",
      "1         1         1                                   Izze   \n",
      "2         1         1                       Nantucket Nectar   \n",
      "3         1         1  Chips and Tomatillo-Green Chili Salsa   \n",
      "4         2         2                           Chicken Bowl   \n",
      "\n",
      "                                  choice_description item_price  \n",
      "0                                                NaN     $2.39   \n",
      "1                                       [Clementine]     $3.39   \n",
      "2                                            [Apple]     $3.39   \n",
      "3                                                NaN     $2.39   \n",
      "4  [Tomatillo-Red Chili Salsa (Hot), [Black Beans...    $16.98   \n",
      "\n",
      "Tipos de datos:\n",
      "order_id               int64\n",
      "quantity               int64\n",
      "item_name             object\n",
      "choice_description    object\n",
      "item_price            object\n",
      "dtype: object\n",
      "\n",
      "Producto de mayor precio:\n",
      "order_id                                      1443\n",
      "quantity                                        15\n",
      "item_name             Chips and Fresh Tomato Salsa\n",
      "choice_description                             NaN\n",
      "item_price                                   44.25\n",
      "Name: 3598, dtype: object\n"
     ]
    }
   ],
   "source": [
    "# Ver los primeros cinco registros del DataFrame\n",
    "print(\"Primeros registros del DataFrame:\")\n",
    "print(df.head())\n",
    "\n",
    "# Ver los tipos de datos\n",
    "print(\"\\nTipos de datos:\")\n",
    "print(df.dtypes)\n",
    "\n",
    "# Convertir la columna 'item_price' a un tipo numérico del tipo float \n",
    "df['item_price'] = df['item_price'].str.replace('$', '').astype(float)\n",
    "\n",
    "# Obtener el producto de mayor precio\n",
    "max_price_row = df.loc[df['item_price'].idxmax()]\n",
    "\n",
    "print(\"\\nProducto de mayor precio:\")\n",
    "print(max_price_row)"
   ]
  },
  {
   "attachments": {},
   "cell_type": "markdown",
   "metadata": {},
   "source": [
    "### Step 4. ¿Qué productos cuestan más de $10?"
   ]
  },
  {
   "cell_type": "code",
   "execution_count": 28,
   "metadata": {},
   "outputs": [
    {
     "name": "stdout",
     "output_type": "stream",
     "text": [
      "\n",
      "Productos que cuestan más de $10:\n",
      "      order_id  quantity           item_name  \\\n",
      "4            2         2        Chicken Bowl   \n",
      "5            3         1        Chicken Bowl   \n",
      "7            4         1       Steak Burrito   \n",
      "13           7         1        Chicken Bowl   \n",
      "23          12         1     Chicken Burrito   \n",
      "...        ...       ...                 ...   \n",
      "4610      1830         1       Steak Burrito   \n",
      "4611      1830         1      Veggie Burrito   \n",
      "4617      1833         1       Steak Burrito   \n",
      "4618      1833         1       Steak Burrito   \n",
      "4619      1834         1  Chicken Salad Bowl   \n",
      "\n",
      "                                     choice_description  item_price  \n",
      "4     [Tomatillo-Red Chili Salsa (Hot), [Black Beans...       16.98  \n",
      "5     [Fresh Tomato Salsa (Mild), [Rice, Cheese, Sou...       10.98  \n",
      "7     [Tomatillo Red Chili Salsa, [Fajita Vegetables...       11.75  \n",
      "13    [Fresh Tomato Salsa, [Fajita Vegetables, Rice,...       11.25  \n",
      "23    [[Tomatillo-Green Chili Salsa (Medium), Tomati...       10.98  \n",
      "...                                                 ...         ...  \n",
      "4610  [Fresh Tomato Salsa, [Rice, Sour Cream, Cheese...       11.75  \n",
      "4611  [Tomatillo Green Chili Salsa, [Rice, Fajita Ve...       11.25  \n",
      "4617  [Fresh Tomato Salsa, [Rice, Black Beans, Sour ...       11.75  \n",
      "4618  [Fresh Tomato Salsa, [Rice, Sour Cream, Cheese...       11.75  \n",
      "4619  [Fresh Tomato Salsa, [Fajita Vegetables, Pinto...       11.25  \n",
      "\n",
      "[1130 rows x 5 columns]\n"
     ]
    }
   ],
   "source": [
    "# Filtrar los productos que cuestan más de $10\n",
    "expensive_products = df[df['item_price'] > 10]\n",
    "\n",
    "print(\"\\nProductos que cuestan más de $10:\")\n",
    "print(expensive_products)  "
   ]
  },
  {
   "attachments": {},
   "cell_type": "markdown",
   "metadata": {},
   "source": [
    "### Step 4.1: ¿Y cuántos pedidos se han hecho con un producto de más de 10$? ¿Es lo mismo?"
   ]
  },
  {
   "cell_type": "code",
   "execution_count": 34,
   "metadata": {},
   "outputs": [
    {
     "name": "stdout",
     "output_type": "stream",
     "text": [
      "Número de pedidos con productos que cuestan más de $10: 863\n"
     ]
    }
   ],
   "source": [
    "# Contar el número de pedidos únicos con productos de más de $10\n",
    "num_pedidos_con_expensive_products = expensive_products['order_id'].nunique()\n",
    "\n",
    "print(f\"Número de pedidos con productos que cuestan más de $10: {num_pedidos_con_expensive_products}\") "
   ]
  },
  {
   "cell_type": "markdown",
   "metadata": {},
   "source": [
    "### Step 4.2: ¿Y cuántos pedidos se han hecho de más de 10$? ¿Es lo mismo?"
   ]
  },
  {
   "cell_type": "code",
   "execution_count": 40,
   "metadata": {},
   "outputs": [
    {
     "name": "stdout",
     "output_type": "stream",
     "text": [
      "Número de pedidos con un valor total de más de $10: 1834\n"
     ]
    }
   ],
   "source": [
    "# Calcular el valor total de cada pedido\n",
    "order_totals = df.groupby('order_id')['item_price'].sum()\n",
    "\n",
    "# Contar cuántos pedidos tienen un valor total de más de $10\n",
    "num_pedidos_mas_de_10 = (order_totals > 10).sum()\n",
    "\n",
    "print(f\"Número de pedidos con un valor total de más de $10: {num_pedidos_mas_de_10}\") "
   ]
  },
  {
   "cell_type": "markdown",
   "metadata": {},
   "source": [
    "### Step 4.3: ¿Y en cuántos pedidos se ha pagado más de 10$ por un mismo producto? ¿Es lo mismo?"
   ]
  },
  {
   "cell_type": "code",
   "execution_count": 41,
   "metadata": {},
   "outputs": [
    {
     "name": "stdout",
     "output_type": "stream",
     "text": [
      "Número de pedidos con un valor total de más de $10: 1834\n"
     ]
    }
   ],
   "source": [
    "# Calcular el valor total de cada pedido\n",
    "order_totals = df.groupby('order_id')['item_price'].sum()\n",
    "\n",
    "# Contar cuántos pedidos tienen un valor total de más de $10\n",
    "num_pedidos_mas_de_10 = (order_totals > 10).sum()\n",
    "\n",
    "print(f\"Número de pedidos con un valor total de más de $10: {num_pedidos_mas_de_10}\") "
   ]
  },
  {
   "attachments": {},
   "cell_type": "markdown",
   "metadata": {},
   "source": [
    "### Step 5. ¿Qué precio tiene cada producto en distintos pedidos? ¿Hay productos con varios precios?"
   ]
  },
  {
   "cell_type": "code",
   "execution_count": 45,
   "metadata": {},
   "outputs": [
    {
     "name": "stdout",
     "output_type": "stream",
     "text": [
      "             item_name  item_price  num_pedidos\n",
      "0    6 Pack Soft Drink        6.49           53\n",
      "1    6 Pack Soft Drink       12.98            1\n",
      "2        Barbacoa Bowl        8.69            3\n",
      "3        Barbacoa Bowl        8.99            8\n",
      "4        Barbacoa Bowl        9.25           28\n",
      "..                 ...         ...          ...\n",
      "204  Veggie Salad Bowl       11.25           10\n",
      "205  Veggie Soft Tacos        8.49            2\n",
      "206  Veggie Soft Tacos        8.75            2\n",
      "207  Veggie Soft Tacos       11.25            2\n",
      "208  Veggie Soft Tacos       16.98            1\n",
      "\n",
      "[209 rows x 3 columns]\n"
     ]
    }
   ],
   "source": [
    "# Agrupar el DataFrame por nombre de producto y precio único\n",
    "productos_precios_unicos = df.groupby(['item_name', 'item_price']).size().reset_index(name='num_pedidos')\n",
    "\n",
    "# Imprimir los resultados\n",
    "print(productos_precios_unicos) "
   ]
  },
  {
   "attachments": {},
   "cell_type": "markdown",
   "metadata": {},
   "source": [
    "### Step 6. Ordena el dataframe en base al nombre de producto (item name)"
   ]
  },
  {
   "cell_type": "code",
   "execution_count": 18,
   "metadata": {},
   "outputs": [
    {
     "name": "stdout",
     "output_type": "stream",
     "text": [
      "      order_id  quantity          item_name  \\\n",
      "3389      1360         2  6 Pack Soft Drink   \n",
      "341        148         1  6 Pack Soft Drink   \n",
      "1849       749         1  6 Pack Soft Drink   \n",
      "1860       754         1  6 Pack Soft Drink   \n",
      "2713      1076         1  6 Pack Soft Drink   \n",
      "...        ...       ...                ...   \n",
      "2384       948         1  Veggie Soft Tacos   \n",
      "781        322         1  Veggie Soft Tacos   \n",
      "2851      1132         1  Veggie Soft Tacos   \n",
      "1699       688         1  Veggie Soft Tacos   \n",
      "1395       567         1  Veggie Soft Tacos   \n",
      "\n",
      "                                     choice_description  item_price  \n",
      "3389                                        [Diet Coke]       12.98  \n",
      "341                                         [Diet Coke]        6.49  \n",
      "1849                                             [Coke]        6.49  \n",
      "1860                                        [Diet Coke]        6.49  \n",
      "2713                                             [Coke]        6.49  \n",
      "...                                                 ...         ...  \n",
      "2384  [Roasted Chili Corn Salsa, [Fajita Vegetables,...        8.75  \n",
      "781   [Fresh Tomato Salsa, [Black Beans, Cheese, Sou...        8.75  \n",
      "2851  [Roasted Chili Corn Salsa (Medium), [Black Bea...        8.49  \n",
      "1699  [Fresh Tomato Salsa, [Fajita Vegetables, Rice,...       11.25  \n",
      "1395  [Fresh Tomato Salsa (Mild), [Pinto Beans, Rice...        8.49  \n",
      "\n",
      "[4622 rows x 5 columns]\n"
     ]
    }
   ],
   "source": [
    "# Ordenar el DataFrame en base al nombre del producto\n",
    "df_sorted = df.sort_values(by='item_name')\n",
    "\n",
    "# Mostrar el DataFrame ordenado\n",
    "print(df_sorted) "
   ]
  },
  {
   "cell_type": "code",
   "execution_count": 19,
   "metadata": {},
   "outputs": [
    {
     "name": "stdout",
     "output_type": "stream",
     "text": [
      "      order_id  quantity          item_name  \\\n",
      "3889      1559         2  Veggie Soft Tacos   \n",
      "2851      1132         1  Veggie Soft Tacos   \n",
      "738        304         1  Veggie Soft Tacos   \n",
      "1395       567         1  Veggie Soft Tacos   \n",
      "2384       948         1  Veggie Soft Tacos   \n",
      "...        ...       ...                ...   \n",
      "1916       774         1  6 Pack Soft Drink   \n",
      "1124       465         1  6 Pack Soft Drink   \n",
      "3789      1517         1  6 Pack Soft Drink   \n",
      "1392       566         1  6 Pack Soft Drink   \n",
      "3614      1448         1  6 Pack Soft Drink   \n",
      "\n",
      "                                     choice_description  item_price  \n",
      "3889  [Fresh Tomato Salsa (Mild), [Black Beans, Rice...       16.98  \n",
      "2851  [Roasted Chili Corn Salsa (Medium), [Black Bea...        8.49  \n",
      "738   [Tomatillo Red Chili Salsa, [Fajita Vegetables...       11.25  \n",
      "1395  [Fresh Tomato Salsa (Mild), [Pinto Beans, Rice...        8.49  \n",
      "2384  [Roasted Chili Corn Salsa, [Fajita Vegetables,...        8.75  \n",
      "...                                                 ...         ...  \n",
      "1916                                        [Diet Coke]        6.49  \n",
      "1124                                             [Coke]        6.49  \n",
      "3789                                        [Diet Coke]        6.49  \n",
      "1392                                        [Diet Coke]        6.49  \n",
      "3614                                           [Nestea]        6.49  \n",
      "\n",
      "[4622 rows x 5 columns]\n"
     ]
    }
   ],
   "source": [
    "# Ordenar el DataFrame en base al nombre del producto\n",
    "df_sorted = df.sort_values(by='item_name', ascending=False) \n",
    "\n",
    "# Mostrar el DataFrame ordenado \n",
    "print(df_sorted ) "
   ]
  },
  {
   "attachments": {},
   "cell_type": "markdown",
   "metadata": {},
   "source": [
    "### Step 7. ¿Cuantas veces se ha pedido los productos más caros?"
   ]
  },
  {
   "cell_type": "code",
   "execution_count": 47,
   "metadata": {},
   "outputs": [
    {
     "name": "stdout",
     "output_type": "stream",
     "text": [
      "Total de pedidos de los productos más caros: 15\n"
     ]
    }
   ],
   "source": [
    "# Encontrar el precio más alto\n",
    "max_price = df['item_price'].max()\n",
    "\n",
    "# Filtrar los productos que tienen el precio más alto\n",
    "most_expensive_products = df[df['item_price'] == max_price]\n",
    "\n",
    "# Contar cuántas veces se ha pedido los productos más caros\n",
    "num_pedidos_productos_mas_caros = most_expensive_products['quantity'].sum()\n",
    "\n",
    "print(f\"Total de pedidos de los productos más caros: {num_pedidos_productos_mas_caros}\") "
   ]
  },
  {
   "attachments": {},
   "cell_type": "markdown",
   "metadata": {},
   "source": [
    "### Step 8. Veamos para el caso de Veggie Salad Bowl. Extrae esa información."
   ]
  },
  {
   "cell_type": "code",
   "execution_count": 48,
   "metadata": {},
   "outputs": [
    {
     "name": "stdout",
     "output_type": "stream",
     "text": [
      "Total de pedidos de Veggie Salad Bowl: 18\n",
      "Precio máximo de Veggie Salad Bowl: $11.25\n"
     ]
    }
   ],
   "source": [
    "# Filtrar el DataFrame para obtener solo el producto \"Veggie Salad Bowl\"\n",
    "veggie_salad_bowl = df[df['item_name'] == 'Veggie Salad Bowl']\n",
    "\n",
    "# Contar cuántas veces se ha pedido \"Veggie Salad Bowl\"\n",
    "num_pedidos_veggie_salad_bowl = veggie_salad_bowl['quantity'].sum()\n",
    "\n",
    "# Calcular el precio máximo de \"Veggie Salad Bowl\"\n",
    "precio_max_veggie_salad_bowl = veggie_salad_bowl['item_price'].max()\n",
    "\n",
    "print(f\"Total de pedidos de Veggie Salad Bowl: {num_pedidos_veggie_salad_bowl}\")\n",
    "print(f\"Precio máximo de Veggie Salad Bowl: ${precio_max_veggie_salad_bowl:}\") "
   ]
  }
 ],
 "metadata": {
  "anaconda-cloud": {},
  "kernelspec": {
   "display_name": "Python 3.7.4 64-bit",
   "language": "python",
   "name": "python3"
  },
  "language_info": {
   "codemirror_mode": {
    "name": "ipython",
    "version": 3
   },
   "file_extension": ".py",
   "mimetype": "text/x-python",
   "name": "python",
   "nbconvert_exporter": "python",
   "pygments_lexer": "ipython3",
   "version": "3.12.3"
  },
  "vscode": {
   "interpreter": {
    "hash": "90139cb9a825bf3d63f6f6704e828dbd1ff7edbd4d0c6e906a71235d6efc74af"
   }
  }
 },
 "nbformat": 4,
 "nbformat_minor": 4
}
