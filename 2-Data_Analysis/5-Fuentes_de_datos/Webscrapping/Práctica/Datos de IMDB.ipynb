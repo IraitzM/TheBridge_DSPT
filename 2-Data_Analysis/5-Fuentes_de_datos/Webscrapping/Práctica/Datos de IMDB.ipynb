{
 "cells": [
  {
   "attachments": {},
   "cell_type": "markdown",
   "metadata": {
    "colab_type": "text",
    "id": "JpS8k_tshonl"
   },
   "source": [
    "## Web scrapping de IMDB"
   ]
  },
  {
   "attachments": {},
   "cell_type": "markdown",
   "metadata": {},
   "source": [
    "Descarga la información correspondiente y guarda en un dataframe el top de las 250 películas mediante webscrapping. La dirección es https://www.imdb.com/chart/top/?ref_=nv_mv_250\n",
    "\n",
    "Obtén:\n",
    "* Título\n",
    "* Año\n",
    "* Duración\n",
    "* Posición\n",
    "* Rating\n",
    "\n",
    "A veces las páginas web se protegen de las arañas con lo que deberéis simular ser un usuario... podéis instalar\n",
    "\n",
    "`!pip install fake-useragent`\n",
    "\n",
    "Y luego invocar\n",
    "\n",
    "```py\n",
    "from fake_useragent import UserAgent\n",
    "ua = UserAgent()\n",
    "headers = {'User-Agent': ua.random}\n",
    "response = requests.get(url, headers=headers)\n",
    "```"
   ]
  },
  {
   "cell_type": "code",
   "execution_count": 31,
   "metadata": {},
   "outputs": [
    {
     "name": "stdout",
     "output_type": "stream",
     "text": [
      "Requirement already satisfied: fake-useragent in c:\\users\\rodri\\appdata\\local\\programs\\python\\python312\\lib\\site-packages (1.5.1)\n"
     ]
    }
   ],
   "source": [
    "!pip install fake-useragent "
   ]
  },
  {
   "cell_type": "code",
   "execution_count": 2,
   "metadata": {},
   "outputs": [
    {
     "data": {
      "text/plain": [
       "<Response [200]>"
      ]
     },
     "execution_count": 2,
     "metadata": {},
     "output_type": "execute_result"
    }
   ],
   "source": [
    "import requests\n",
    "from bs4 import BeautifulSoup\n",
    "import pandas as pd\n",
    "from fake_useragent import UserAgent\n",
    "import re\n",
    "\n",
    "# URL de la página de IMDb\n",
    "url = 'https://www.imdb.com/chart/top'\n",
    "\n",
    "# Crear un objeto UserAgent\n",
    "ua = UserAgent() \n",
    "\n",
    "# Configurar las cabeceras para la solicitud\n",
    "headers = {'User-Agent': ua.random}\n",
    "\n",
    "# Hacer la solicitud a la página web\n",
    "response = requests.get(url, headers=headers)\n",
    "\n",
    "response "
   ]
  },
  {
   "cell_type": "code",
   "execution_count": 3,
   "metadata": {},
   "outputs": [],
   "source": [
    "# Verificar que la solicitud fue exitosa\n",
    "if response.status_code == 200:\n",
    "    # Analizar el contenido de la página\n",
    "    soup = BeautifulSoup(response.content, 'html.parser') "
   ]
  },
  {
   "cell_type": "code",
   "execution_count": 5,
   "metadata": {},
   "outputs": [],
   "source": [
    "# averiguar los titulos de las peliculas, BOTON DERECHO SOBRE EL DATO Y CLICK EN INSPECCIONAR \n",
    "lista_titulos = soup.find_all('h3', class_=\"ipc-title__text\") \n",
    "\n",
    "# pd.DataFrame(soup.find_all('a', class_=\"ipc-list__item\")) "
   ]
  },
  {
   "cell_type": "code",
   "execution_count": 7,
   "metadata": {},
   "outputs": [
    {
     "data": {
      "text/plain": [
       "'1. Cadena perpetua'"
      ]
     },
     "execution_count": 7,
     "metadata": {},
     "output_type": "execute_result"
    }
   ],
   "source": [
    "lista_titulos[1].get_text()"
   ]
  },
  {
   "cell_type": "code",
   "execution_count": 8,
   "metadata": {},
   "outputs": [],
   "source": [
    "# Averiguar el año de las peliculas\n",
    "lista_años = soup.find_all('span', class_=\"sc-b189961a-8 kLaxqf cli-title-metadata-item\") "
   ]
  },
  {
   "cell_type": "code",
   "execution_count": 10,
   "metadata": {},
   "outputs": [
    {
     "data": {
      "text/plain": [
       "'1994'"
      ]
     },
     "execution_count": 10,
     "metadata": {},
     "output_type": "execute_result"
    }
   ],
   "source": [
    "lista_años[0].get_text() "
   ]
  },
  {
   "cell_type": "code",
   "execution_count": 17,
   "metadata": {},
   "outputs": [],
   "source": [
    "# averiguar las duraciones de las peliculas\n",
    "lista_duraciones = soup.find_all('span', class_=\"sc-b189961a-8 kLaxqf cli-title-metadata-item\") "
   ]
  },
  {
   "cell_type": "code",
   "execution_count": 19,
   "metadata": {},
   "outputs": [
    {
     "data": {
      "text/plain": [
       "'2h 22m'"
      ]
     },
     "execution_count": 19,
     "metadata": {},
     "output_type": "execute_result"
    }
   ],
   "source": [
    "lista_duraciones[1].get_text() \n"
   ]
  },
  {
   "cell_type": "code",
   "execution_count": 20,
   "metadata": {},
   "outputs": [],
   "source": [
    "# averiguar las posiciones de las peliculas \n",
    "lista_posiciones = soup.find_all('h3', class_=\"ipc-title__text\") "
   ]
  },
  {
   "cell_type": "code",
   "execution_count": 22,
   "metadata": {},
   "outputs": [
    {
     "data": {
      "text/plain": [
       "'1. Cadena perpetua'"
      ]
     },
     "execution_count": 22,
     "metadata": {},
     "output_type": "execute_result"
    }
   ],
   "source": [
    "lista_posiciones[1].get_text() "
   ]
  },
  {
   "cell_type": "code",
   "execution_count": 36,
   "metadata": {},
   "outputs": [],
   "source": [
    "# averiguar los ratings de las peliculas \n",
    "lista_ratings = soup.find_all('span', class_=\"ipc-rating-star\") "
   ]
  },
  {
   "cell_type": "code",
   "execution_count": 37,
   "metadata": {},
   "outputs": [
    {
     "data": {
      "text/plain": [
       "'9.3\\xa0(2.9M)'"
      ]
     },
     "execution_count": 37,
     "metadata": {},
     "output_type": "execute_result"
    }
   ],
   "source": [
    "lista_ratings[0].get_text() "
   ]
  }
 ],
 "metadata": {
  "colab": {
   "name": "1-DataAccess.ipynb",
   "provenance": []
  },
  "kernelspec": {
   "display_name": "Python 3.7.4 64-bit",
   "language": "python",
   "name": "python3"
  },
  "language_info": {
   "codemirror_mode": {
    "name": "ipython",
    "version": 3
   },
   "file_extension": ".py",
   "mimetype": "text/x-python",
   "name": "python",
   "nbconvert_exporter": "python",
   "pygments_lexer": "ipython3",
   "version": "3.12.3"
  },
  "vscode": {
   "interpreter": {
    "hash": "90139cb9a825bf3d63f6f6704e828dbd1ff7edbd4d0c6e906a71235d6efc74af"
   }
  }
 },
 "nbformat": 4,
 "nbformat_minor": 4
}
