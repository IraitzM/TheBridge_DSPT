{
 "cells": [
  {
   "cell_type": "markdown",
   "metadata": {},
   "source": [
    "# Construyendo con SQL\n",
    "\n",
    "Exploraremos cómo construir una base de datos y familiarizarnos con la sintaxis SQL.\n",
    "\n",
    "[SQLlite](https://www.sqlite.org/index.html) es una implementación minimalista de un sistema de gestión de base de datos con soporte de transacciones. Veréis que se almacena como un fichero en nuestro directorio local.\n",
    "\n",
    "[Referencia](https://www.sqlitetutorial.net/)"
   ]
  },
  {
   "cell_type": "code",
   "execution_count": 4,
   "metadata": {},
   "outputs": [],
   "source": [
    "import sqlite3\n",
    "\n",
    "# Connect to the DB\n",
    "conn = sqlite3.connect(\"bbdd1.db\")\n",
    "c = conn.cursor()"
   ]
  },
  {
   "cell_type": "markdown",
   "metadata": {},
   "source": [
    "Indicaremos que queremos que funcione como una sistema operacional, manteniendo la integridad."
   ]
  },
  {
   "cell_type": "code",
   "execution_count": 5,
   "metadata": {},
   "outputs": [],
   "source": [
    "c.execute(\"\"\"PRAGMA foreign_keys = ON;\"\"\");"
   ]
  },
  {
   "cell_type": "markdown",
   "metadata": {},
   "source": [
    "Y crearemos nuestra primera tabla:\n",
    "\n",
    "- Nombre: Categories\n",
    "- Campos: \n",
    "    - CategoryID: Entero, clave primaria y autoincrementada\n",
    "    - CategoryName: Texto\n",
    "    - Description: Texto"
   ]
  },
  {
   "cell_type": "code",
   "execution_count": 6,
   "metadata": {},
   "outputs": [],
   "source": [
    "query = \"\"\"\n",
    "CREATE TABLE Categories\n",
    "(      \n",
    "    CategoryID INTEGER PRIMARY KEY AUTOINCREMENT,\n",
    "    CategoryName TEXT,\n",
    "    Description TEXT\n",
    ");\n",
    "\"\"\"\n",
    "\n",
    "c.execute(query);"
   ]
  },
  {
   "cell_type": "code",
   "execution_count": 11,
   "metadata": {},
   "outputs": [
    {
     "name": "stdout",
     "output_type": "stream",
     "text": [
      "('Categories',)\n",
      "('sqlite_sequence',)\n"
     ]
    }
   ],
   "source": [
    "tablas = c.execute(\"\"\"SELECT name FROM sqlite_master WHERE type='table';\"\"\").fetchall()\n",
    "for tabla in tablas:\n",
    "    print(tabla)"
   ]
  },
  {
   "cell_type": "code",
   "execution_count": 12,
   "metadata": {},
   "outputs": [
    {
     "data": {
      "text/plain": [
       "[]"
      ]
     },
     "execution_count": 12,
     "metadata": {},
     "output_type": "execute_result"
    }
   ],
   "source": [
    "c.execute(\"\"\"SELECT * FROM Categories\"\"\").fetchall()"
   ]
  },
  {
   "cell_type": "markdown",
   "metadata": {},
   "source": [
    "Está vacía, podemos insertar nuestro primer dato ahora que existe."
   ]
  },
  {
   "cell_type": "code",
   "execution_count": 13,
   "metadata": {},
   "outputs": [],
   "source": [
    "query = \"\"\"\n",
    "INSERT INTO Categories VALUES(null,'Beverages','Soft drinks, coffees, teas, beers, and ales');\n",
    "\"\"\"\n",
    "\n",
    "c.execute(query);"
   ]
  },
  {
   "cell_type": "code",
   "execution_count": 14,
   "metadata": {},
   "outputs": [
    {
     "data": {
      "text/plain": [
       "[(1, 'Beverages', 'Soft drinks, coffees, teas, beers, and ales')]"
      ]
     },
     "execution_count": 14,
     "metadata": {},
     "output_type": "execute_result"
    }
   ],
   "source": [
    "c.execute(\"\"\"SELECT * FROM Categories\"\"\").fetchall()"
   ]
  },
  {
   "cell_type": "markdown",
   "metadata": {},
   "source": [
    "Si intentamos insertar una fila con el mismo identificador veremos que la base de datos se encarga de darnos un error. Es una operación no permitida."
   ]
  },
  {
   "cell_type": "code",
   "execution_count": 15,
   "metadata": {},
   "outputs": [
    {
     "ename": "IntegrityError",
     "evalue": "UNIQUE constraint failed: Categories.CategoryID",
     "output_type": "error",
     "traceback": [
      "\u001b[0;31m---------------------------------------------------------------------------\u001b[0m",
      "\u001b[0;31mIntegrityError\u001b[0m                            Traceback (most recent call last)",
      "Cell \u001b[0;32mIn[15], line 5\u001b[0m\n\u001b[1;32m      1\u001b[0m query \u001b[38;5;241m=\u001b[39m \u001b[38;5;124m\"\"\"\u001b[39m\n\u001b[1;32m      2\u001b[0m \u001b[38;5;124mINSERT INTO Categories VALUES(1,\u001b[39m\u001b[38;5;124m'\u001b[39m\u001b[38;5;124mBeverages\u001b[39m\u001b[38;5;124m'\u001b[39m\u001b[38;5;124m,\u001b[39m\u001b[38;5;124m'\u001b[39m\u001b[38;5;124mSoft drinks, coffees, teas, beers, and ales\u001b[39m\u001b[38;5;124m'\u001b[39m\u001b[38;5;124m);\u001b[39m\n\u001b[1;32m      3\u001b[0m \u001b[38;5;124m\"\"\"\u001b[39m\n\u001b[0;32m----> 5\u001b[0m \u001b[43mc\u001b[49m\u001b[38;5;241;43m.\u001b[39;49m\u001b[43mexecute\u001b[49m\u001b[43m(\u001b[49m\u001b[43mquery\u001b[49m\u001b[43m)\u001b[49m;\n",
      "\u001b[0;31mIntegrityError\u001b[0m: UNIQUE constraint failed: Categories.CategoryID"
     ]
    }
   ],
   "source": [
    "query = \"\"\"\n",
    "INSERT INTO Categories VALUES(1,'Beverages','Soft drinks, coffees, teas, beers, and ales');\n",
    "\"\"\"\n",
    "\n",
    "c.execute(query);"
   ]
  },
  {
   "cell_type": "code",
   "execution_count": 16,
   "metadata": {},
   "outputs": [],
   "source": [
    "query = \"\"\"\n",
    "INSERT INTO Categories VALUES(2,'Condiments','Sweet and savory sauces, relishes, spreads, and seasonings');\n",
    "INSERT INTO Categories VALUES(3,'Confections','Desserts, candies, and sweet breads');\n",
    "INSERT INTO Categories VALUES(4,'Dairy Products','Cheeses');\n",
    "INSERT INTO Categories VALUES(5,'Grains/Cereals','Breads, crackers, pasta, and cereal');\n",
    "INSERT INTO Categories VALUES(6,'Meat/Poultry','Prepared meats');\n",
    "INSERT INTO Categories VALUES(7,'Produce','Dried fruit and bean curd');\n",
    "INSERT INTO Categories VALUES(8,'Seafood','Seaweed and fish');\n",
    "\"\"\"\n",
    "\n",
    "c.executescript(query);"
   ]
  },
  {
   "cell_type": "code",
   "execution_count": 17,
   "metadata": {},
   "outputs": [
    {
     "name": "stdout",
     "output_type": "stream",
     "text": [
      "(1, 'Beverages', 'Soft drinks, coffees, teas, beers, and ales')\n",
      "(2, 'Condiments', 'Sweet and savory sauces, relishes, spreads, and seasonings')\n",
      "(3, 'Confections', 'Desserts, candies, and sweet breads')\n",
      "(4, 'Dairy Products', 'Cheeses')\n",
      "(5, 'Grains/Cereals', 'Breads, crackers, pasta, and cereal')\n",
      "(6, 'Meat/Poultry', 'Prepared meats')\n",
      "(7, 'Produce', 'Dried fruit and bean curd')\n",
      "(8, 'Seafood', 'Seaweed and fish')\n"
     ]
    }
   ],
   "source": [
    "tuplas = c.execute(\"\"\"SELECT * FROM Categories\"\"\").fetchall()\n",
    "for tupla in tuplas:\n",
    "    print(tupla)"
   ]
  },
  {
   "cell_type": "markdown",
   "metadata": {},
   "source": [
    "Podemos, eso si, actualizar la información de nuestro sistema empleando la clausula `update` y gracias al identificador solo actualizar el registro que nos atañe."
   ]
  },
  {
   "cell_type": "code",
   "execution_count": 18,
   "metadata": {},
   "outputs": [
    {
     "data": {
      "text/plain": [
       "[]"
      ]
     },
     "execution_count": 18,
     "metadata": {},
     "output_type": "execute_result"
    }
   ],
   "source": [
    "c.execute(\"\"\"UPDATE Categories SET CategoryName = 'Drinks' WHERE CategoryID == 1\"\"\").fetchall()"
   ]
  },
  {
   "cell_type": "code",
   "execution_count": 19,
   "metadata": {},
   "outputs": [
    {
     "name": "stdout",
     "output_type": "stream",
     "text": [
      "(1, 'Drinks', 'Soft drinks, coffees, teas, beers, and ales')\n",
      "(2, 'Condiments', 'Sweet and savory sauces, relishes, spreads, and seasonings')\n",
      "(3, 'Confections', 'Desserts, candies, and sweet breads')\n",
      "(4, 'Dairy Products', 'Cheeses')\n",
      "(5, 'Grains/Cereals', 'Breads, crackers, pasta, and cereal')\n",
      "(6, 'Meat/Poultry', 'Prepared meats')\n",
      "(7, 'Produce', 'Dried fruit and bean curd')\n",
      "(8, 'Seafood', 'Seaweed and fish')\n"
     ]
    }
   ],
   "source": [
    "tuplas = c.execute(\"\"\"SELECT * FROM Categories\"\"\").fetchall()\n",
    "for tupla in tuplas:\n",
    "    print(tupla)"
   ]
  },
  {
   "cell_type": "markdown",
   "metadata": {},
   "source": [
    "O borrar con el comando `DELETE`."
   ]
  },
  {
   "cell_type": "code",
   "execution_count": 20,
   "metadata": {},
   "outputs": [
    {
     "data": {
      "text/plain": [
       "[]"
      ]
     },
     "execution_count": 20,
     "metadata": {},
     "output_type": "execute_result"
    }
   ],
   "source": [
    "c.execute(\"\"\"DELETE FROM Categories WHERE CategoryID == 8\"\"\").fetchall()"
   ]
  },
  {
   "cell_type": "code",
   "execution_count": 21,
   "metadata": {},
   "outputs": [
    {
     "name": "stdout",
     "output_type": "stream",
     "text": [
      "(1, 'Drinks', 'Soft drinks, coffees, teas, beers, and ales')\n",
      "(2, 'Condiments', 'Sweet and savory sauces, relishes, spreads, and seasonings')\n",
      "(3, 'Confections', 'Desserts, candies, and sweet breads')\n",
      "(4, 'Dairy Products', 'Cheeses')\n",
      "(5, 'Grains/Cereals', 'Breads, crackers, pasta, and cereal')\n",
      "(6, 'Meat/Poultry', 'Prepared meats')\n",
      "(7, 'Produce', 'Dried fruit and bean curd')\n"
     ]
    }
   ],
   "source": [
    "tuplas = c.execute(\"\"\"SELECT * FROM Categories\"\"\").fetchall()\n",
    "for tupla in tuplas:\n",
    "    print(tupla)"
   ]
  },
  {
   "cell_type": "markdown",
   "metadata": {},
   "source": [
    "Extenderemos el modelo, en este caso empleando dos nuevas estructuras de datos: **proveedores** y **productos**."
   ]
  },
  {
   "cell_type": "code",
   "execution_count": 22,
   "metadata": {},
   "outputs": [],
   "source": [
    "query = \"\"\"\n",
    "CREATE TABLE Suppliers(\n",
    "    SupplierID INTEGER PRIMARY KEY AUTOINCREMENT,\n",
    "    SupplierName TEXT,\n",
    "    ContactName TEXT,\n",
    "    Address TEXT,\n",
    "    City TEXT,\n",
    "    PostalCode TEXT,\n",
    "    Country TEXT,\n",
    "    Phone TEXT\n",
    ");\n",
    "\"\"\"\n",
    "\n",
    "c.execute(query);"
   ]
  },
  {
   "cell_type": "code",
   "execution_count": 23,
   "metadata": {},
   "outputs": [],
   "source": [
    "query = \"\"\"\n",
    "INSERT INTO Suppliers VALUES(1,'Exotic Liquid','Charlotte Cooper','49 Gilbert St.','Londona','EC1 4SD','UK','(171) 555-2222');\n",
    "INSERT INTO Suppliers VALUES(2,'New Orleans Cajun Delights','Shelley Burke','P.O. Box 78934','New Orleans','70117','USA','(100) 555-4822');\n",
    "INSERT INTO Suppliers VALUES(3,'Grandma Kelly''s Homestead','Regina Murphy','707 Oxford Rd.','Ann Arbor','48104','USA','(313) 555-5735');\n",
    "\"\"\"\n",
    "\n",
    "c.executescript(query);"
   ]
  },
  {
   "cell_type": "code",
   "execution_count": 24,
   "metadata": {},
   "outputs": [],
   "source": [
    "query = \"\"\"\n",
    "CREATE TABLE Products(\n",
    "    ProductID INTEGER PRIMARY KEY AUTOINCREMENT,\n",
    "    ProductName TEXT,\n",
    "    SupplierID INTEGER,\n",
    "    CategoryID INTEGER,\n",
    "    Unit TEXT,\n",
    "    Price NUMERIC DEFAULT 0,\n",
    "\tFOREIGN KEY (CategoryID) REFERENCES Categories (CategoryID),\n",
    "\tFOREIGN KEY (SupplierID) REFERENCES Suppliers (SupplierID)\n",
    ");\n",
    "\"\"\"\n",
    "\n",
    "c.execute(query);"
   ]
  },
  {
   "cell_type": "code",
   "execution_count": 25,
   "metadata": {},
   "outputs": [],
   "source": [
    "query = \"\"\"\n",
    "INSERT INTO Products VALUES(1,'Chais',1,1,'10 boxes x 20 bags',18.00);\n",
    "INSERT INTO Products VALUES(2,'Chang',1,1,'24 - 12 oz bottles',19.00);\n",
    "INSERT INTO Products VALUES(3,'Aniseed Syrup',1,2,'12 - 550 ml bottles',10.00);\n",
    "INSERT INTO Products VALUES(4,'Chef Anton''s Cajun Seasoning',1,2,'48 - 6 oz jars',22.00);\n",
    "\"\"\"\n",
    "\n",
    "c.executescript(query);"
   ]
  },
  {
   "cell_type": "code",
   "execution_count": 26,
   "metadata": {},
   "outputs": [
    {
     "name": "stdout",
     "output_type": "stream",
     "text": [
      "('Categories',)\n",
      "('sqlite_sequence',)\n",
      "('Suppliers',)\n",
      "('Products',)\n"
     ]
    }
   ],
   "source": [
    "tablas = c.execute(\"\"\"SELECT name FROM sqlite_master WHERE type='table';\"\"\").fetchall()\n",
    "for tabla in tablas:\n",
    "    print(tabla)"
   ]
  },
  {
   "cell_type": "markdown",
   "metadata": {},
   "source": [
    "Y podemos utilizar las clausulas `JOIN` que ya vimos para obtener la información desnormalizada que nos es de interés."
   ]
  },
  {
   "cell_type": "code",
   "execution_count": 27,
   "metadata": {},
   "outputs": [
    {
     "data": {
      "text/html": [
       "<div>\n",
       "<style scoped>\n",
       "    .dataframe tbody tr th:only-of-type {\n",
       "        vertical-align: middle;\n",
       "    }\n",
       "\n",
       "    .dataframe tbody tr th {\n",
       "        vertical-align: top;\n",
       "    }\n",
       "\n",
       "    .dataframe thead th {\n",
       "        text-align: right;\n",
       "    }\n",
       "</style>\n",
       "<table border=\"1\" class=\"dataframe\">\n",
       "  <thead>\n",
       "    <tr style=\"text-align: right;\">\n",
       "      <th></th>\n",
       "      <th>0</th>\n",
       "      <th>1</th>\n",
       "      <th>2</th>\n",
       "      <th>3</th>\n",
       "      <th>4</th>\n",
       "      <th>5</th>\n",
       "      <th>6</th>\n",
       "      <th>7</th>\n",
       "      <th>8</th>\n",
       "    </tr>\n",
       "  </thead>\n",
       "  <tbody>\n",
       "    <tr>\n",
       "      <th>0</th>\n",
       "      <td>1</td>\n",
       "      <td>Drinks</td>\n",
       "      <td>Soft drinks, coffees, teas, beers, and ales</td>\n",
       "      <td>1</td>\n",
       "      <td>Chais</td>\n",
       "      <td>1</td>\n",
       "      <td>1</td>\n",
       "      <td>10 boxes x 20 bags</td>\n",
       "      <td>18</td>\n",
       "    </tr>\n",
       "    <tr>\n",
       "      <th>1</th>\n",
       "      <td>1</td>\n",
       "      <td>Drinks</td>\n",
       "      <td>Soft drinks, coffees, teas, beers, and ales</td>\n",
       "      <td>2</td>\n",
       "      <td>Chang</td>\n",
       "      <td>1</td>\n",
       "      <td>1</td>\n",
       "      <td>24 - 12 oz bottles</td>\n",
       "      <td>19</td>\n",
       "    </tr>\n",
       "    <tr>\n",
       "      <th>2</th>\n",
       "      <td>2</td>\n",
       "      <td>Condiments</td>\n",
       "      <td>Sweet and savory sauces, relishes, spreads, an...</td>\n",
       "      <td>3</td>\n",
       "      <td>Aniseed Syrup</td>\n",
       "      <td>1</td>\n",
       "      <td>2</td>\n",
       "      <td>12 - 550 ml bottles</td>\n",
       "      <td>10</td>\n",
       "    </tr>\n",
       "    <tr>\n",
       "      <th>3</th>\n",
       "      <td>2</td>\n",
       "      <td>Condiments</td>\n",
       "      <td>Sweet and savory sauces, relishes, spreads, an...</td>\n",
       "      <td>4</td>\n",
       "      <td>Chef Anton's Cajun Seasoning</td>\n",
       "      <td>1</td>\n",
       "      <td>2</td>\n",
       "      <td>48 - 6 oz jars</td>\n",
       "      <td>22</td>\n",
       "    </tr>\n",
       "  </tbody>\n",
       "</table>\n",
       "</div>"
      ],
      "text/plain": [
       "   0           1                                                  2  3  \\\n",
       "0  1      Drinks        Soft drinks, coffees, teas, beers, and ales  1   \n",
       "1  1      Drinks        Soft drinks, coffees, teas, beers, and ales  2   \n",
       "2  2  Condiments  Sweet and savory sauces, relishes, spreads, an...  3   \n",
       "3  2  Condiments  Sweet and savory sauces, relishes, spreads, an...  4   \n",
       "\n",
       "                              4  5  6                    7   8  \n",
       "0                         Chais  1  1   10 boxes x 20 bags  18  \n",
       "1                         Chang  1  1   24 - 12 oz bottles  19  \n",
       "2                 Aniseed Syrup  1  2  12 - 550 ml bottles  10  \n",
       "3  Chef Anton's Cajun Seasoning  1  2       48 - 6 oz jars  22  "
      ]
     },
     "execution_count": 27,
     "metadata": {},
     "output_type": "execute_result"
    }
   ],
   "source": [
    "import pandas as pd\n",
    "\n",
    "tuples = c.execute(\"\"\"SELECT * FROM Categories c JOIN Products p ON c.CategoryID == p.CategoryID\"\"\").fetchall()\n",
    "pd.DataFrame(tuples)"
   ]
  },
  {
   "cell_type": "markdown",
   "metadata": {},
   "source": [
    "Veremos que las restricciones de sistema también afectan a las decisiones de borrado ya que nos impiden dejar el sistema en un estado inconsistente."
   ]
  },
  {
   "cell_type": "code",
   "execution_count": 21,
   "metadata": {},
   "outputs": [
    {
     "ename": "IntegrityError",
     "evalue": "FOREIGN KEY constraint failed",
     "output_type": "error",
     "traceback": [
      "\u001b[0;31m---------------------------------------------------------------------------\u001b[0m",
      "\u001b[0;31mIntegrityError\u001b[0m                            Traceback (most recent call last)",
      "Cell \u001b[0;32mIn[21], line 1\u001b[0m\n\u001b[0;32m----> 1\u001b[0m \u001b[43mc\u001b[49m\u001b[38;5;241;43m.\u001b[39;49m\u001b[43mexecute\u001b[49m\u001b[43m(\u001b[49m\u001b[38;5;124;43m\"\"\"\u001b[39;49m\u001b[38;5;124;43mDELETE FROM Categories WHERE CategoryID == 1\u001b[39;49m\u001b[38;5;124;43m\"\"\"\u001b[39;49m\u001b[43m)\u001b[49m\u001b[38;5;241m.\u001b[39mfetchall()\n",
      "\u001b[0;31mIntegrityError\u001b[0m: FOREIGN KEY constraint failed"
     ]
    }
   ],
   "source": [
    "c.execute(\"\"\"DELETE FROM Categories WHERE CategoryID == 1\"\"\").fetchall()"
   ]
  },
  {
   "cell_type": "markdown",
   "metadata": {},
   "source": [
    "Cerramos la conexión con base de datos."
   ]
  },
  {
   "cell_type": "code",
   "execution_count": 22,
   "metadata": {},
   "outputs": [],
   "source": [
    "c.close()"
   ]
  },
  {
   "cell_type": "markdown",
   "metadata": {},
   "source": [
    "## Herramientas específicas\n",
    "\n",
    "Podéis descargaros https://dbeaver.io/ para explorar y disponer de una interfaz alternativa (más expresiva) a la hora de explorar bases de datos relacionales."
   ]
  }
 ],
 "metadata": {
  "kernelspec": {
   "display_name": ".venv",
   "language": "python",
   "name": "python3"
  },
  "language_info": {
   "codemirror_mode": {
    "name": "ipython",
    "version": 3
   },
   "file_extension": ".py",
   "mimetype": "text/x-python",
   "name": "python",
   "nbconvert_exporter": "python",
   "pygments_lexer": "ipython3",
   "version": "3.10.12"
  }
 },
 "nbformat": 4,
 "nbformat_minor": 2
}
