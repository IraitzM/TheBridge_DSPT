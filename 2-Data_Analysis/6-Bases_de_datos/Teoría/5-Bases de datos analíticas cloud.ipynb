{
 "cells": [
  {
   "cell_type": "markdown",
   "metadata": {},
   "source": [
    "# Analítica en nube\n",
    "\n",
    "Como vimos en clase, han sido unos años movidos en el mundo de la analítica pero a día de hoy contamos con sistemas nube que disponen de capacidades muy superiores a los modelos tradicionales de base de datos que conocíamos. El poder gestionar datos no tabulares o en formatos abiertos (CSV, PARQUET, JSON) y poder imponer capacidades de procesado más allá de SQL hacen que realmente casi cualquier proceso pueda ser integrado en los sistemas informacionales actuales.\n",
    "\n",
    "## BigQuery\n",
    "\n",
    "BigQuery es la oferta de Google a esa necesidad. Siendo los que iniciaron esta revolución cuentan con una de las plataformas más maduras en el sector. Todo usuario con cuenta Gmail puede acceder a la versión [Sandbox](https://cloud.google.com/bigquery/docs/sandbox) de BigQuery para poder probar su suerte.\n",
    "\n",
    "Empezaremos por acceder a la consola de BigQuery:\n",
    "https://console.cloud.google.com/bigquery \n",
    "\n",
    "![consola](img/consola-bq.png)\n",
    "\n",
    "A priori no contáis con datos pero podréis añadir fuentes públicas directamente accesibles bajo consulta:\n",
    "\n",
    "![data](img/add-data.png)\n",
    "\n",
    "De hecho existe un compendio de datos directamente accesibles desde BigQuery. Por ejemplo, los datos de las bicicletas de Austin TX.\n",
    "\n",
    "```sql\n",
    "SELECT\n",
    "    *\n",
    "FROM\n",
    "    `bigquery-public-data.austin_bikeshare.bikeshare_stations`\n",
    "```\n",
    "\n",
    "Por lo que podemos crear una plantilla para consultas y ejecutar nuestra consulta anterior directamente.\n",
    "\n",
    "![query](img/query.png)"
   ]
  },
  {
   "cell_type": "markdown",
   "metadata": {},
   "source": [
    "Podemos buscar datos de fechas concretas (año 2018).\n",
    "\n",
    "```sql\n",
    "SELECT\n",
    "    *\n",
    "FROM\n",
    "    `bigquery-public-data.austin_bikeshare.bikeshare_trips`\n",
    "WHERE\n",
    "    EXTRACT(YEAR FROM start_time) = 2018\n",
    "LIMIT 10\n",
    "```"
   ]
  },
  {
   "cell_type": "markdown",
   "metadata": {},
   "source": [
    "O combinarlo con información de las estaciones para poder obtener gráficos sobre tiempos y duraciones en base a los días de la semana."
   ]
  },
  {
   "cell_type": "markdown",
   "metadata": {},
   "source": [
    "```sql\n",
    "SELECT\n",
    "    start_station_name,\n",
    "    EXTRACT(HOUR FROM start_time) AS start_hour,\n",
    "    EXTRACT(DAYOFWEEK FROM start_time) AS day_of_week,\n",
    "    duration_minutes\n",
    "FROM\n",
    "    `bigquery-public-data.austin_bikeshare.bikeshare_trips` AS trips\n",
    "JOIN\n",
    "    `bigquery-public-data.austin_bikeshare.bikeshare_stations` AS stations\n",
    "ON\n",
    "    trips.start_station_name = stations.name\n",
    "WHERE\n",
    "    EXTRACT(YEAR FROM start_time) = 2018\n",
    "    AND duration_minutes > 0\n",
    "```"
   ]
  },
  {
   "cell_type": "markdown",
   "metadata": {},
   "source": [
    "![query-plot](img/query-plot.png)"
   ]
  },
  {
   "cell_type": "markdown",
   "metadata": {},
   "source": [
    "## Snowflake\n",
    "\n",
    "Existen alternativas multinube de cara a no ligarse a un proveedor de por vida. Snowflake es sin duda el líder en este ámbito en lo que a sistemas RDBMS destinados a analítica se refiere. Su versión de prueba nos permite crear un entorno válido por un mes e interactuar con este como si de una base de datos convencional se tratara.\n",
    "\n",
    "[Crear cuenta de prueba](https://signup.snowflake.com/)\n",
    "\n",
    "Una vez dispongáis de los datos para conectaros solo tendréis que configurar el acceso programático. Snowflake dispone de un conector propio que debería facilitarnos la tareas. Además es compatible con [Pandas](https://quickstarts.snowflake.com/guide/getting_started_with_snowpark_pandas/index.html#0)."
   ]
  },
  {
   "cell_type": "code",
   "execution_count": 1,
   "metadata": {},
   "outputs": [
    {
     "name": "stdout",
     "output_type": "stream",
     "text": [
      "Collecting snowflake-connector-python[pandas]\n",
      "  Downloading snowflake_connector_python-3.10.1-cp311-cp311-win_amd64.whl.metadata (64 kB)\n",
      "     ---------------------------------------- 0.0/64.0 kB ? eta -:--:--\n",
      "     ------ --------------------------------- 10.2/64.0 kB ? eta -:--:--\n",
      "     ------ --------------------------------- 10.2/64.0 kB ? eta -:--:--\n",
      "     ------------ ------------------------- 20.5/64.0 kB 162.5 kB/s eta 0:00:01\n",
      "     ------------------------ ------------- 41.0/64.0 kB 245.8 kB/s eta 0:00:01\n",
      "     ------------------------------ ------- 51.2/64.0 kB 260.9 kB/s eta 0:00:01\n",
      "     -------------------------------------- 64.0/64.0 kB 286.0 kB/s eta 0:00:00\n",
      "Collecting asn1crypto<2.0.0,>0.24.0 (from snowflake-connector-python[pandas])\n",
      "  Using cached asn1crypto-1.5.1-py2.py3-none-any.whl.metadata (13 kB)\n",
      "Requirement already satisfied: cffi<2.0.0,>=1.9 in c:\\users\\rodri\\anaconda3\\lib\\site-packages (from snowflake-connector-python[pandas]) (1.16.0)\n",
      "Requirement already satisfied: cryptography<43.0.0,>=3.1.0 in c:\\users\\rodri\\anaconda3\\lib\\site-packages (from snowflake-connector-python[pandas]) (42.0.2)\n",
      "Requirement already satisfied: pyOpenSSL<25.0.0,>=16.2.0 in c:\\users\\rodri\\anaconda3\\lib\\site-packages (from snowflake-connector-python[pandas]) (24.0.0)\n",
      "Requirement already satisfied: pyjwt<3.0.0 in c:\\users\\rodri\\anaconda3\\lib\\site-packages (from snowflake-connector-python[pandas]) (2.4.0)\n",
      "Requirement already satisfied: pytz in c:\\users\\rodri\\anaconda3\\lib\\site-packages (from snowflake-connector-python[pandas]) (2023.3.post1)\n",
      "Requirement already satisfied: requests<3.0.0 in c:\\users\\rodri\\anaconda3\\lib\\site-packages (from snowflake-connector-python[pandas]) (2.31.0)\n",
      "Requirement already satisfied: packaging in c:\\users\\rodri\\anaconda3\\lib\\site-packages (from snowflake-connector-python[pandas]) (23.1)\n",
      "Requirement already satisfied: charset-normalizer<4,>=2 in c:\\users\\rodri\\anaconda3\\lib\\site-packages (from snowflake-connector-python[pandas]) (2.0.4)\n",
      "Requirement already satisfied: idna<4,>=2.5 in c:\\users\\rodri\\anaconda3\\lib\\site-packages (from snowflake-connector-python[pandas]) (3.4)\n",
      "Requirement already satisfied: certifi>=2017.4.17 in c:\\users\\rodri\\anaconda3\\lib\\site-packages (from snowflake-connector-python[pandas]) (2024.2.2)\n",
      "Requirement already satisfied: typing-extensions<5,>=4.3 in c:\\users\\rodri\\anaconda3\\lib\\site-packages (from snowflake-connector-python[pandas]) (4.9.0)\n",
      "Requirement already satisfied: filelock<4,>=3.5 in c:\\users\\rodri\\anaconda3\\lib\\site-packages (from snowflake-connector-python[pandas]) (3.13.1)\n",
      "Requirement already satisfied: sortedcontainers>=2.4.0 in c:\\users\\rodri\\anaconda3\\lib\\site-packages (from snowflake-connector-python[pandas]) (2.4.0)\n",
      "Requirement already satisfied: platformdirs<5.0.0,>=2.6.0 in c:\\users\\rodri\\anaconda3\\lib\\site-packages (from snowflake-connector-python[pandas]) (3.10.0)\n",
      "Requirement already satisfied: tomlkit in c:\\users\\rodri\\anaconda3\\lib\\site-packages (from snowflake-connector-python[pandas]) (0.11.1)\n",
      "Requirement already satisfied: pandas<3.0.0,>=1.0.0 in c:\\users\\rodri\\anaconda3\\lib\\site-packages (from snowflake-connector-python[pandas]) (2.1.4)\n",
      "Requirement already satisfied: pyarrow in c:\\users\\rodri\\anaconda3\\lib\\site-packages (from snowflake-connector-python[pandas]) (14.0.2)\n",
      "Requirement already satisfied: pycparser in c:\\users\\rodri\\anaconda3\\lib\\site-packages (from cffi<2.0.0,>=1.9->snowflake-connector-python[pandas]) (2.21)\n",
      "Requirement already satisfied: numpy<2,>=1.23.2 in c:\\users\\rodri\\anaconda3\\lib\\site-packages (from pandas<3.0.0,>=1.0.0->snowflake-connector-python[pandas]) (1.26.4)\n",
      "Requirement already satisfied: python-dateutil>=2.8.2 in c:\\users\\rodri\\anaconda3\\lib\\site-packages (from pandas<3.0.0,>=1.0.0->snowflake-connector-python[pandas]) (2.8.2)\n",
      "Requirement already satisfied: tzdata>=2022.1 in c:\\users\\rodri\\anaconda3\\lib\\site-packages (from pandas<3.0.0,>=1.0.0->snowflake-connector-python[pandas]) (2023.3)\n",
      "Requirement already satisfied: urllib3<3,>=1.21.1 in c:\\users\\rodri\\anaconda3\\lib\\site-packages (from requests<3.0.0->snowflake-connector-python[pandas]) (2.0.7)\n",
      "Requirement already satisfied: six>=1.5 in c:\\users\\rodri\\anaconda3\\lib\\site-packages (from python-dateutil>=2.8.2->pandas<3.0.0,>=1.0.0->snowflake-connector-python[pandas]) (1.16.0)\n",
      "Using cached asn1crypto-1.5.1-py2.py3-none-any.whl (105 kB)\n",
      "Downloading snowflake_connector_python-3.10.1-cp311-cp311-win_amd64.whl (912 kB)\n",
      "   ---------------------------------------- 0.0/912.7 kB ? eta -:--:--\n",
      "   - -------------------------------------- 30.7/912.7 kB 1.4 MB/s eta 0:00:01\n",
      "   -- ------------------------------------- 61.4/912.7 kB 1.1 MB/s eta 0:00:01\n",
      "   ---- ----------------------------------- 92.2/912.7 kB 1.1 MB/s eta 0:00:01\n",
      "   ----- -------------------------------- 143.4/912.7 kB 950.9 kB/s eta 0:00:01\n",
      "   ------- ------------------------------ 174.1/912.7 kB 952.6 kB/s eta 0:00:01\n",
      "   --------- ---------------------------- 235.5/912.7 kB 962.7 kB/s eta 0:00:01\n",
      "   ----------- -------------------------- 276.5/912.7 kB 947.5 kB/s eta 0:00:01\n",
      "   ------------ ------------------------- 307.2/912.7 kB 951.8 kB/s eta 0:00:01\n",
      "   -------------- ----------------------- 337.9/912.7 kB 955.3 kB/s eta 0:00:01\n",
      "   ---------------- --------------------- 389.1/912.7 kB 971.5 kB/s eta 0:00:01\n",
      "   ------------------ ------------------- 450.6/912.7 kB 972.0 kB/s eta 0:00:01\n",
      "   -------------------- ----------------- 481.3/912.7 kB 973.2 kB/s eta 0:00:01\n",
      "   ---------------------- --------------- 532.5/912.7 kB 954.7 kB/s eta 0:00:01\n",
      "   ----------------------- -------------- 563.2/912.7 kB 983.9 kB/s eta 0:00:01\n",
      "   ------------------------- ------------ 604.2/912.7 kB 975.2 kB/s eta 0:00:01\n",
      "   -------------------------- ----------- 645.1/912.7 kB 944.8 kB/s eta 0:00:01\n",
      "   ---------------------------- --------- 696.3/912.7 kB 955.5 kB/s eta 0:00:01\n",
      "   ------------------------------- ------ 747.5/912.7 kB 983.0 kB/s eta 0:00:01\n",
      "   --------------------------------- ---- 798.7/912.7 kB 989.3 kB/s eta 0:00:01\n",
      "   ----------------------------------- -- 860.2/912.7 kB 989.4 kB/s eta 0:00:01\n",
      "   -------------------------------------- 912.7/912.7 kB 996.1 kB/s eta 0:00:00\n",
      "Installing collected packages: asn1crypto, snowflake-connector-python\n",
      "Successfully installed asn1crypto-1.5.1 snowflake-connector-python-3.10.1\n"
     ]
    }
   ],
   "source": [
    "!pip install \"snowflake-connector-python[pandas]\" "
   ]
  },
  {
   "cell_type": "code",
   "execution_count": 8,
   "metadata": {},
   "outputs": [],
   "source": [
    "import snowflake.connector\n",
    "\n",
    "con = snowflake.connector.connect(\n",
    "    user='RODRIGOMEZAORTIZ',\n",
    "    password='19821718Rodrigo',\n",
    "    account='vgllonw-lf55270',\n",
    "    database=\"SNOWFLAKE_SAMPLE_DATA\"\n",
    ")"
   ]
  },
  {
   "cell_type": "code",
   "execution_count": 9,
   "metadata": {},
   "outputs": [
    {
     "name": "stderr",
     "output_type": "stream",
     "text": [
      "C:\\Users\\rodri\\AppData\\Local\\Temp\\ipykernel_25020\\957583243.py:3: UserWarning: pandas only supports SQLAlchemy connectable (engine/connection) or database string URI or sqlite3 DBAPI2 connection. Other DBAPI2 objects are not tested. Please consider using SQLAlchemy.\n",
      "  customers = pd.read_sql_query(\"SELECT * FROM TPCH_SF10.CUSTOMER\", con=con)\n"
     ]
    },
    {
     "data": {
      "text/html": [
       "<div>\n",
       "<style scoped>\n",
       "    .dataframe tbody tr th:only-of-type {\n",
       "        vertical-align: middle;\n",
       "    }\n",
       "\n",
       "    .dataframe tbody tr th {\n",
       "        vertical-align: top;\n",
       "    }\n",
       "\n",
       "    .dataframe thead th {\n",
       "        text-align: right;\n",
       "    }\n",
       "</style>\n",
       "<table border=\"1\" class=\"dataframe\">\n",
       "  <thead>\n",
       "    <tr style=\"text-align: right;\">\n",
       "      <th></th>\n",
       "      <th>C_CUSTKEY</th>\n",
       "      <th>C_NAME</th>\n",
       "      <th>C_ADDRESS</th>\n",
       "      <th>C_NATIONKEY</th>\n",
       "      <th>C_PHONE</th>\n",
       "      <th>C_ACCTBAL</th>\n",
       "      <th>C_MKTSEGMENT</th>\n",
       "      <th>C_COMMENT</th>\n",
       "    </tr>\n",
       "  </thead>\n",
       "  <tbody>\n",
       "    <tr>\n",
       "      <th>0</th>\n",
       "      <td>240001</td>\n",
       "      <td>Customer#000240001</td>\n",
       "      <td>fdZ1APB4SDeNGqmeAfwUeNRr2WTUfxTeiGn</td>\n",
       "      <td>4</td>\n",
       "      <td>14-960-758-4196</td>\n",
       "      <td>-919.02</td>\n",
       "      <td>AUTOMOBILE</td>\n",
       "      <td>ial depths; deposits boost quickly! quickly ir...</td>\n",
       "    </tr>\n",
       "    <tr>\n",
       "      <th>1</th>\n",
       "      <td>240002</td>\n",
       "      <td>Customer#000240002</td>\n",
       "      <td>GULtva5Rk1x4269u5J9f5</td>\n",
       "      <td>6</td>\n",
       "      <td>16-742-578-4196</td>\n",
       "      <td>6986.42</td>\n",
       "      <td>MACHINERY</td>\n",
       "      <td>the escapades. carefully even instructions us...</td>\n",
       "    </tr>\n",
       "    <tr>\n",
       "      <th>2</th>\n",
       "      <td>240003</td>\n",
       "      <td>Customer#000240003</td>\n",
       "      <td>h40OSyWvmN</td>\n",
       "      <td>21</td>\n",
       "      <td>31-848-754-8675</td>\n",
       "      <td>4827.44</td>\n",
       "      <td>AUTOMOBILE</td>\n",
       "      <td>lyly above the furiously spec</td>\n",
       "    </tr>\n",
       "    <tr>\n",
       "      <th>3</th>\n",
       "      <td>240004</td>\n",
       "      <td>Customer#000240004</td>\n",
       "      <td>J5J92RLrB6a,Q4nQ3pYTS4X,1k8uUY</td>\n",
       "      <td>8</td>\n",
       "      <td>18-451-321-4162</td>\n",
       "      <td>7785.46</td>\n",
       "      <td>MACHINERY</td>\n",
       "      <td>ests sleep quickly along the sheaves. special ...</td>\n",
       "    </tr>\n",
       "  </tbody>\n",
       "</table>\n",
       "</div>"
      ],
      "text/plain": [
       "   C_CUSTKEY              C_NAME                            C_ADDRESS  \\\n",
       "0     240001  Customer#000240001  fdZ1APB4SDeNGqmeAfwUeNRr2WTUfxTeiGn   \n",
       "1     240002  Customer#000240002                GULtva5Rk1x4269u5J9f5   \n",
       "2     240003  Customer#000240003                           h40OSyWvmN   \n",
       "3     240004  Customer#000240004       J5J92RLrB6a,Q4nQ3pYTS4X,1k8uUY   \n",
       "\n",
       "   C_NATIONKEY          C_PHONE  C_ACCTBAL C_MKTSEGMENT  \\\n",
       "0            4  14-960-758-4196    -919.02   AUTOMOBILE   \n",
       "1            6  16-742-578-4196    6986.42    MACHINERY   \n",
       "2           21  31-848-754-8675    4827.44   AUTOMOBILE   \n",
       "3            8  18-451-321-4162    7785.46    MACHINERY   \n",
       "\n",
       "                                           C_COMMENT  \n",
       "0  ial depths; deposits boost quickly! quickly ir...  \n",
       "1   the escapades. carefully even instructions us...  \n",
       "2                      lyly above the furiously spec  \n",
       "3  ests sleep quickly along the sheaves. special ...  "
      ]
     },
     "execution_count": 9,
     "metadata": {},
     "output_type": "execute_result"
    }
   ],
   "source": [
    "import pandas as pd\n",
    "\n",
    "customers = pd.read_sql_query(\"SELECT * FROM TPCH_SF10.CUSTOMER\", con=con)\n",
    "customers.head(4)"
   ]
  },
  {
   "cell_type": "markdown",
   "metadata": {},
   "source": [
    "Tenéis más información sobre el conjunto de datos [aquí](https://docs.snowflake.com/en/user-guide/sample-data-tpch). Y diréis ¿por qué es importante saber usar SQL? Bueno, si nos pudiéramos traer todo a Pandas...\n",
    "\n",
    "```python\n",
    "orders = pd.read_sql_query(\"SELECT * FROM TPCH_SF1000.ORDERS\", con=con)\n",
    "orders.head(4)\n",
    "```"
   ]
  },
  {
   "cell_type": "markdown",
   "metadata": {},
   "source": [
    "## Pregunta 1\n",
    "\n",
    "Para los elementos en la lista de pedidos, información relativa a aquellos cuyo día de envío sea 90 días previo a la fecha dada (01 de Diciembre de 1998)."
   ]
  },
  {
   "cell_type": "code",
   "execution_count": 10,
   "metadata": {},
   "outputs": [
    {
     "name": "stderr",
     "output_type": "stream",
     "text": [
      "C:\\Users\\rodri\\AppData\\Local\\Temp\\ipykernel_25020\\2564960835.py:25: UserWarning: pandas only supports SQLAlchemy connectable (engine/connection) or database string URI or sqlite3 DBAPI2 connection. Other DBAPI2 objects are not tested. Please consider using SQLAlchemy.\n",
      "  result = pd.read_sql_query(query, con=con)\n"
     ]
    },
    {
     "data": {
      "text/html": [
       "<div>\n",
       "<style scoped>\n",
       "    .dataframe tbody tr th:only-of-type {\n",
       "        vertical-align: middle;\n",
       "    }\n",
       "\n",
       "    .dataframe tbody tr th {\n",
       "        vertical-align: top;\n",
       "    }\n",
       "\n",
       "    .dataframe thead th {\n",
       "        text-align: right;\n",
       "    }\n",
       "</style>\n",
       "<table border=\"1\" class=\"dataframe\">\n",
       "  <thead>\n",
       "    <tr style=\"text-align: right;\">\n",
       "      <th></th>\n",
       "      <th>L_RETURNFLAG</th>\n",
       "      <th>L_LINESTATUS</th>\n",
       "      <th>SUM_QTY</th>\n",
       "      <th>SUM_BASE_PRICE</th>\n",
       "      <th>SUM_DISC_PRICE</th>\n",
       "      <th>SUM_CHARGE</th>\n",
       "      <th>AVG_QTY</th>\n",
       "      <th>AVG_PRICE</th>\n",
       "      <th>AVG_DISC</th>\n",
       "      <th>COUNT_ORDER</th>\n",
       "    </tr>\n",
       "  </thead>\n",
       "  <tbody>\n",
       "    <tr>\n",
       "      <th>0</th>\n",
       "      <td>A</td>\n",
       "      <td>F</td>\n",
       "      <td>37734107.0</td>\n",
       "      <td>5.658655e+10</td>\n",
       "      <td>5.375826e+10</td>\n",
       "      <td>5.590907e+10</td>\n",
       "      <td>25.522006</td>\n",
       "      <td>38273.129735</td>\n",
       "      <td>0.049985</td>\n",
       "      <td>1478493</td>\n",
       "    </tr>\n",
       "    <tr>\n",
       "      <th>1</th>\n",
       "      <td>N</td>\n",
       "      <td>F</td>\n",
       "      <td>991417.0</td>\n",
       "      <td>1.487505e+09</td>\n",
       "      <td>1.413082e+09</td>\n",
       "      <td>1.469649e+09</td>\n",
       "      <td>25.516472</td>\n",
       "      <td>38284.467761</td>\n",
       "      <td>0.050093</td>\n",
       "      <td>38854</td>\n",
       "    </tr>\n",
       "    <tr>\n",
       "      <th>2</th>\n",
       "      <td>N</td>\n",
       "      <td>O</td>\n",
       "      <td>74476040.0</td>\n",
       "      <td>1.117017e+11</td>\n",
       "      <td>1.061182e+11</td>\n",
       "      <td>1.103670e+11</td>\n",
       "      <td>25.502227</td>\n",
       "      <td>38249.117989</td>\n",
       "      <td>0.049997</td>\n",
       "      <td>2920374</td>\n",
       "    </tr>\n",
       "    <tr>\n",
       "      <th>3</th>\n",
       "      <td>R</td>\n",
       "      <td>F</td>\n",
       "      <td>37719753.0</td>\n",
       "      <td>5.656804e+10</td>\n",
       "      <td>5.374129e+10</td>\n",
       "      <td>5.588962e+10</td>\n",
       "      <td>25.505794</td>\n",
       "      <td>38250.854626</td>\n",
       "      <td>0.050009</td>\n",
       "      <td>1478870</td>\n",
       "    </tr>\n",
       "  </tbody>\n",
       "</table>\n",
       "</div>"
      ],
      "text/plain": [
       "  L_RETURNFLAG L_LINESTATUS     SUM_QTY  SUM_BASE_PRICE  SUM_DISC_PRICE  \\\n",
       "0            A            F  37734107.0    5.658655e+10    5.375826e+10   \n",
       "1            N            F    991417.0    1.487505e+09    1.413082e+09   \n",
       "2            N            O  74476040.0    1.117017e+11    1.061182e+11   \n",
       "3            R            F  37719753.0    5.656804e+10    5.374129e+10   \n",
       "\n",
       "     SUM_CHARGE    AVG_QTY     AVG_PRICE  AVG_DISC  COUNT_ORDER  \n",
       "0  5.590907e+10  25.522006  38273.129735  0.049985      1478493  \n",
       "1  1.469649e+09  25.516472  38284.467761  0.050093        38854  \n",
       "2  1.103670e+11  25.502227  38249.117989  0.049997      2920374  \n",
       "3  5.588962e+10  25.505794  38250.854626  0.050009      1478870  "
      ]
     },
     "execution_count": 10,
     "metadata": {},
     "output_type": "execute_result"
    }
   ],
   "source": [
    "query = \"\"\"\n",
    "select\n",
    "\tl_returnflag,\n",
    "\tl_linestatus,\n",
    "\tsum(l_quantity) as sum_qty,\n",
    "\tsum(l_extendedprice) as sum_base_price,\n",
    "\tsum(l_extendedprice * (1 - l_discount)) as sum_disc_price,\n",
    "\tsum(l_extendedprice * (1 - l_discount) * (1 + l_tax)) as sum_charge,\n",
    "\tavg(l_quantity) as avg_qty,\n",
    "\tavg(l_extendedprice) as avg_price,\n",
    "\tavg(l_discount) as avg_disc,\n",
    "\tcount(*) as count_order\n",
    "from\n",
    "\tTPCH_SF1.lineitem\n",
    "where\n",
    "\tl_shipdate <= DATEADD(day, -90, '1998-12-01')\n",
    "group by\n",
    "\tl_returnflag,\n",
    "\tl_linestatus\n",
    "order by\n",
    "\tl_returnflag,\n",
    "\tl_linestatus;\n",
    "\"\"\"\n",
    "\n",
    "result = pd.read_sql_query(query, con=con)\n",
    "result"
   ]
  },
  {
   "cell_type": "markdown",
   "metadata": {},
   "source": [
    "### Pregunta 2\n",
    "\n",
    "Encuentra el proveedor en regiones concretas que puede proveed cada parte de un pedido a su mínimo precio. "
   ]
  },
  {
   "cell_type": "code",
   "execution_count": 11,
   "metadata": {},
   "outputs": [
    {
     "name": "stderr",
     "output_type": "stream",
     "text": [
      "C:\\Users\\rodri\\AppData\\Local\\Temp\\ipykernel_25020\\1463180599.py:47: UserWarning: pandas only supports SQLAlchemy connectable (engine/connection) or database string URI or sqlite3 DBAPI2 connection. Other DBAPI2 objects are not tested. Please consider using SQLAlchemy.\n",
      "  result = pd.read_sql_query(query, con=con)\n"
     ]
    },
    {
     "data": {
      "text/html": [
       "<div>\n",
       "<style scoped>\n",
       "    .dataframe tbody tr th:only-of-type {\n",
       "        vertical-align: middle;\n",
       "    }\n",
       "\n",
       "    .dataframe tbody tr th {\n",
       "        vertical-align: top;\n",
       "    }\n",
       "\n",
       "    .dataframe thead th {\n",
       "        text-align: right;\n",
       "    }\n",
       "</style>\n",
       "<table border=\"1\" class=\"dataframe\">\n",
       "  <thead>\n",
       "    <tr style=\"text-align: right;\">\n",
       "      <th></th>\n",
       "      <th>S_ACCTBAL</th>\n",
       "      <th>S_NAME</th>\n",
       "      <th>N_NAME</th>\n",
       "      <th>P_PARTKEY</th>\n",
       "      <th>P_MFGR</th>\n",
       "      <th>S_ADDRESS</th>\n",
       "      <th>S_PHONE</th>\n",
       "      <th>S_COMMENT</th>\n",
       "    </tr>\n",
       "  </thead>\n",
       "  <tbody>\n",
       "    <tr>\n",
       "      <th>0</th>\n",
       "      <td>9938.53</td>\n",
       "      <td>Supplier#000005359</td>\n",
       "      <td>UNITED KINGDOM</td>\n",
       "      <td>185358</td>\n",
       "      <td>Manufacturer#4</td>\n",
       "      <td>QKuHYh,vZGiwu2FWEJoLDx04</td>\n",
       "      <td>33-429-790-6131</td>\n",
       "      <td>uriously regular requests hag</td>\n",
       "    </tr>\n",
       "    <tr>\n",
       "      <th>1</th>\n",
       "      <td>9937.84</td>\n",
       "      <td>Supplier#000005969</td>\n",
       "      <td>ROMANIA</td>\n",
       "      <td>108438</td>\n",
       "      <td>Manufacturer#1</td>\n",
       "      <td>ANDENSOSmk,miq23Xfb5RWt6dvUcvt6Qa</td>\n",
       "      <td>29-520-692-3537</td>\n",
       "      <td>efully express instructions. regular requests ...</td>\n",
       "    </tr>\n",
       "    <tr>\n",
       "      <th>2</th>\n",
       "      <td>9936.22</td>\n",
       "      <td>Supplier#000005250</td>\n",
       "      <td>UNITED KINGDOM</td>\n",
       "      <td>249</td>\n",
       "      <td>Manufacturer#4</td>\n",
       "      <td>B3rqp0xbSEim4Mpy2RH J</td>\n",
       "      <td>33-320-228-2957</td>\n",
       "      <td>etect about the furiously final accounts. slyl...</td>\n",
       "    </tr>\n",
       "    <tr>\n",
       "      <th>3</th>\n",
       "      <td>9923.77</td>\n",
       "      <td>Supplier#000002324</td>\n",
       "      <td>GERMANY</td>\n",
       "      <td>29821</td>\n",
       "      <td>Manufacturer#4</td>\n",
       "      <td>y3OD9UywSTOk</td>\n",
       "      <td>17-779-299-1839</td>\n",
       "      <td>ackages boost blithely. blithely regular depos...</td>\n",
       "    </tr>\n",
       "    <tr>\n",
       "      <th>4</th>\n",
       "      <td>9871.22</td>\n",
       "      <td>Supplier#000006373</td>\n",
       "      <td>GERMANY</td>\n",
       "      <td>43868</td>\n",
       "      <td>Manufacturer#5</td>\n",
       "      <td>J8fcXWsTqM</td>\n",
       "      <td>17-813-485-8637</td>\n",
       "      <td>etect blithely bold asymptotes. fluffily ironi...</td>\n",
       "    </tr>\n",
       "    <tr>\n",
       "      <th>...</th>\n",
       "      <td>...</td>\n",
       "      <td>...</td>\n",
       "      <td>...</td>\n",
       "      <td>...</td>\n",
       "      <td>...</td>\n",
       "      <td>...</td>\n",
       "      <td>...</td>\n",
       "      <td>...</td>\n",
       "    </tr>\n",
       "    <tr>\n",
       "      <th>95</th>\n",
       "      <td>7887.08</td>\n",
       "      <td>Supplier#000009792</td>\n",
       "      <td>GERMANY</td>\n",
       "      <td>164759</td>\n",
       "      <td>Manufacturer#3</td>\n",
       "      <td>Y28ITVeYriT3kIGdV2K8fSZ V2UqT5H1Otz</td>\n",
       "      <td>17-988-938-4296</td>\n",
       "      <td>ckly around the carefully fluffy theodolites. ...</td>\n",
       "    </tr>\n",
       "    <tr>\n",
       "      <th>96</th>\n",
       "      <td>7871.50</td>\n",
       "      <td>Supplier#000007206</td>\n",
       "      <td>RUSSIA</td>\n",
       "      <td>104695</td>\n",
       "      <td>Manufacturer#1</td>\n",
       "      <td>3w fNCnrVmvJjE95sgWZzvW</td>\n",
       "      <td>32-432-452-7731</td>\n",
       "      <td>ironic requests. furiously final theodolites c...</td>\n",
       "    </tr>\n",
       "    <tr>\n",
       "      <th>97</th>\n",
       "      <td>7852.45</td>\n",
       "      <td>Supplier#000005864</td>\n",
       "      <td>RUSSIA</td>\n",
       "      <td>8363</td>\n",
       "      <td>Manufacturer#4</td>\n",
       "      <td>WCNfBPZeSXh3h,c</td>\n",
       "      <td>32-454-883-3821</td>\n",
       "      <td>usly unusual pinto beans. brave ideas sleep ca...</td>\n",
       "    </tr>\n",
       "    <tr>\n",
       "      <th>98</th>\n",
       "      <td>7850.66</td>\n",
       "      <td>Supplier#000001518</td>\n",
       "      <td>UNITED KINGDOM</td>\n",
       "      <td>86501</td>\n",
       "      <td>Manufacturer#1</td>\n",
       "      <td>ONda3YJiHKJOC</td>\n",
       "      <td>33-730-383-3892</td>\n",
       "      <td>ifts haggle fluffily pending pai</td>\n",
       "    </tr>\n",
       "    <tr>\n",
       "      <th>99</th>\n",
       "      <td>7843.52</td>\n",
       "      <td>Supplier#000006683</td>\n",
       "      <td>FRANCE</td>\n",
       "      <td>11680</td>\n",
       "      <td>Manufacturer#4</td>\n",
       "      <td>2Z0JGkiv01Y00oCFwUGfviIbhzCdy</td>\n",
       "      <td>16-464-517-8943</td>\n",
       "      <td>express, final pinto beans x-ray slyly asympt...</td>\n",
       "    </tr>\n",
       "  </tbody>\n",
       "</table>\n",
       "<p>100 rows × 8 columns</p>\n",
       "</div>"
      ],
      "text/plain": [
       "    S_ACCTBAL              S_NAME          N_NAME  P_PARTKEY          P_MFGR  \\\n",
       "0     9938.53  Supplier#000005359  UNITED KINGDOM     185358  Manufacturer#4   \n",
       "1     9937.84  Supplier#000005969         ROMANIA     108438  Manufacturer#1   \n",
       "2     9936.22  Supplier#000005250  UNITED KINGDOM        249  Manufacturer#4   \n",
       "3     9923.77  Supplier#000002324         GERMANY      29821  Manufacturer#4   \n",
       "4     9871.22  Supplier#000006373         GERMANY      43868  Manufacturer#5   \n",
       "..        ...                 ...             ...        ...             ...   \n",
       "95    7887.08  Supplier#000009792         GERMANY     164759  Manufacturer#3   \n",
       "96    7871.50  Supplier#000007206          RUSSIA     104695  Manufacturer#1   \n",
       "97    7852.45  Supplier#000005864          RUSSIA       8363  Manufacturer#4   \n",
       "98    7850.66  Supplier#000001518  UNITED KINGDOM      86501  Manufacturer#1   \n",
       "99    7843.52  Supplier#000006683          FRANCE      11680  Manufacturer#4   \n",
       "\n",
       "                              S_ADDRESS          S_PHONE  \\\n",
       "0              QKuHYh,vZGiwu2FWEJoLDx04  33-429-790-6131   \n",
       "1     ANDENSOSmk,miq23Xfb5RWt6dvUcvt6Qa  29-520-692-3537   \n",
       "2                 B3rqp0xbSEim4Mpy2RH J  33-320-228-2957   \n",
       "3                          y3OD9UywSTOk  17-779-299-1839   \n",
       "4                            J8fcXWsTqM  17-813-485-8637   \n",
       "..                                  ...              ...   \n",
       "95  Y28ITVeYriT3kIGdV2K8fSZ V2UqT5H1Otz  17-988-938-4296   \n",
       "96              3w fNCnrVmvJjE95sgWZzvW  32-432-452-7731   \n",
       "97                      WCNfBPZeSXh3h,c  32-454-883-3821   \n",
       "98                        ONda3YJiHKJOC  33-730-383-3892   \n",
       "99        2Z0JGkiv01Y00oCFwUGfviIbhzCdy  16-464-517-8943   \n",
       "\n",
       "                                            S_COMMENT  \n",
       "0                       uriously regular requests hag  \n",
       "1   efully express instructions. regular requests ...  \n",
       "2   etect about the furiously final accounts. slyl...  \n",
       "3   ackages boost blithely. blithely regular depos...  \n",
       "4   etect blithely bold asymptotes. fluffily ironi...  \n",
       "..                                                ...  \n",
       "95  ckly around the carefully fluffy theodolites. ...  \n",
       "96  ironic requests. furiously final theodolites c...  \n",
       "97  usly unusual pinto beans. brave ideas sleep ca...  \n",
       "98                   ifts haggle fluffily pending pai  \n",
       "99   express, final pinto beans x-ray slyly asympt...  \n",
       "\n",
       "[100 rows x 8 columns]"
      ]
     },
     "execution_count": 11,
     "metadata": {},
     "output_type": "execute_result"
    }
   ],
   "source": [
    "query = \"\"\"\n",
    "select\n",
    "\ts_acctbal,\n",
    "\ts_name,\n",
    "\tn_name,\n",
    "\tp_partkey,\n",
    "\tp_mfgr,\n",
    "\ts_address,\n",
    "\ts_phone,\n",
    "\ts_comment\n",
    "from\n",
    "\tTPCH_SF1.part,\n",
    "\tTPCH_SF1.supplier,\n",
    "\tTPCH_SF1.partsupp,\n",
    "\tTPCH_SF1.nation,\n",
    "\tTPCH_SF1.region\n",
    "where\n",
    "\tp_partkey = ps_partkey\n",
    "\tand s_suppkey = ps_suppkey\n",
    "\tand p_size = 15\n",
    "\tand p_type like '%BRASS'\n",
    "\tand s_nationkey = n_nationkey\n",
    "\tand n_regionkey = r_regionkey\n",
    "\tand r_name = 'EUROPE'\n",
    "\tand ps_supplycost = (\n",
    "\t\tselect\n",
    "\t\t\tmin(ps_supplycost)\n",
    "\t\tfrom\n",
    "\t\t\tTPCH_SF1.partsupp,\n",
    "\t\t\tTPCH_SF1.supplier,\n",
    "\t\t\tTPCH_SF1.nation,\n",
    "\t\t\tTPCH_SF1.region\n",
    "\t\twhere\n",
    "\t\t\tp_partkey = ps_partkey\n",
    "\t\t\tand s_suppkey = ps_suppkey\n",
    "\t\t\tand s_nationkey = n_nationkey\n",
    "\t\t\tand n_regionkey = r_regionkey\n",
    "\t\t\tand r_name = 'EUROPE'\n",
    "\t)\n",
    "order by\n",
    "\ts_acctbal desc,\n",
    "\tn_name,\n",
    "\ts_name,\n",
    "\tp_partkey LIMIT 100;\n",
    "\"\"\"\n",
    "\n",
    "result = pd.read_sql_query(query, con=con)\n",
    "result"
   ]
  },
  {
   "cell_type": "markdown",
   "metadata": {},
   "source": [
    "Tenéis más ejemplos de preguntas con cierto carácter analítico en el siguiente [repositorio](https://github.com/SatoriCyber/snowflake-tpch-timing/blob/master/tpch.sql). \n",
    "\n",
    "# Abstracciones DataFrames\n",
    "\n",
    "Existen soluciones que nos permiten interactuar empleando las APIs conocidas (Pandas) pero impactando directamente sobre la base de datos con queries. Hay que prestar atención porque las consultas no se lanzan hasta que se requiere pintar los resultados (`.show()`, `.collect()`, `.to_pandas()`)"
   ]
  },
  {
   "cell_type": "code",
   "execution_count": 2,
   "metadata": {},
   "outputs": [
    {
     "name": "stdout",
     "output_type": "stream",
     "text": [
      "Collecting snowflake-snowpark-python\n",
      "  Downloading snowflake_snowpark_python-1.18.0-py3-none-any.whl.metadata (69 kB)\n",
      "     ---------------------------------------- 0.0/69.7 kB ? eta -:--:--\n",
      "     ----- ---------------------------------- 10.2/69.7 kB ? eta -:--:--\n",
      "     ----------- -------------------------- 20.5/69.7 kB 330.3 kB/s eta 0:00:01\n",
      "     ---------------------- --------------- 41.0/69.7 kB 279.3 kB/s eta 0:00:01\n",
      "     -------------------------------------- 69.7/69.7 kB 345.6 kB/s eta 0:00:00\n",
      "Requirement already satisfied: setuptools>=40.6.0 in c:\\users\\rodri\\anaconda3\\lib\\site-packages (from snowflake-snowpark-python) (68.2.2)\n",
      "Requirement already satisfied: wheel in c:\\users\\rodri\\anaconda3\\lib\\site-packages (from snowflake-snowpark-python) (0.41.2)\n",
      "Requirement already satisfied: snowflake-connector-python<4.0.0,>=3.10.0 in c:\\users\\rodri\\anaconda3\\lib\\site-packages (from snowflake-snowpark-python) (3.10.1)\n",
      "Requirement already satisfied: typing-extensions<5.0.0,>=4.1.0 in c:\\users\\rodri\\anaconda3\\lib\\site-packages (from snowflake-snowpark-python) (4.9.0)\n",
      "Requirement already satisfied: pyyaml in c:\\users\\rodri\\anaconda3\\lib\\site-packages (from snowflake-snowpark-python) (6.0.1)\n",
      "Requirement already satisfied: cloudpickle==2.2.1 in c:\\users\\rodri\\anaconda3\\lib\\site-packages (from snowflake-snowpark-python) (2.2.1)\n",
      "Requirement already satisfied: asn1crypto<2.0.0,>0.24.0 in c:\\users\\rodri\\anaconda3\\lib\\site-packages (from snowflake-connector-python<4.0.0,>=3.10.0->snowflake-snowpark-python) (1.5.1)\n",
      "Requirement already satisfied: cffi<2.0.0,>=1.9 in c:\\users\\rodri\\anaconda3\\lib\\site-packages (from snowflake-connector-python<4.0.0,>=3.10.0->snowflake-snowpark-python) (1.16.0)\n",
      "Requirement already satisfied: cryptography<43.0.0,>=3.1.0 in c:\\users\\rodri\\anaconda3\\lib\\site-packages (from snowflake-connector-python<4.0.0,>=3.10.0->snowflake-snowpark-python) (42.0.2)\n",
      "Requirement already satisfied: pyOpenSSL<25.0.0,>=16.2.0 in c:\\users\\rodri\\anaconda3\\lib\\site-packages (from snowflake-connector-python<4.0.0,>=3.10.0->snowflake-snowpark-python) (24.0.0)\n",
      "Requirement already satisfied: pyjwt<3.0.0 in c:\\users\\rodri\\anaconda3\\lib\\site-packages (from snowflake-connector-python<4.0.0,>=3.10.0->snowflake-snowpark-python) (2.4.0)\n",
      "Requirement already satisfied: pytz in c:\\users\\rodri\\anaconda3\\lib\\site-packages (from snowflake-connector-python<4.0.0,>=3.10.0->snowflake-snowpark-python) (2023.3.post1)\n",
      "Requirement already satisfied: requests<3.0.0 in c:\\users\\rodri\\anaconda3\\lib\\site-packages (from snowflake-connector-python<4.0.0,>=3.10.0->snowflake-snowpark-python) (2.31.0)\n",
      "Requirement already satisfied: packaging in c:\\users\\rodri\\anaconda3\\lib\\site-packages (from snowflake-connector-python<4.0.0,>=3.10.0->snowflake-snowpark-python) (23.1)\n",
      "Requirement already satisfied: charset-normalizer<4,>=2 in c:\\users\\rodri\\anaconda3\\lib\\site-packages (from snowflake-connector-python<4.0.0,>=3.10.0->snowflake-snowpark-python) (2.0.4)\n",
      "Requirement already satisfied: idna<4,>=2.5 in c:\\users\\rodri\\anaconda3\\lib\\site-packages (from snowflake-connector-python<4.0.0,>=3.10.0->snowflake-snowpark-python) (3.4)\n",
      "Requirement already satisfied: certifi>=2017.4.17 in c:\\users\\rodri\\anaconda3\\lib\\site-packages (from snowflake-connector-python<4.0.0,>=3.10.0->snowflake-snowpark-python) (2024.2.2)\n",
      "Requirement already satisfied: filelock<4,>=3.5 in c:\\users\\rodri\\anaconda3\\lib\\site-packages (from snowflake-connector-python<4.0.0,>=3.10.0->snowflake-snowpark-python) (3.13.1)\n",
      "Requirement already satisfied: sortedcontainers>=2.4.0 in c:\\users\\rodri\\anaconda3\\lib\\site-packages (from snowflake-connector-python<4.0.0,>=3.10.0->snowflake-snowpark-python) (2.4.0)\n",
      "Requirement already satisfied: platformdirs<5.0.0,>=2.6.0 in c:\\users\\rodri\\anaconda3\\lib\\site-packages (from snowflake-connector-python<4.0.0,>=3.10.0->snowflake-snowpark-python) (3.10.0)\n",
      "Requirement already satisfied: tomlkit in c:\\users\\rodri\\anaconda3\\lib\\site-packages (from snowflake-connector-python<4.0.0,>=3.10.0->snowflake-snowpark-python) (0.11.1)\n",
      "Requirement already satisfied: pycparser in c:\\users\\rodri\\anaconda3\\lib\\site-packages (from cffi<2.0.0,>=1.9->snowflake-connector-python<4.0.0,>=3.10.0->snowflake-snowpark-python) (2.21)\n",
      "Requirement already satisfied: urllib3<3,>=1.21.1 in c:\\users\\rodri\\anaconda3\\lib\\site-packages (from requests<3.0.0->snowflake-connector-python<4.0.0,>=3.10.0->snowflake-snowpark-python) (2.0.7)\n",
      "Downloading snowflake_snowpark_python-1.18.0-py3-none-any.whl (1.2 MB)\n",
      "   ---------------------------------------- 0.0/1.2 MB ? eta -:--:--\n",
      "   - -------------------------------------- 0.0/1.2 MB 1.4 MB/s eta 0:00:01\n",
      "   -- ------------------------------------- 0.1/1.2 MB 991.0 kB/s eta 0:00:02\n",
      "   --- ------------------------------------ 0.1/1.2 MB 939.4 kB/s eta 0:00:02\n",
      "   ----- ---------------------------------- 0.2/1.2 MB 838.4 kB/s eta 0:00:02\n",
      "   ------ --------------------------------- 0.2/1.2 MB 908.0 kB/s eta 0:00:02\n",
      "   -------- ------------------------------- 0.2/1.2 MB 901.1 kB/s eta 0:00:02\n",
      "   ---------- ----------------------------- 0.3/1.2 MB 951.8 kB/s eta 0:00:01\n",
      "   ------------ --------------------------- 0.4/1.2 MB 928.4 kB/s eta 0:00:01\n",
      "   ------------- -------------------------- 0.4/1.2 MB 958.4 kB/s eta 0:00:01\n",
      "   --------------- ------------------------ 0.5/1.2 MB 972.0 kB/s eta 0:00:01\n",
      "   ------------------ --------------------- 0.5/1.2 MB 994.2 kB/s eta 0:00:01\n",
      "   -------------------- ------------------- 0.6/1.2 MB 1.0 MB/s eta 0:00:01\n",
      "   --------------------- ------------------ 0.6/1.2 MB 1.1 MB/s eta 0:00:01\n",
      "   ------------------------ --------------- 0.7/1.2 MB 1.1 MB/s eta 0:00:01\n",
      "   -------------------------- ------------- 0.8/1.2 MB 1.1 MB/s eta 0:00:01\n",
      "   ----------------------------- ---------- 0.8/1.2 MB 1.1 MB/s eta 0:00:01\n",
      "   ------------------------------ --------- 0.9/1.2 MB 1.1 MB/s eta 0:00:01\n",
      "   --------------------------------- ------ 1.0/1.2 MB 1.1 MB/s eta 0:00:01\n",
      "   ------------------------------------ --- 1.0/1.2 MB 1.2 MB/s eta 0:00:01\n",
      "   ------------------------------------- -- 1.1/1.2 MB 1.2 MB/s eta 0:00:01\n",
      "   ---------------------------------------  1.2/1.2 MB 1.1 MB/s eta 0:00:01\n",
      "   ---------------------------------------- 1.2/1.2 MB 1.1 MB/s eta 0:00:00\n",
      "Installing collected packages: snowflake-snowpark-python\n",
      "Successfully installed snowflake-snowpark-python-1.18.0\n"
     ]
    }
   ],
   "source": [
    "!pip install snowflake-snowpark-python "
   ]
  },
  {
   "cell_type": "code",
   "execution_count": 4,
   "metadata": {},
   "outputs": [],
   "source": [
    "from snowflake.snowpark import Session\n",
    "\n",
    "connection_parameters = {\n",
    "    \"account\": \"vgllonw-lf55270\",\n",
    "    \"user\": \"RODRIGOMEZAORTIZ\",\n",
    "    \"password\": \"19821718Rodrigo\",\n",
    "    \"database\" : \"SNOWFLAKE_SAMPLE_DATA\"\n",
    "}  \n",
    "\n",
    "new_session = Session.builder.configs(connection_parameters).create()  "
   ]
  },
  {
   "cell_type": "markdown",
   "metadata": {},
   "source": [
    "Una vez iniciada la sesión podemos vincular variables locales a tablas en la base de datos."
   ]
  },
  {
   "cell_type": "code",
   "execution_count": 5,
   "metadata": {},
   "outputs": [],
   "source": [
    "df_region = new_session.table(\"TPCH_SF1.region\")"
   ]
  },
  {
   "cell_type": "markdown",
   "metadata": {},
   "source": [
    "Unicamente registra el nexo entre la variable y la tabla, de manera que si quisiéramos obtener esos datos dispondríamos de la consulta que los muestra."
   ]
  },
  {
   "cell_type": "code",
   "execution_count": 6,
   "metadata": {},
   "outputs": [
    {
     "data": {
      "text/plain": [
       "{'queries': ['SELECT  *  FROM (TPCH_SF1.region)'], 'post_actions': []}"
      ]
     },
     "execution_count": 6,
     "metadata": {},
     "output_type": "execute_result"
    }
   ],
   "source": [
    "df_region.queries"
   ]
  },
  {
   "cell_type": "markdown",
   "metadata": {},
   "source": [
    "`.show` lanza la consulta y nos muestra los 10 elementos iniciales de la tabla."
   ]
  },
  {
   "cell_type": "code",
   "execution_count": 7,
   "metadata": {},
   "outputs": [
    {
     "name": "stdout",
     "output_type": "stream",
     "text": [
      "------------------------------------------------------------------------------------\n",
      "|\"R_REGIONKEY\"  |\"R_NAME\"     |\"R_COMMENT\"                                         |\n",
      "------------------------------------------------------------------------------------\n",
      "|0              |AFRICA       |lar deposits. blithely final packages cajole. r...  |\n",
      "|1              |AMERICA      |hs use ironic, even requests. s                     |\n",
      "|2              |ASIA         |ges. thinly even pinto beans ca                     |\n",
      "|3              |EUROPE       |ly final courts cajole furiously final excuse       |\n",
      "|4              |MIDDLE EAST  |uickly special accounts cajole carefully blithe...  |\n",
      "------------------------------------------------------------------------------------\n",
      "\n"
     ]
    }
   ],
   "source": [
    "df_region.show(10)"
   ]
  },
  {
   "cell_type": "markdown",
   "metadata": {},
   "source": [
    "Mientras que `.to_pandas`retorna los datos a un objeto pandas en nuestra máquina."
   ]
  },
  {
   "cell_type": "code",
   "execution_count": 8,
   "metadata": {},
   "outputs": [
    {
     "data": {
      "text/html": [
       "<div>\n",
       "<style scoped>\n",
       "    .dataframe tbody tr th:only-of-type {\n",
       "        vertical-align: middle;\n",
       "    }\n",
       "\n",
       "    .dataframe tbody tr th {\n",
       "        vertical-align: top;\n",
       "    }\n",
       "\n",
       "    .dataframe thead th {\n",
       "        text-align: right;\n",
       "    }\n",
       "</style>\n",
       "<table border=\"1\" class=\"dataframe\">\n",
       "  <thead>\n",
       "    <tr style=\"text-align: right;\">\n",
       "      <th></th>\n",
       "      <th>R_REGIONKEY</th>\n",
       "      <th>R_NAME</th>\n",
       "      <th>R_COMMENT</th>\n",
       "    </tr>\n",
       "  </thead>\n",
       "  <tbody>\n",
       "    <tr>\n",
       "      <th>0</th>\n",
       "      <td>0</td>\n",
       "      <td>AFRICA</td>\n",
       "      <td>lar deposits. blithely final packages cajole. ...</td>\n",
       "    </tr>\n",
       "    <tr>\n",
       "      <th>1</th>\n",
       "      <td>1</td>\n",
       "      <td>AMERICA</td>\n",
       "      <td>hs use ironic, even requests. s</td>\n",
       "    </tr>\n",
       "    <tr>\n",
       "      <th>2</th>\n",
       "      <td>2</td>\n",
       "      <td>ASIA</td>\n",
       "      <td>ges. thinly even pinto beans ca</td>\n",
       "    </tr>\n",
       "    <tr>\n",
       "      <th>3</th>\n",
       "      <td>3</td>\n",
       "      <td>EUROPE</td>\n",
       "      <td>ly final courts cajole furiously final excuse</td>\n",
       "    </tr>\n",
       "    <tr>\n",
       "      <th>4</th>\n",
       "      <td>4</td>\n",
       "      <td>MIDDLE EAST</td>\n",
       "      <td>uickly special accounts cajole carefully blith...</td>\n",
       "    </tr>\n",
       "  </tbody>\n",
       "</table>\n",
       "</div>"
      ],
      "text/plain": [
       "   R_REGIONKEY       R_NAME                                          R_COMMENT\n",
       "0            0       AFRICA  lar deposits. blithely final packages cajole. ...\n",
       "1            1      AMERICA                    hs use ironic, even requests. s\n",
       "2            2         ASIA                    ges. thinly even pinto beans ca\n",
       "3            3       EUROPE      ly final courts cajole furiously final excuse\n",
       "4            4  MIDDLE EAST  uickly special accounts cajole carefully blith..."
      ]
     },
     "execution_count": 8,
     "metadata": {},
     "output_type": "execute_result"
    }
   ],
   "source": [
    "df_region.to_pandas()"
   ]
  },
  {
   "cell_type": "markdown",
   "metadata": {},
   "source": [
    "Podemos generar abstracciones mayores, por ejemplo tablas que sean joins de varias."
   ]
  },
  {
   "cell_type": "code",
   "execution_count": 9,
   "metadata": {},
   "outputs": [],
   "source": [
    "df_nation = new_session.table(\"TPCH_SF1.nation\")"
   ]
  },
  {
   "cell_type": "code",
   "execution_count": 10,
   "metadata": {},
   "outputs": [
    {
     "data": {
      "text/plain": [
       "{'queries': ['SELECT  *  FROM (( SELECT \"N_NATIONKEY\" AS \"N_NATIONKEY\", \"N_NAME\" AS \"N_NAME\", \"N_REGIONKEY\" AS \"N_REGIONKEY\", \"N_COMMENT\" AS \"N_COMMENT\" FROM TPCH_SF1.nation) AS SNOWPARK_LEFT INNER JOIN ( SELECT \"R_REGIONKEY\" AS \"R_REGIONKEY\", \"R_NAME\" AS \"R_NAME\", \"R_COMMENT\" AS \"R_COMMENT\" FROM TPCH_SF1.region) AS SNOWPARK_RIGHT)'],\n",
       " 'post_actions': []}"
      ]
     },
     "execution_count": 10,
     "metadata": {},
     "output_type": "execute_result"
    }
   ],
   "source": [
    "df_nation_region = df_nation.join(df_region, \"R_REGIONKEY\" == \"N_REGIONKEY\")\n",
    "df_nation_region.queries"
   ]
  },
  {
   "cell_type": "markdown",
   "metadata": {},
   "source": [
    "Una vez requerimos una acción es cuando se lanza la consulta construida."
   ]
  },
  {
   "cell_type": "code",
   "execution_count": 11,
   "metadata": {},
   "outputs": [
    {
     "name": "stdout",
     "output_type": "stream",
     "text": [
      "-------------------------------------------------------------------------------------------------------------------------------------------------------------------------------------\n",
      "|\"N_NATIONKEY\"  |\"N_NAME\"   |\"N_REGIONKEY\"  |\"N_COMMENT\"                                         |\"R_REGIONKEY\"  |\"R_NAME\"     |\"R_COMMENT\"                                         |\n",
      "-------------------------------------------------------------------------------------------------------------------------------------------------------------------------------------\n",
      "|0              |ALGERIA    |0              | haggle. carefully final deposits detect slyly ...  |0              |AFRICA       |lar deposits. blithely final packages cajole. r...  |\n",
      "|0              |ALGERIA    |0              | haggle. carefully final deposits detect slyly ...  |1              |AMERICA      |hs use ironic, even requests. s                     |\n",
      "|0              |ALGERIA    |0              | haggle. carefully final deposits detect slyly ...  |2              |ASIA         |ges. thinly even pinto beans ca                     |\n",
      "|0              |ALGERIA    |0              | haggle. carefully final deposits detect slyly ...  |3              |EUROPE       |ly final courts cajole furiously final excuse       |\n",
      "|0              |ALGERIA    |0              | haggle. carefully final deposits detect slyly ...  |4              |MIDDLE EAST  |uickly special accounts cajole carefully blithe...  |\n",
      "|1              |ARGENTINA  |1              |al foxes promise slyly according to the regular...  |0              |AFRICA       |lar deposits. blithely final packages cajole. r...  |\n",
      "|1              |ARGENTINA  |1              |al foxes promise slyly according to the regular...  |1              |AMERICA      |hs use ironic, even requests. s                     |\n",
      "|1              |ARGENTINA  |1              |al foxes promise slyly according to the regular...  |2              |ASIA         |ges. thinly even pinto beans ca                     |\n",
      "|1              |ARGENTINA  |1              |al foxes promise slyly according to the regular...  |3              |EUROPE       |ly final courts cajole furiously final excuse       |\n",
      "|1              |ARGENTINA  |1              |al foxes promise slyly according to the regular...  |4              |MIDDLE EAST  |uickly special accounts cajole carefully blithe...  |\n",
      "-------------------------------------------------------------------------------------------------------------------------------------------------------------------------------------\n",
      "\n"
     ]
    }
   ],
   "source": [
    "df_nation_region.show(10)"
   ]
  },
  {
   "cell_type": "markdown",
   "metadata": {},
   "source": [
    "Podemos anidar filtros y agregaciones y únicamente al incluir la acción final es cuando se lanzarán las consultas."
   ]
  },
  {
   "cell_type": "code",
   "execution_count": 12,
   "metadata": {},
   "outputs": [],
   "source": [
    "from snowflake.snowpark.functions import col\n",
    "\n",
    "df_filtrado_algeria = df_nation_region.filter(col(\"N_NAME\") == \"ALGERIA\")"
   ]
  },
  {
   "cell_type": "code",
   "execution_count": 13,
   "metadata": {},
   "outputs": [
    {
     "data": {
      "text/plain": [
       "<snowflake.snowpark.dataframe.DataFrame at 0x224ff5c64d0>"
      ]
     },
     "execution_count": 13,
     "metadata": {},
     "output_type": "execute_result"
    }
   ],
   "source": [
    "df_filtrado_algeria"
   ]
  },
  {
   "cell_type": "code",
   "execution_count": 14,
   "metadata": {},
   "outputs": [
    {
     "data": {
      "text/plain": [
       "{'queries': ['SELECT  *  FROM ( SELECT  *  FROM (( SELECT \"N_NATIONKEY\" AS \"N_NATIONKEY\", \"N_NAME\" AS \"N_NAME\", \"N_REGIONKEY\" AS \"N_REGIONKEY\", \"N_COMMENT\" AS \"N_COMMENT\" FROM TPCH_SF1.nation) AS SNOWPARK_LEFT INNER JOIN ( SELECT \"R_REGIONKEY\" AS \"R_REGIONKEY\", \"R_NAME\" AS \"R_NAME\", \"R_COMMENT\" AS \"R_COMMENT\" FROM TPCH_SF1.region) AS SNOWPARK_RIGHT)) WHERE (\"N_NAME\" = \\'ALGERIA\\')'],\n",
       " 'post_actions': []}"
      ]
     },
     "execution_count": 14,
     "metadata": {},
     "output_type": "execute_result"
    }
   ],
   "source": [
    "df_filtrado_algeria.queries"
   ]
  },
  {
   "cell_type": "code",
   "execution_count": 15,
   "metadata": {},
   "outputs": [
    {
     "data": {
      "text/html": [
       "<div>\n",
       "<style scoped>\n",
       "    .dataframe tbody tr th:only-of-type {\n",
       "        vertical-align: middle;\n",
       "    }\n",
       "\n",
       "    .dataframe tbody tr th {\n",
       "        vertical-align: top;\n",
       "    }\n",
       "\n",
       "    .dataframe thead th {\n",
       "        text-align: right;\n",
       "    }\n",
       "</style>\n",
       "<table border=\"1\" class=\"dataframe\">\n",
       "  <thead>\n",
       "    <tr style=\"text-align: right;\">\n",
       "      <th></th>\n",
       "      <th>N_NATIONKEY</th>\n",
       "      <th>N_NAME</th>\n",
       "      <th>N_REGIONKEY</th>\n",
       "      <th>N_COMMENT</th>\n",
       "      <th>R_REGIONKEY</th>\n",
       "      <th>R_NAME</th>\n",
       "      <th>R_COMMENT</th>\n",
       "    </tr>\n",
       "  </thead>\n",
       "  <tbody>\n",
       "    <tr>\n",
       "      <th>0</th>\n",
       "      <td>0</td>\n",
       "      <td>ALGERIA</td>\n",
       "      <td>0</td>\n",
       "      <td>haggle. carefully final deposits detect slyly...</td>\n",
       "      <td>0</td>\n",
       "      <td>AFRICA</td>\n",
       "      <td>lar deposits. blithely final packages cajole. ...</td>\n",
       "    </tr>\n",
       "    <tr>\n",
       "      <th>1</th>\n",
       "      <td>0</td>\n",
       "      <td>ALGERIA</td>\n",
       "      <td>0</td>\n",
       "      <td>haggle. carefully final deposits detect slyly...</td>\n",
       "      <td>1</td>\n",
       "      <td>AMERICA</td>\n",
       "      <td>hs use ironic, even requests. s</td>\n",
       "    </tr>\n",
       "    <tr>\n",
       "      <th>2</th>\n",
       "      <td>0</td>\n",
       "      <td>ALGERIA</td>\n",
       "      <td>0</td>\n",
       "      <td>haggle. carefully final deposits detect slyly...</td>\n",
       "      <td>2</td>\n",
       "      <td>ASIA</td>\n",
       "      <td>ges. thinly even pinto beans ca</td>\n",
       "    </tr>\n",
       "    <tr>\n",
       "      <th>3</th>\n",
       "      <td>0</td>\n",
       "      <td>ALGERIA</td>\n",
       "      <td>0</td>\n",
       "      <td>haggle. carefully final deposits detect slyly...</td>\n",
       "      <td>3</td>\n",
       "      <td>EUROPE</td>\n",
       "      <td>ly final courts cajole furiously final excuse</td>\n",
       "    </tr>\n",
       "    <tr>\n",
       "      <th>4</th>\n",
       "      <td>0</td>\n",
       "      <td>ALGERIA</td>\n",
       "      <td>0</td>\n",
       "      <td>haggle. carefully final deposits detect slyly...</td>\n",
       "      <td>4</td>\n",
       "      <td>MIDDLE EAST</td>\n",
       "      <td>uickly special accounts cajole carefully blith...</td>\n",
       "    </tr>\n",
       "  </tbody>\n",
       "</table>\n",
       "</div>"
      ],
      "text/plain": [
       "   N_NATIONKEY   N_NAME  N_REGIONKEY  \\\n",
       "0            0  ALGERIA            0   \n",
       "1            0  ALGERIA            0   \n",
       "2            0  ALGERIA            0   \n",
       "3            0  ALGERIA            0   \n",
       "4            0  ALGERIA            0   \n",
       "\n",
       "                                           N_COMMENT  R_REGIONKEY  \\\n",
       "0   haggle. carefully final deposits detect slyly...            0   \n",
       "1   haggle. carefully final deposits detect slyly...            1   \n",
       "2   haggle. carefully final deposits detect slyly...            2   \n",
       "3   haggle. carefully final deposits detect slyly...            3   \n",
       "4   haggle. carefully final deposits detect slyly...            4   \n",
       "\n",
       "        R_NAME                                          R_COMMENT  \n",
       "0       AFRICA  lar deposits. blithely final packages cajole. ...  \n",
       "1      AMERICA                    hs use ironic, even requests. s  \n",
       "2         ASIA                    ges. thinly even pinto beans ca  \n",
       "3       EUROPE      ly final courts cajole furiously final excuse  \n",
       "4  MIDDLE EAST  uickly special accounts cajole carefully blith...  "
      ]
     },
     "execution_count": 15,
     "metadata": {},
     "output_type": "execute_result"
    }
   ],
   "source": [
    "df_filtrado_algeria.to_pandas()"
   ]
  },
  {
   "cell_type": "code",
   "execution_count": 16,
   "metadata": {},
   "outputs": [
    {
     "data": {
      "text/plain": [
       "<snowflake.snowpark.dataframe.DataFrame at 0x224ff5f4550>"
      ]
     },
     "execution_count": 16,
     "metadata": {},
     "output_type": "execute_result"
    }
   ],
   "source": [
    "df_nation_region.group_by(\"N_NAME\").count()"
   ]
  },
  {
   "cell_type": "code",
   "execution_count": 17,
   "metadata": {},
   "outputs": [
    {
     "data": {
      "text/plain": [
       "{'queries': ['SELECT \"N_NAME\", count(1) AS \"COUNT\" FROM ( SELECT  *  FROM (( SELECT \"N_NATIONKEY\" AS \"N_NATIONKEY\", \"N_NAME\" AS \"N_NAME\", \"N_REGIONKEY\" AS \"N_REGIONKEY\", \"N_COMMENT\" AS \"N_COMMENT\" FROM TPCH_SF1.nation) AS SNOWPARK_LEFT INNER JOIN ( SELECT \"R_REGIONKEY\" AS \"R_REGIONKEY\", \"R_NAME\" AS \"R_NAME\", \"R_COMMENT\" AS \"R_COMMENT\" FROM TPCH_SF1.region) AS SNOWPARK_RIGHT)) GROUP BY \"N_NAME\"'],\n",
       " 'post_actions': []}"
      ]
     },
     "execution_count": 17,
     "metadata": {},
     "output_type": "execute_result"
    }
   ],
   "source": [
    "df_nation_region.group_by(\"N_NAME\").count().queries"
   ]
  },
  {
   "cell_type": "code",
   "execution_count": 18,
   "metadata": {},
   "outputs": [
    {
     "name": "stdout",
     "output_type": "stream",
     "text": [
      "------------------------\n",
      "|\"N_NAME\"    |\"COUNT\"  |\n",
      "------------------------\n",
      "|ALGERIA     |5        |\n",
      "|ARGENTINA   |5        |\n",
      "|BRAZIL      |5        |\n",
      "|CANADA      |5        |\n",
      "|ETHIOPIA    |5        |\n",
      "|GERMANY     |5        |\n",
      "|INDIA       |5        |\n",
      "|IRAN        |5        |\n",
      "|IRAQ        |5        |\n",
      "|MOZAMBIQUE  |5        |\n",
      "------------------------\n",
      "\n"
     ]
    }
   ],
   "source": [
    "df_nation_region.group_by(\"N_NAME\").count().show()"
   ]
  },
  {
   "cell_type": "markdown",
   "metadata": {},
   "source": [
    "Al finalizar nuestras acciones cerraremos la conexión."
   ]
  },
  {
   "cell_type": "code",
   "execution_count": 19,
   "metadata": {},
   "outputs": [],
   "source": [
    "new_session.close()"
   ]
  },
  {
   "cell_type": "markdown",
   "metadata": {},
   "source": [
    "Tenéis más información en la documentación oficial de Snowflake:\n",
    "\n",
    "* [Documentación](https://docs.snowflake.com/en/user-guide-getting-started)\n",
    "* [Snowpark API](https://docs.snowflake.com/en/developer-guide/snowpark/python/index)\n",
    "\n",
    "Existe un proyecto más generalista pensado para todo tipo de bases de datos (no solo Snowflake) llamado [Apache Ibis](https://ibis-project.org/). Son abstracciones importantes cuando estamos familiarizados con el mundo de los dataframes pero queremos actuar sobre bases de datos voluminosas."
   ]
  }
 ],
 "metadata": {
  "kernelspec": {
   "display_name": ".venv",
   "language": "python",
   "name": "python3"
  },
  "language_info": {
   "codemirror_mode": {
    "name": "ipython",
    "version": 3
   },
   "file_extension": ".py",
   "mimetype": "text/x-python",
   "name": "python",
   "nbconvert_exporter": "python",
   "pygments_lexer": "ipython3",
   "version": "3.11.7"
  }
 },
 "nbformat": 4,
 "nbformat_minor": 2
}
