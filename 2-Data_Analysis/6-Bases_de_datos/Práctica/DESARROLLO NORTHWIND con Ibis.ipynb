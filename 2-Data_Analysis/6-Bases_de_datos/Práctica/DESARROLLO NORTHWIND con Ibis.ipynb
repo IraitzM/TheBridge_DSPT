{
 "cells": [
  {
   "cell_type": "markdown",
   "metadata": {},
   "source": [
    "# NORTHWIND DATABASE"
   ]
  },
  {
   "cell_type": "markdown",
   "metadata": {},
   "source": [
    "El **objetivo** de este ejercicio es generar una serie de consultas SQL que permitan extraer información relevante de la base de datos y luego exportar los resultados para construir dashboards o visualizaciones que proporcionen insights valiosos para la toma de decisiones empresariales.\n",
    "\n",
    "La base de datos Northwind es una base de datos de ejemplo clásica que simula las operaciones de una empresa minorista. Contiene tablas relacionales que representan diferentes aspectos del negocio, como productos, clientes, pedidos y empleados. Utilizando consultas SQL, podrás explorar y analizar estos datos para comprender mejor el desempeño del negocio en diferentes áreas.\n",
    "\n",
    "Una vez que hayas realizado las consultas SQL y obtenido los resultados, podrás utilizarlos para herramientas de visualización de datos como Tableau, Power BI, Streamlit o cualquier otra herramienta de tu elección. "
   ]
  },
  {
   "cell_type": "code",
   "execution_count": 6,
   "metadata": {},
   "outputs": [
    {
     "name": "stderr",
     "output_type": "stream",
     "text": [
      "\"[imagen]\" no se reconoce como un comando interno o externo,\n",
      "programa o archivo por lotes ejecutable.\n"
     ]
    }
   ],
   "source": [
    "![imagen](./img/northwind-er-diagram.png) "
   ]
  },
  {
   "cell_type": "markdown",
   "metadata": {},
   "source": [
    "Tendrás que elegir uno de los retos a resolver:"
   ]
  },
  {
   "cell_type": "code",
   "execution_count": 3,
   "metadata": {},
   "outputs": [
    {
     "name": "stdout",
     "output_type": "stream",
     "text": [
      "Requirement already satisfied: ibis-framework[sqlite] in c:\\users\\rodri\\anaconda3\\lib\\site-packages (9.0.0)\n",
      "Requirement already satisfied: atpublic<5,>=2.3 in c:\\users\\rodri\\anaconda3\\lib\\site-packages (from ibis-framework[sqlite]) (4.1.0)\n",
      "Requirement already satisfied: bidict<1,>=0.22.1 in c:\\users\\rodri\\anaconda3\\lib\\site-packages (from ibis-framework[sqlite]) (0.23.1)\n",
      "Requirement already satisfied: numpy<2,>=1.23.2 in c:\\users\\rodri\\anaconda3\\lib\\site-packages (from ibis-framework[sqlite]) (1.26.4)\n",
      "Requirement already satisfied: pandas<3,>=1.5.3 in c:\\users\\rodri\\anaconda3\\lib\\site-packages (from ibis-framework[sqlite]) (2.1.4)\n",
      "Requirement already satisfied: parsy<3,>=2 in c:\\users\\rodri\\anaconda3\\lib\\site-packages (from ibis-framework[sqlite]) (2.1)\n",
      "Requirement already satisfied: pyarrow<17,>=10.0.1 in c:\\users\\rodri\\anaconda3\\lib\\site-packages (from ibis-framework[sqlite]) (14.0.2)\n",
      "Requirement already satisfied: pyarrow-hotfix<1,>=0.4 in c:\\users\\rodri\\anaconda3\\lib\\site-packages (from ibis-framework[sqlite]) (0.6)\n",
      "Requirement already satisfied: python-dateutil<3,>=2.8.2 in c:\\users\\rodri\\anaconda3\\lib\\site-packages (from ibis-framework[sqlite]) (2.8.2)\n",
      "Requirement already satisfied: pytz>=2022.7 in c:\\users\\rodri\\anaconda3\\lib\\site-packages (from ibis-framework[sqlite]) (2023.3.post1)\n",
      "Requirement already satisfied: regex>=2021.7.6 in c:\\users\\rodri\\anaconda3\\lib\\site-packages (from ibis-framework[sqlite]) (2023.10.3)\n",
      "Requirement already satisfied: rich<14,>=12.4.4 in c:\\users\\rodri\\anaconda3\\lib\\site-packages (from ibis-framework[sqlite]) (13.3.5)\n",
      "Requirement already satisfied: sqlglot<23.13,>=23.4 in c:\\users\\rodri\\anaconda3\\lib\\site-packages (from ibis-framework[sqlite]) (23.12.2)\n",
      "Requirement already satisfied: toolz<1,>=0.11 in c:\\users\\rodri\\anaconda3\\lib\\site-packages (from ibis-framework[sqlite]) (0.12.0)\n",
      "Requirement already satisfied: typing-extensions<5,>=4.3.0 in c:\\users\\rodri\\anaconda3\\lib\\site-packages (from ibis-framework[sqlite]) (4.9.0)\n",
      "Requirement already satisfied: tzdata>=2022.1 in c:\\users\\rodri\\anaconda3\\lib\\site-packages (from pandas<3,>=1.5.3->ibis-framework[sqlite]) (2023.3)\n",
      "Requirement already satisfied: six>=1.5 in c:\\users\\rodri\\anaconda3\\lib\\site-packages (from python-dateutil<3,>=2.8.2->ibis-framework[sqlite]) (1.16.0)\n",
      "Requirement already satisfied: markdown-it-py<3.0.0,>=2.2.0 in c:\\users\\rodri\\anaconda3\\lib\\site-packages (from rich<14,>=12.4.4->ibis-framework[sqlite]) (2.2.0)\n",
      "Requirement already satisfied: pygments<3.0.0,>=2.13.0 in c:\\users\\rodri\\anaconda3\\lib\\site-packages (from rich<14,>=12.4.4->ibis-framework[sqlite]) (2.15.1)\n",
      "Requirement already satisfied: mdurl~=0.1 in c:\\users\\rodri\\anaconda3\\lib\\site-packages (from markdown-it-py<3.0.0,>=2.2.0->rich<14,>=12.4.4->ibis-framework[sqlite]) (0.1.0)\n",
      "Note: you may need to restart the kernel to use updated packages.\n"
     ]
    }
   ],
   "source": [
    "pip install ibis-framework[sqlite]"
   ]
  },
  {
   "cell_type": "code",
   "execution_count": 47,
   "metadata": {},
   "outputs": [],
   "source": [
    "import ibis \n",
    "import pandas as pd \n",
    "import matplotlib.pyplot as plt \n",
    "\n",
    "con = ibis.sqlite.connect('C:/Users/rodri/OneDrive/Escritorio/DATA_SCIENCE/CODIGO_CLASES/TheBridge_DSPT-1/2-Data_Analysis/6-Bases_de_datos/Práctica/data/northwind.db')"
   ]
  },
  {
   "cell_type": "code",
   "execution_count": 48,
   "metadata": {},
   "outputs": [
    {
     "data": {
      "text/plain": [
       "['Alphabetical list of products',\n",
       " 'Categories',\n",
       " 'Category Sales for 1997',\n",
       " 'Current Product List',\n",
       " 'Customer and Suppliers by City',\n",
       " 'CustomerCustomerDemo',\n",
       " 'CustomerDemographics',\n",
       " 'Customers',\n",
       " 'EmployeeTerritories',\n",
       " 'Employees',\n",
       " 'Invoices',\n",
       " 'Order Details',\n",
       " 'Order Details Extended',\n",
       " 'Order Subtotals',\n",
       " 'Orders',\n",
       " 'Orders Qry',\n",
       " 'Product Sales for 1997',\n",
       " 'ProductDetails_V',\n",
       " 'Products',\n",
       " 'Products Above Average Price',\n",
       " 'Products by Category',\n",
       " 'Quarterly Orders',\n",
       " 'Regions',\n",
       " 'Sales Totals by Amount',\n",
       " 'Sales by Category',\n",
       " 'Shippers',\n",
       " 'Summary of Sales by Quarter',\n",
       " 'Summary of Sales by Year',\n",
       " 'Suppliers',\n",
       " 'Territories',\n",
       " 'sqlite_sequence']"
      ]
     },
     "execution_count": 48,
     "metadata": {},
     "output_type": "execute_result"
    }
   ],
   "source": [
    "# Verificar la conexión listando las tablas en la base de datos\n",
    "tables = con.list_tables()\n",
    "#print(\"Tablas en la base de datos son:\", tables)\n",
    "tables "
   ]
  },
  {
   "cell_type": "code",
   "execution_count": 8,
   "metadata": {},
   "outputs": [
    {
     "data": {
      "text/html": [
       "<pre style=\"white-space:pre;overflow-x:auto;line-height:normal;font-family:Menlo,'DejaVu Sans Mono',consolas,'Courier New',monospace\">r0 := DatabaseTable: Categories\n",
       "  CategoryID   int64\n",
       "  CategoryName string\n",
       "  Description  string\n",
       "  Picture      binary\n",
       "\n",
       "r1 := DatabaseTable: Products\n",
       "  ProductID       !int64\n",
       "  ProductName     !string\n",
       "  SupplierID      int64\n",
       "  CategoryID      int64\n",
       "  QuantityPerUnit string\n",
       "  UnitPrice       decimal\n",
       "  UnitsInStock    int64\n",
       "  UnitsOnOrder    int64\n",
       "  ReorderLevel    int64\n",
       "  Discontinued    !string\n",
       "\n",
       "JoinChain[r0]\n",
       "  JoinLink[inner, r1]\n",
       "    r0.CategoryID == r1.CategoryID\n",
       "  values:\n",
       "    CategoryID:      r0.CategoryID\n",
       "    CategoryName:    r0.CategoryName\n",
       "    Description:     r0.Description\n",
       "    Picture:         r0.Picture\n",
       "    ProductID:       r1.ProductID\n",
       "    ProductName:     r1.ProductName\n",
       "    SupplierID:      r1.SupplierID\n",
       "    QuantityPerUnit: r1.QuantityPerUnit\n",
       "    UnitPrice:       r1.UnitPrice\n",
       "    UnitsInStock:    r1.UnitsInStock\n",
       "    UnitsOnOrder:    r1.UnitsOnOrder\n",
       "    ReorderLevel:    r1.ReorderLevel\n",
       "    Discontinued:    r1.Discontinued\n",
       "</pre>\n"
      ],
      "text/plain": [
       "r0 := DatabaseTable: Categories\n",
       "  CategoryID   int64\n",
       "  CategoryName string\n",
       "  Description  string\n",
       "  Picture      binary\n",
       "\n",
       "r1 := DatabaseTable: Products\n",
       "  ProductID       !int64\n",
       "  ProductName     !string\n",
       "  SupplierID      int64\n",
       "  CategoryID      int64\n",
       "  QuantityPerUnit string\n",
       "  UnitPrice       decimal\n",
       "  UnitsInStock    int64\n",
       "  UnitsOnOrder    int64\n",
       "  ReorderLevel    int64\n",
       "  Discontinued    !string\n",
       "\n",
       "JoinChain[r0]\n",
       "  JoinLink[inner, r1]\n",
       "    r0.CategoryID == r1.CategoryID\n",
       "  values:\n",
       "    CategoryID:      r0.CategoryID\n",
       "    CategoryName:    r0.CategoryName\n",
       "    Description:     r0.Description\n",
       "    Picture:         r0.Picture\n",
       "    ProductID:       r1.ProductID\n",
       "    ProductName:     r1.ProductName\n",
       "    SupplierID:      r1.SupplierID\n",
       "    QuantityPerUnit: r1.QuantityPerUnit\n",
       "    UnitPrice:       r1.UnitPrice\n",
       "    UnitsInStock:    r1.UnitsInStock\n",
       "    UnitsOnOrder:    r1.UnitsOnOrder\n",
       "    ReorderLevel:    r1.ReorderLevel\n",
       "    Discontinued:    r1.Discontinued"
      ]
     },
     "execution_count": 8,
     "metadata": {},
     "output_type": "execute_result"
    }
   ],
   "source": [
    "#categories = con.table(\"Categories\")\n",
    "#products = con.table(\"Products\") \n",
    "\n",
    "#joined_products = categories.join(products, \"CategoryID\")\n",
    "#joined_products "
   ]
  },
  {
   "cell_type": "code",
   "execution_count": 17,
   "metadata": {},
   "outputs": [],
   "source": [
    "#category_df = joined_products.select([\"CategoryName\", \"ProductName\"]).to_pandas()\n",
    "#category_df.rename(columns={\"ProductName\": \"Product\"}, inplace=True)\n",
    "#category_df.set_index(\"Product\", inplace=True) "
   ]
  },
  {
   "cell_type": "markdown",
   "metadata": {},
   "source": [
    "### **1. Análisis de Ventas por Región**\n",
    "Analiza las ventas de productos por región. El objetivo es identificar las regiones que generan más ingresos y las tendencias de ventas a lo largo del tiempo en esas regiones. \n",
    "Pista: Utiliza gráficos de barras y líneas para mostrar la evolución de las ventas, así como mapas geográficos para visualizar la distribución de ingresos por región. "
   ]
  },
  {
   "cell_type": "code",
   "execution_count": 49,
   "metadata": {},
   "outputs": [
    {
     "ename": "KeyError",
     "evalue": "<Type.DATETIME: 'DATETIME'>",
     "output_type": "error",
     "traceback": [
      "\u001b[1;31m---------------------------------------------------------------------------\u001b[0m",
      "\u001b[1;31mKeyError\u001b[0m                                  Traceback (most recent call last)",
      "File \u001b[1;32mc:\\Users\\rodri\\anaconda3\\Lib\\site-packages\\ibis\\backends\\sqlite\\__init__.py:168\u001b[0m, in \u001b[0;36mBackend._parse_type\u001b[1;34m(self, typ, nullable)\u001b[0m\n\u001b[0;32m    167\u001b[0m \u001b[38;5;28;01mtry\u001b[39;00m:\n\u001b[1;32m--> 168\u001b[0m     out \u001b[38;5;241m=\u001b[39m \u001b[38;5;28mself\u001b[39m\u001b[38;5;241m.\u001b[39m_type_map[typ]\n\u001b[0;32m    169\u001b[0m \u001b[38;5;28;01mexcept\u001b[39;00m \u001b[38;5;167;01mKeyError\u001b[39;00m:\n",
      "\u001b[1;31mKeyError\u001b[0m: 'datetime'",
      "\nDuring handling of the above exception, another exception occurred:\n",
      "\u001b[1;31mKeyError\u001b[0m                                  Traceback (most recent call last)",
      "Cell \u001b[1;32mIn[49], line 2\u001b[0m\n\u001b[0;32m      1\u001b[0m \u001b[38;5;66;03m# Seleccionar las tablas necesarias\u001b[39;00m\n\u001b[1;32m----> 2\u001b[0m orders \u001b[38;5;241m=\u001b[39m con\u001b[38;5;241m.\u001b[39mtable(\u001b[38;5;124m'\u001b[39m\u001b[38;5;124mOrders\u001b[39m\u001b[38;5;124m'\u001b[39m)\n\u001b[0;32m      3\u001b[0m order_details \u001b[38;5;241m=\u001b[39m con\u001b[38;5;241m.\u001b[39mtable(\u001b[38;5;124m'\u001b[39m\u001b[38;5;124mOrder Details\u001b[39m\u001b[38;5;124m'\u001b[39m)\n\u001b[0;32m      4\u001b[0m regions \u001b[38;5;241m=\u001b[39m con\u001b[38;5;241m.\u001b[39mtable(\u001b[38;5;124m'\u001b[39m\u001b[38;5;124mRegion\u001b[39m\u001b[38;5;124m'\u001b[39m)\n",
      "File \u001b[1;32mc:\\Users\\rodri\\anaconda3\\Lib\\site-packages\\ibis\\backends\\sql\\__init__.py:137\u001b[0m, in \u001b[0;36mSQLBackend.table\u001b[1;34m(self, name, schema, database)\u001b[0m\n\u001b[0;32m    134\u001b[0m     catalog \u001b[38;5;241m=\u001b[39m table_loc\u001b[38;5;241m.\u001b[39mcatalog \u001b[38;5;129;01mor\u001b[39;00m \u001b[38;5;28;01mNone\u001b[39;00m\n\u001b[0;32m    135\u001b[0m     database \u001b[38;5;241m=\u001b[39m table_loc\u001b[38;5;241m.\u001b[39mdb \u001b[38;5;129;01mor\u001b[39;00m \u001b[38;5;28;01mNone\u001b[39;00m\n\u001b[1;32m--> 137\u001b[0m table_schema \u001b[38;5;241m=\u001b[39m \u001b[38;5;28mself\u001b[39m\u001b[38;5;241m.\u001b[39mget_schema(name, catalog\u001b[38;5;241m=\u001b[39mcatalog, database\u001b[38;5;241m=\u001b[39mdatabase)\n\u001b[0;32m    138\u001b[0m \u001b[38;5;28;01mreturn\u001b[39;00m ops\u001b[38;5;241m.\u001b[39mDatabaseTable(\n\u001b[0;32m    139\u001b[0m     name,\n\u001b[0;32m    140\u001b[0m     schema\u001b[38;5;241m=\u001b[39mtable_schema,\n\u001b[0;32m    141\u001b[0m     source\u001b[38;5;241m=\u001b[39m\u001b[38;5;28mself\u001b[39m,\n\u001b[0;32m    142\u001b[0m     namespace\u001b[38;5;241m=\u001b[39mops\u001b[38;5;241m.\u001b[39mNamespace(catalog\u001b[38;5;241m=\u001b[39mcatalog, database\u001b[38;5;241m=\u001b[39mdatabase),\n\u001b[0;32m    143\u001b[0m )\u001b[38;5;241m.\u001b[39mto_expr()\n",
      "File \u001b[1;32mc:\\Users\\rodri\\anaconda3\\Lib\\site-packages\\ibis\\backends\\sqlite\\__init__.py:240\u001b[0m, in \u001b[0;36mBackend.get_schema\u001b[1;34m(self, table_name, catalog, database)\u001b[0m\n\u001b[0;32m    238\u001b[0m     \u001b[38;5;28;01mraise\u001b[39;00m \u001b[38;5;167;01mTypeError\u001b[39;00m(\u001b[38;5;124m\"\u001b[39m\u001b[38;5;124msqlite doesn\u001b[39m\u001b[38;5;124m'\u001b[39m\u001b[38;5;124mt support `catalog`, use `database` instead\u001b[39m\u001b[38;5;124m\"\u001b[39m)\n\u001b[0;32m    239\u001b[0m \u001b[38;5;28;01mwith\u001b[39;00m \u001b[38;5;28mself\u001b[39m\u001b[38;5;241m.\u001b[39mbegin() \u001b[38;5;28;01mas\u001b[39;00m cur:\n\u001b[1;32m--> 240\u001b[0m     \u001b[38;5;28;01mreturn\u001b[39;00m \u001b[38;5;28mself\u001b[39m\u001b[38;5;241m.\u001b[39m_inspect_schema(cur, table_name, database)\n",
      "File \u001b[1;32mc:\\Users\\rodri\\anaconda3\\Lib\\site-packages\\ibis\\backends\\sqlite\\__init__.py:206\u001b[0m, in \u001b[0;36mBackend._inspect_schema\u001b[1;34m(self, cur, table_name, database)\u001b[0m\n\u001b[0;32m    202\u001b[0m     \u001b[38;5;28;01melse\u001b[39;00m:\n\u001b[0;32m    203\u001b[0m         \u001b[38;5;28;01mraise\u001b[39;00m com\u001b[38;5;241m.\u001b[39mIbisError(\u001b[38;5;124mf\u001b[39m\u001b[38;5;124m\"\u001b[39m\u001b[38;5;124mFailed to infer types for columns \u001b[39m\u001b[38;5;132;01m{\u001b[39;00munknown\u001b[38;5;132;01m}\u001b[39;00m\u001b[38;5;124m\"\u001b[39m)\n\u001b[0;32m    205\u001b[0m \u001b[38;5;28;01mreturn\u001b[39;00m sch\u001b[38;5;241m.\u001b[39mSchema(\n\u001b[1;32m--> 206\u001b[0m     {\n\u001b[0;32m    207\u001b[0m         name: \u001b[38;5;28mself\u001b[39m\u001b[38;5;241m.\u001b[39m_parse_type(typ, nullable)\n\u001b[0;32m    208\u001b[0m         \u001b[38;5;28;01mfor\u001b[39;00m name, (typ, nullable) \u001b[38;5;129;01min\u001b[39;00m table_info\u001b[38;5;241m.\u001b[39mitems()\n\u001b[0;32m    209\u001b[0m     }\n\u001b[0;32m    210\u001b[0m )\n",
      "File \u001b[1;32mc:\\Users\\rodri\\anaconda3\\Lib\\site-packages\\ibis\\backends\\sqlite\\__init__.py:207\u001b[0m, in \u001b[0;36m<dictcomp>\u001b[1;34m(.0)\u001b[0m\n\u001b[0;32m    202\u001b[0m     \u001b[38;5;28;01melse\u001b[39;00m:\n\u001b[0;32m    203\u001b[0m         \u001b[38;5;28;01mraise\u001b[39;00m com\u001b[38;5;241m.\u001b[39mIbisError(\u001b[38;5;124mf\u001b[39m\u001b[38;5;124m\"\u001b[39m\u001b[38;5;124mFailed to infer types for columns \u001b[39m\u001b[38;5;132;01m{\u001b[39;00munknown\u001b[38;5;132;01m}\u001b[39;00m\u001b[38;5;124m\"\u001b[39m)\n\u001b[0;32m    205\u001b[0m \u001b[38;5;28;01mreturn\u001b[39;00m sch\u001b[38;5;241m.\u001b[39mSchema(\n\u001b[0;32m    206\u001b[0m     {\n\u001b[1;32m--> 207\u001b[0m         name: \u001b[38;5;28mself\u001b[39m\u001b[38;5;241m.\u001b[39m_parse_type(typ, nullable)\n\u001b[0;32m    208\u001b[0m         \u001b[38;5;28;01mfor\u001b[39;00m name, (typ, nullable) \u001b[38;5;129;01min\u001b[39;00m table_info\u001b[38;5;241m.\u001b[39mitems()\n\u001b[0;32m    209\u001b[0m     }\n\u001b[0;32m    210\u001b[0m )\n",
      "File \u001b[1;32mc:\\Users\\rodri\\anaconda3\\Lib\\site-packages\\ibis\\backends\\sqlite\\__init__.py:170\u001b[0m, in \u001b[0;36mBackend._parse_type\u001b[1;34m(self, typ, nullable)\u001b[0m\n\u001b[0;32m    168\u001b[0m     out \u001b[38;5;241m=\u001b[39m \u001b[38;5;28mself\u001b[39m\u001b[38;5;241m.\u001b[39m_type_map[typ]\n\u001b[0;32m    169\u001b[0m \u001b[38;5;28;01mexcept\u001b[39;00m \u001b[38;5;167;01mKeyError\u001b[39;00m:\n\u001b[1;32m--> 170\u001b[0m     \u001b[38;5;28;01mreturn\u001b[39;00m \u001b[38;5;28mself\u001b[39m\u001b[38;5;241m.\u001b[39mcompiler\u001b[38;5;241m.\u001b[39mtype_mapper\u001b[38;5;241m.\u001b[39mfrom_string(typ, nullable\u001b[38;5;241m=\u001b[39mnullable)\n\u001b[0;32m    171\u001b[0m \u001b[38;5;28;01melse\u001b[39;00m:\n\u001b[0;32m    172\u001b[0m     \u001b[38;5;28;01mreturn\u001b[39;00m out\u001b[38;5;241m.\u001b[39mcopy(nullable\u001b[38;5;241m=\u001b[39mnullable)\n",
      "File \u001b[1;32mc:\\Users\\rodri\\anaconda3\\Lib\\site-packages\\ibis\\backends\\sql\\datatypes.py:196\u001b[0m, in \u001b[0;36mSqlglotType.from_string\u001b[1;34m(cls, text, nullable)\u001b[0m\n\u001b[0;32m    193\u001b[0m     \u001b[38;5;28;01mreturn\u001b[39;00m dtype\n\u001b[0;32m    195\u001b[0m sgtype \u001b[38;5;241m=\u001b[39m sg\u001b[38;5;241m.\u001b[39mparse_one(text, into\u001b[38;5;241m=\u001b[39msge\u001b[38;5;241m.\u001b[39mDataType, read\u001b[38;5;241m=\u001b[39m\u001b[38;5;28mcls\u001b[39m\u001b[38;5;241m.\u001b[39mdialect)\n\u001b[1;32m--> 196\u001b[0m \u001b[38;5;28;01mreturn\u001b[39;00m \u001b[38;5;28mcls\u001b[39m\u001b[38;5;241m.\u001b[39mto_ibis(sgtype, nullable\u001b[38;5;241m=\u001b[39mnullable)\n",
      "File \u001b[1;32mc:\\Users\\rodri\\anaconda3\\Lib\\site-packages\\ibis\\backends\\sql\\datatypes.py:174\u001b[0m, in \u001b[0;36mSqlglotType.to_ibis\u001b[1;34m(cls, typ, nullable)\u001b[0m\n\u001b[0;32m    172\u001b[0m     dtype \u001b[38;5;241m=\u001b[39m method(\u001b[38;5;241m*\u001b[39mtyp\u001b[38;5;241m.\u001b[39mexpressions)\n\u001b[0;32m    173\u001b[0m \u001b[38;5;28;01melse\u001b[39;00m:\n\u001b[1;32m--> 174\u001b[0m     dtype \u001b[38;5;241m=\u001b[39m _from_sqlglot_types[typecode](nullable\u001b[38;5;241m=\u001b[39m\u001b[38;5;28mcls\u001b[39m\u001b[38;5;241m.\u001b[39mdefault_nullable)\n\u001b[0;32m    176\u001b[0m \u001b[38;5;28;01mif\u001b[39;00m nullable \u001b[38;5;129;01mis\u001b[39;00m \u001b[38;5;129;01mnot\u001b[39;00m \u001b[38;5;28;01mNone\u001b[39;00m:\n\u001b[0;32m    177\u001b[0m     \u001b[38;5;28;01mreturn\u001b[39;00m dtype\u001b[38;5;241m.\u001b[39mcopy(nullable\u001b[38;5;241m=\u001b[39mnullable)\n",
      "\u001b[1;31mKeyError\u001b[0m: <Type.DATETIME: 'DATETIME'>"
     ]
    }
   ],
   "source": [
    "# Seleccionar las tablas necesarias\n",
    "orders = con.table('Orders')\n",
    "order_details = con.table('Order Details')\n",
    "regions = con.table('Region')\n",
    "territories = con.table('Territories')\n",
    "employee_territories = con.table('EmployeeTerritories')\n",
    "\n",
    "# Unir tablas para obtener la información de ventas por región\n",
    "joined_data = (\n",
    "    orders\n",
    "    .join(order_details, orders.OrderID == order_details.OrderID)\n",
    "    .join(employee_territories, orders.EmployeeID == employee_territories.EmployeeID)\n",
    "    .join(territories, employee_territories.TerritoryID == territories.TerritoryID)\n",
    "    .join(regions, territories.RegionID == regions.RegionID)\n",
    ")\n",
    "\n",
    "# Calcular las ventas por región y fecha (sin intentar convertir `datetime` en Ibis)\n",
    "sales_by_region_date = (\n",
    "    joined_data\n",
    "    .group_by([regions.RegionDescription, orders.OrderDate]) \n",
    "    .aggregate(total_sales=(order_details.Quantity * order_details.UnitPrice).sum())\n",
    "    .sort_by([regions.RegionDescription, orders.OrderDate])\n",
    ")\n",
    "\n",
    "# Ejecutar la consulta y convertir a pandas DataFrame\n",
    "sales_by_region_date_df = sales_by_region_date.execute()\n",
    "\n",
    "# Convertir la columna de fechas a formato datetime en pandas\n",
    "sales_by_region_date_df['OrderDate'] = pd.to_datetime(sales_by_region_date_df['OrderDate'], errors='coerce')\n",
    "\n",
    "# Eliminar filas con fechas no válidas\n",
    "sales_by_region_date_df = sales_by_region_date_df.dropna(subset=['OrderDate'])\n",
    "\n",
    "# Gráfico de líneas de las tendencias de ventas por región a lo largo del tiempo\n",
    "plt.figure(figsize=(14, 8))\n",
    "for region in sales_by_region_date_df['RegionDescription'].unique():\n",
    "    region_data = sales_by_region_date_df[sales_by_region_date_df['RegionDescription'] == region]\n",
    "    plt.plot(region_data['OrderDate'], region_data['total_sales'], label=region)\n",
    "\n",
    "plt.xlabel('Fecha')\n",
    "plt.ylabel('Ventas Totales')\n",
    "plt.title('Tendencias de Ventas por Región a lo Largo del Tiempo')\n",
    "plt.legend(title='Región')\n",
    "plt.show()\n",
    "\n",
    "\n"
   ]
  },
  {
   "cell_type": "markdown",
   "metadata": {},
   "source": [
    "### **2. Análisis de Desempeño de Productos**\n",
    "Analiza el desempeño de los productos de la empresa. Examina las ventas de productos por categoría, identificando los productos más vendidos y los menos vendidos. \n",
    "\n",
    "Pista: Utiliza gráficos de barras y de tarta para visualizar la participación de mercado de cada categoría y los ingresos generados por los productos individuales. "
   ]
  },
  {
   "cell_type": "markdown",
   "metadata": {},
   "source": [
    "### **3. Análisis de Rentabilidad de Clientes**\n",
    "Analiza la rentabilidad de los clientes de la empresa. Examina los ingresos generados por cada cliente, así como los costos asociados con el servicio o producto proporcionado. \n",
    "\n",
    "Pista: Utiliza gráficos de dispersión y tablas dinámicas para identificar los clientes más rentables y aquellos que requieren mayor atención."
   ]
  },
  {
   "cell_type": "markdown",
   "metadata": {},
   "source": [
    "### **4. Análisis de Inventarios y Proveedores**\n",
    "Analiza los niveles de inventario y la gestión de proveedores de la empresa. Examina el inventario disponible por categoría de productos, así como el rendimiento de los proveedores en términos de puntualidad de entrega y calidad de los productos. \n",
    "\n",
    "Pista: Utiliza gráficos de líneas y tablas dinámicas para mostrar tendencias y comparar el desempeño de los proveedores."
   ]
  },
  {
   "cell_type": "markdown",
   "metadata": {},
   "source": [
    "### **5. Análisis de Comportamiento de Empleados**\n",
    "Analiza el comportamiento de los empleados de la empresa. Examina las ventas realizadas por cada empleado, así como su eficiencia en el manejo de pedidos y su puntualidad en la entrega de productos. \n",
    "\n",
    "Pista: Utiliza gráficos de barra y de dispersión para comparar el desempeño de los empleados y identificar áreas de mejora. "
   ]
  },
  {
   "cell_type": "code",
   "execution_count": null,
   "metadata": {},
   "outputs": [],
   "source": []
  }
 ],
 "metadata": {
  "kernelspec": {
   "display_name": "base",
   "language": "python",
   "name": "python3"
  },
  "language_info": {
   "codemirror_mode": {
    "name": "ipython",
    "version": 3
   },
   "file_extension": ".py",
   "mimetype": "text/x-python",
   "name": "python",
   "nbconvert_exporter": "python",
   "pygments_lexer": "ipython3",
   "version": "3.11.7"
  }
 },
 "nbformat": 4,
 "nbformat_minor": 2
}
