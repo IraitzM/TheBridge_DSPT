{
 "cells": [
  {
   "cell_type": "markdown",
   "metadata": {},
   "source": [
    "# Transacciones\n",
    "\n",
    "Las transacciones permiten realizar varias operaciones que cambien o consulten la información existente manteniendo la consistencia del sistema.\n",
    "\n",
    "https://www.sqlitetutorial.net/sqlite-transaction/\n",
    "\n",
    "Emplearemos un ejemplo sencillo para poder entender porqué existen estos sistemas y es importante distinguirlos de los destinados a analítica."
   ]
  },
  {
   "cell_type": "code",
   "execution_count": 2,
   "metadata": {},
   "outputs": [],
   "source": [
    "import sqlite3\n",
    "\n",
    "# Connect to the DB\n",
    "conn = sqlite3.connect(\"transactions.db\")\n",
    "c = conn.cursor()\n",
    "c.execute(\"\"\"PRAGMA foreign_keys = ON;\"\"\");"
   ]
  },
  {
   "cell_type": "markdown",
   "metadata": {},
   "source": [
    "Crearemos dos tablas `accounts` y `account_changes` para trabajar con el concepto de las transacciones. No debería suceder que hagamos un traspaso de dinero y falte en una cuenta y no llegue a la otra."
   ]
  },
  {
   "cell_type": "code",
   "execution_count": 33,
   "metadata": {},
   "outputs": [],
   "source": [
    "create_stmt = \"\"\"\n",
    "DROP TABLE IF EXISTS accounts;\n",
    "DROP TABLE IF EXISTS account_changes;\n",
    "\n",
    "CREATE TABLE accounts ( \n",
    "\taccount_no INTEGER NOT NULL, \n",
    "\tbalance DECIMAL NOT NULL DEFAULT 0,\n",
    "\tPRIMARY KEY(account_no),\n",
    "        CHECK(balance >= 0)\n",
    ");\n",
    "\n",
    "CREATE TABLE account_changes (\n",
    "\tchange_no INTEGER PRIMARY KEY AUTOINCREMENT,\n",
    "\taccount_no INTEGER NOT NULL, \n",
    "\tflag TEXT NOT NULL, \n",
    "\tamount DECIMAL NOT NULL, \n",
    "\tchanged_at TEXT NOT NULL \n",
    ");\n",
    "\n",
    "\"\"\"\n",
    "c.executescript(create_stmt);"
   ]
  },
  {
   "cell_type": "code",
   "execution_count": 34,
   "metadata": {},
   "outputs": [
    {
     "data": {
      "text/plain": [
       "[('sqlite_sequence',), ('accounts',), ('account_changes',)]"
      ]
     },
     "execution_count": 34,
     "metadata": {},
     "output_type": "execute_result"
    }
   ],
   "source": [
    "c.execute(\"\"\"SELECT name FROM sqlite_master WHERE type='table';\"\"\").fetchall()"
   ]
  },
  {
   "cell_type": "markdown",
   "metadata": {},
   "source": [
    "Insertaremos datos de ejemplo."
   ]
  },
  {
   "cell_type": "code",
   "execution_count": 35,
   "metadata": {},
   "outputs": [],
   "source": [
    "insert_stmt = \"\"\"\n",
    "INSERT INTO accounts (account_no,balance)\n",
    "VALUES (100,20100);\n",
    "\n",
    "INSERT INTO accounts (account_no,balance)\n",
    "VALUES (200,10100);\n",
    "\n",
    "\"\"\"\n",
    "c.executescript(insert_stmt);"
   ]
  },
  {
   "cell_type": "markdown",
   "metadata": {},
   "source": [
    "Y ahora nos haremos valer de SQLAlchemy para facilitar la consulta a los datos."
   ]
  },
  {
   "cell_type": "code",
   "execution_count": 36,
   "metadata": {},
   "outputs": [],
   "source": [
    "# !pip install sqlalchemy"
   ]
  },
  {
   "cell_type": "code",
   "execution_count": 37,
   "metadata": {},
   "outputs": [],
   "source": [
    "from sqlalchemy import create_engine\n",
    "\n",
    "engine = create_engine('sqlite:///transactions.db', echo=False)"
   ]
  },
  {
   "cell_type": "code",
   "execution_count": 38,
   "metadata": {},
   "outputs": [
    {
     "data": {
      "text/html": [
       "<div>\n",
       "<style scoped>\n",
       "    .dataframe tbody tr th:only-of-type {\n",
       "        vertical-align: middle;\n",
       "    }\n",
       "\n",
       "    .dataframe tbody tr th {\n",
       "        vertical-align: top;\n",
       "    }\n",
       "\n",
       "    .dataframe thead th {\n",
       "        text-align: right;\n",
       "    }\n",
       "</style>\n",
       "<table border=\"1\" class=\"dataframe\">\n",
       "  <thead>\n",
       "    <tr style=\"text-align: right;\">\n",
       "      <th></th>\n",
       "      <th>account_no</th>\n",
       "      <th>balance</th>\n",
       "    </tr>\n",
       "  </thead>\n",
       "  <tbody>\n",
       "    <tr>\n",
       "      <th>0</th>\n",
       "      <td>100</td>\n",
       "      <td>20100</td>\n",
       "    </tr>\n",
       "    <tr>\n",
       "      <th>1</th>\n",
       "      <td>200</td>\n",
       "      <td>10100</td>\n",
       "    </tr>\n",
       "  </tbody>\n",
       "</table>\n",
       "</div>"
      ],
      "text/plain": [
       "   account_no  balance\n",
       "0         100    20100\n",
       "1         200    10100"
      ]
     },
     "execution_count": 38,
     "metadata": {},
     "output_type": "execute_result"
    }
   ],
   "source": [
    "import pandas as pd\n",
    "\n",
    "acounts_df = pd.read_sql_table(\"accounts\", con=engine)\n",
    "acounts_df"
   ]
  },
  {
   "cell_type": "markdown",
   "metadata": {},
   "source": [
    "¡Todo correcto! Veamos como se realizaría una transacción encargada de mover dinero de una cuenta a otra."
   ]
  },
  {
   "cell_type": "code",
   "execution_count": 39,
   "metadata": {},
   "outputs": [],
   "source": [
    "transaction = \"\"\"\n",
    "\n",
    "BEGIN TRANSACTION;\n",
    "\n",
    "UPDATE accounts\n",
    "   SET balance = balance - 1000\n",
    " WHERE account_no = 100;\n",
    "\n",
    "UPDATE accounts\n",
    "   SET balance = balance + 1000\n",
    " WHERE account_no = 200;\n",
    " \n",
    "INSERT INTO account_changes(account_no,flag,amount,changed_at) \n",
    "VALUES(100,'-',1000,datetime('now'));\n",
    "\n",
    "INSERT INTO account_changes(account_no,flag,amount,changed_at) \n",
    "VALUES(200,'+',1000,datetime('now'));\n",
    "\n",
    "COMMIT;\n",
    "\n",
    "\"\"\"\n",
    "c.executescript(transaction);"
   ]
  },
  {
   "cell_type": "code",
   "execution_count": 40,
   "metadata": {},
   "outputs": [
    {
     "data": {
      "text/html": [
       "<div>\n",
       "<style scoped>\n",
       "    .dataframe tbody tr th:only-of-type {\n",
       "        vertical-align: middle;\n",
       "    }\n",
       "\n",
       "    .dataframe tbody tr th {\n",
       "        vertical-align: top;\n",
       "    }\n",
       "\n",
       "    .dataframe thead th {\n",
       "        text-align: right;\n",
       "    }\n",
       "</style>\n",
       "<table border=\"1\" class=\"dataframe\">\n",
       "  <thead>\n",
       "    <tr style=\"text-align: right;\">\n",
       "      <th></th>\n",
       "      <th>account_no</th>\n",
       "      <th>balance</th>\n",
       "    </tr>\n",
       "  </thead>\n",
       "  <tbody>\n",
       "    <tr>\n",
       "      <th>0</th>\n",
       "      <td>100</td>\n",
       "      <td>19100</td>\n",
       "    </tr>\n",
       "    <tr>\n",
       "      <th>1</th>\n",
       "      <td>200</td>\n",
       "      <td>11100</td>\n",
       "    </tr>\n",
       "  </tbody>\n",
       "</table>\n",
       "</div>"
      ],
      "text/plain": [
       "   account_no  balance\n",
       "0         100    19100\n",
       "1         200    11100"
      ]
     },
     "execution_count": 40,
     "metadata": {},
     "output_type": "execute_result"
    }
   ],
   "source": [
    "pd.read_sql_table(\"accounts\", con=engine)"
   ]
  },
  {
   "cell_type": "code",
   "execution_count": 41,
   "metadata": {},
   "outputs": [
    {
     "data": {
      "text/html": [
       "<div>\n",
       "<style scoped>\n",
       "    .dataframe tbody tr th:only-of-type {\n",
       "        vertical-align: middle;\n",
       "    }\n",
       "\n",
       "    .dataframe tbody tr th {\n",
       "        vertical-align: top;\n",
       "    }\n",
       "\n",
       "    .dataframe thead th {\n",
       "        text-align: right;\n",
       "    }\n",
       "</style>\n",
       "<table border=\"1\" class=\"dataframe\">\n",
       "  <thead>\n",
       "    <tr style=\"text-align: right;\">\n",
       "      <th></th>\n",
       "      <th>change_no</th>\n",
       "      <th>account_no</th>\n",
       "      <th>flag</th>\n",
       "      <th>amount</th>\n",
       "      <th>changed_at</th>\n",
       "    </tr>\n",
       "  </thead>\n",
       "  <tbody>\n",
       "    <tr>\n",
       "      <th>0</th>\n",
       "      <td>1</td>\n",
       "      <td>100</td>\n",
       "      <td>-</td>\n",
       "      <td>1000</td>\n",
       "      <td>2024-05-23 16:20:37</td>\n",
       "    </tr>\n",
       "    <tr>\n",
       "      <th>1</th>\n",
       "      <td>2</td>\n",
       "      <td>200</td>\n",
       "      <td>+</td>\n",
       "      <td>1000</td>\n",
       "      <td>2024-05-23 16:20:37</td>\n",
       "    </tr>\n",
       "  </tbody>\n",
       "</table>\n",
       "</div>"
      ],
      "text/plain": [
       "   change_no  account_no flag  amount           changed_at\n",
       "0          1         100    -    1000  2024-05-23 16:20:37\n",
       "1          2         200    +    1000  2024-05-23 16:20:37"
      ]
     },
     "execution_count": 41,
     "metadata": {},
     "output_type": "execute_result"
    }
   ],
   "source": [
    "pd.read_sql_table(\"account_changes\", con=engine)"
   ]
  },
  {
   "cell_type": "markdown",
   "metadata": {},
   "source": [
    "Parece que el registro fue bien. ¿Y si intentáramos enviar una cantidad superior a la existente?"
   ]
  },
  {
   "cell_type": "code",
   "execution_count": 62,
   "metadata": {},
   "outputs": [],
   "source": [
    "amount = 100\n",
    "\n",
    "try:\n",
    "    with conn:\n",
    "        c = conn.cursor()\n",
    "        c.execute(\"INSERT INTO account_changes(account_no,flag,amount,changed_at)  VALUES(100,'-',(?),datetime('now'));\", (amount,))\n",
    "        c.execute(\"UPDATE accounts SET balance = balance - (?) WHERE account_no = 100;\", (amount,))\n",
    "except sqlite3.IntegrityError:\n",
    "    print(\"We went to the previous step\")"
   ]
  },
  {
   "cell_type": "code",
   "execution_count": 63,
   "metadata": {},
   "outputs": [
    {
     "data": {
      "text/html": [
       "<div>\n",
       "<style scoped>\n",
       "    .dataframe tbody tr th:only-of-type {\n",
       "        vertical-align: middle;\n",
       "    }\n",
       "\n",
       "    .dataframe tbody tr th {\n",
       "        vertical-align: top;\n",
       "    }\n",
       "\n",
       "    .dataframe thead th {\n",
       "        text-align: right;\n",
       "    }\n",
       "</style>\n",
       "<table border=\"1\" class=\"dataframe\">\n",
       "  <thead>\n",
       "    <tr style=\"text-align: right;\">\n",
       "      <th></th>\n",
       "      <th>change_no</th>\n",
       "      <th>account_no</th>\n",
       "      <th>flag</th>\n",
       "      <th>amount</th>\n",
       "      <th>changed_at</th>\n",
       "    </tr>\n",
       "  </thead>\n",
       "  <tbody>\n",
       "    <tr>\n",
       "      <th>0</th>\n",
       "      <td>1</td>\n",
       "      <td>100</td>\n",
       "      <td>-</td>\n",
       "      <td>1000</td>\n",
       "      <td>2024-05-23 16:20:37</td>\n",
       "    </tr>\n",
       "    <tr>\n",
       "      <th>1</th>\n",
       "      <td>2</td>\n",
       "      <td>200</td>\n",
       "      <td>+</td>\n",
       "      <td>1000</td>\n",
       "      <td>2024-05-23 16:20:37</td>\n",
       "    </tr>\n",
       "    <tr>\n",
       "      <th>2</th>\n",
       "      <td>3</td>\n",
       "      <td>100</td>\n",
       "      <td>-</td>\n",
       "      <td>100</td>\n",
       "      <td>2024-05-23 16:26:30</td>\n",
       "    </tr>\n",
       "    <tr>\n",
       "      <th>3</th>\n",
       "      <td>4</td>\n",
       "      <td>100</td>\n",
       "      <td>-</td>\n",
       "      <td>1000</td>\n",
       "      <td>2024-05-23 16:26:56</td>\n",
       "    </tr>\n",
       "    <tr>\n",
       "      <th>4</th>\n",
       "      <td>5</td>\n",
       "      <td>100</td>\n",
       "      <td>-</td>\n",
       "      <td>100</td>\n",
       "      <td>2024-05-23 16:27:36</td>\n",
       "    </tr>\n",
       "  </tbody>\n",
       "</table>\n",
       "</div>"
      ],
      "text/plain": [
       "   change_no  account_no flag  amount           changed_at\n",
       "0          1         100    -    1000  2024-05-23 16:20:37\n",
       "1          2         200    +    1000  2024-05-23 16:20:37\n",
       "2          3         100    -     100  2024-05-23 16:26:30\n",
       "3          4         100    -    1000  2024-05-23 16:26:56\n",
       "4          5         100    -     100  2024-05-23 16:27:36"
      ]
     },
     "execution_count": 63,
     "metadata": {},
     "output_type": "execute_result"
    }
   ],
   "source": [
    "pd.read_sql_table(\"account_changes\", con=engine)"
   ]
  },
  {
   "cell_type": "code",
   "execution_count": 64,
   "metadata": {},
   "outputs": [
    {
     "data": {
      "text/html": [
       "<div>\n",
       "<style scoped>\n",
       "    .dataframe tbody tr th:only-of-type {\n",
       "        vertical-align: middle;\n",
       "    }\n",
       "\n",
       "    .dataframe tbody tr th {\n",
       "        vertical-align: top;\n",
       "    }\n",
       "\n",
       "    .dataframe thead th {\n",
       "        text-align: right;\n",
       "    }\n",
       "</style>\n",
       "<table border=\"1\" class=\"dataframe\">\n",
       "  <thead>\n",
       "    <tr style=\"text-align: right;\">\n",
       "      <th></th>\n",
       "      <th>account_no</th>\n",
       "      <th>balance</th>\n",
       "    </tr>\n",
       "  </thead>\n",
       "  <tbody>\n",
       "    <tr>\n",
       "      <th>0</th>\n",
       "      <td>100</td>\n",
       "      <td>17900</td>\n",
       "    </tr>\n",
       "    <tr>\n",
       "      <th>1</th>\n",
       "      <td>200</td>\n",
       "      <td>11100</td>\n",
       "    </tr>\n",
       "  </tbody>\n",
       "</table>\n",
       "</div>"
      ],
      "text/plain": [
       "   account_no  balance\n",
       "0         100    17900\n",
       "1         200    11100"
      ]
     },
     "execution_count": 64,
     "metadata": {},
     "output_type": "execute_result"
    }
   ],
   "source": [
    "pd.read_sql_table(\"accounts\", con=engine)"
   ]
  },
  {
   "cell_type": "markdown",
   "metadata": {},
   "source": [
    "Como veis las transacciones previenen que las operaciones que implican más de un cambio cumplan con los requisitos ACID que buscamos en un sistema que representa nuestro negocio bajo las reglas establecidas."
   ]
  },
  {
   "cell_type": "code",
   "execution_count": 65,
   "metadata": {},
   "outputs": [],
   "source": [
    "conn.close()"
   ]
  }
 ],
 "metadata": {
  "kernelspec": {
   "display_name": ".venv",
   "language": "python",
   "name": "python3"
  },
  "language_info": {
   "codemirror_mode": {
    "name": "ipython",
    "version": 3
   },
   "file_extension": ".py",
   "mimetype": "text/x-python",
   "name": "python",
   "nbconvert_exporter": "python",
   "pygments_lexer": "ipython3",
   "version": "3.10.12"
  }
 },
 "nbformat": 4,
 "nbformat_minor": 2
}
