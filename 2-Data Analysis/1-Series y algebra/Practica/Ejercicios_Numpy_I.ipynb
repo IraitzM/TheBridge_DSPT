{
 "cells": [
  {
   "cell_type": "markdown",
   "metadata": {},
   "source": [
    "![imagen](./img/ejercicios.png)"
   ]
  },
  {
   "cell_type": "markdown",
   "metadata": {},
   "source": [
    "## Ejercicio 1\n",
    "Importa el módulo de `numpy` y obtén su versión."
   ]
  },
  {
   "cell_type": "code",
   "execution_count": 4,
   "metadata": {},
   "outputs": [
    {
     "name": "stdout",
     "output_type": "stream",
     "text": [
      "Versión de NumPy: 1.26.4\n"
     ]
    }
   ],
   "source": [
    "import numpy as np\n",
    "\n",
    "print(\"Versión de NumPy:\", np.__version__) # EL COMANDO __version__ ARROJA LA VERSION DE NUMPY INSTALADO  "
   ]
  },
  {
   "cell_type": "markdown",
   "metadata": {},
   "source": [
    "## Ejercicio 2\n",
    "Crea un array de una dimensión que vaya de 0 a 9. Llamalo `my_array`"
   ]
  },
  {
   "cell_type": "code",
   "execution_count": 2,
   "metadata": {},
   "outputs": [
    {
     "name": "stdout",
     "output_type": "stream",
     "text": [
      "[0 1 2 3 4 5 6 7 8 9]\n"
     ]
    }
   ],
   "source": [
    "import numpy as np\n",
    "\n",
    "# Crear el array de una dimensión que vaya de 0 a 9\n",
    "my_array = np.arange(10)\n",
    "\n",
    "print(my_array) "
   ]
  },
  {
   "cell_type": "markdown",
   "metadata": {},
   "source": [
    "## Ejercicio 3\n",
    "Crea un array 3x3, que sea todo a True"
   ]
  },
  {
   "cell_type": "code",
   "execution_count": 3,
   "metadata": {},
   "outputs": [
    {
     "name": "stdout",
     "output_type": "stream",
     "text": [
      "[[ True  True  True]\n",
      " [ True  True  True]\n",
      " [ True  True  True]]\n"
     ]
    }
   ],
   "source": [
    "import numpy as np\n",
    "\n",
    "# Crear un array 3x3 de booleanos con todos los elementos a True\n",
    "my_array = np.ones((3, 3), dtype=bool) # EL OPERADOR \"dtype\" SEÑALA EL TIPO DE DATO, PERO TAMBIEN SE PUEDE CAMBIAR EL TIPO DE DATO ACTUAL\n",
    "                                        # ASIGNANDOLE UNO NUEVO. EN ESTE CASO LA VARIABLE CONTIENE \"1s\" QUE AL CAMBIARSE AL TIPO BOOLEANO\n",
    "                                         # LE CORRESPONDE EL VALOR \"True\" \n",
    "print(my_array)\n"
   ]
  },
  {
   "cell_type": "markdown",
   "metadata": {},
   "source": [
    "## Ejercicio 4\n",
    "Extrae todos los impares de `my_array`"
   ]
  },
  {
   "cell_type": "code",
   "execution_count": 4,
   "metadata": {},
   "outputs": [
    {
     "name": "stdout",
     "output_type": "stream",
     "text": [
      "Valores impares de my_array:\n",
      "[ True  True  True  True  True  True  True  True  True]\n"
     ]
    }
   ],
   "source": [
    "my_array = np.ones((3, 3), dtype=bool)\n",
    "\n",
    "# Crear una máscara booleana para los valores impares\n",
    "mascara_impares = my_array % 2 != 0 # SE CREA UNA MASCARA BOOLEANA PARA LOS VALORES IMPARES (% 2 != 0) CON EL PROPOSITO DE EXTRAERLOS \n",
    "                                     # ESTO SE HACE AL ASIGNARLE A UNA NUEVA VARIABLE LOS VALORES IMPARES DE LA VARIABLE ORIGINAL (my_array % 2 != 0)\n",
    "\n",
    "# Extraer los valores impares utilizando la máscara\n",
    "impares = my_array[mascara_impares] # EN LA VARIABLE ORIGINAL SE OBTIENEN LOS VALORES IMPARES AL PONER ENTRE CORCHETES LOS VALORES DE LA VARIABLE \"mascara_impares\", \n",
    "                                     # Y ESTOS VALORES SE LE ASIGNAN A LA VARIABLE \"impares\" QUE ES UN ARREGLO \n",
    "print(\"Valores impares de my_array:\")\n",
    "print(impares)"
   ]
  },
  {
   "cell_type": "markdown",
   "metadata": {},
   "source": [
    "## Ejercicio 5\n",
    "En un nuevo array, sustituye todos los impares de `my_array` por -1"
   ]
  },
  {
   "cell_type": "code",
   "execution_count": 5,
   "metadata": {},
   "outputs": [
    {
     "name": "stdout",
     "output_type": "stream",
     "text": [
      "my_array original:\n",
      "[[ True  True  True]\n",
      " [ True  True  True]\n",
      " [ True  True  True]]\n",
      "\n",
      "Nuevo array con impares sustituidos por -1:\n",
      "[[ True  True  True]\n",
      " [ True  True  True]\n",
      " [ True  True  True]]\n"
     ]
    }
   ],
   "source": [
    "# Crear un array 3x3 de booleanos con todos los elementos a True\n",
    "my_array = np.ones((3, 3), dtype=bool)\n",
    "\n",
    "# Crear una máscara booleana para los valores impares\n",
    "mascara_impares = my_array % 2 != 0\n",
    "\n",
    "# Crear un nuevo array y copiar my_array\n",
    "nuevo_array = my_array.copy()\n",
    "\n",
    "# Sustituir los valores impares por -1 en el nuevo array\n",
    "nuevo_array[mascara_impares] = -1 # A LOS DATOS IMPARES SE LES ASIGNA EL VALOR -1 \n",
    "\n",
    "print(\"my_array original:\")\n",
    "print(my_array)\n",
    "print(\"\\nNuevo array con impares sustituidos por -1:\")\n",
    "print(nuevo_array)  "
   ]
  },
  {
   "cell_type": "markdown",
   "metadata": {},
   "source": [
    "## Ejercicio 6\n",
    "En un nuevo array, sustituye todos los impares de `my_array` por -1. Esta vez usa `where`"
   ]
  },
  {
   "cell_type": "code",
   "execution_count": 6,
   "metadata": {},
   "outputs": [
    {
     "name": "stdout",
     "output_type": "stream",
     "text": [
      "my_array original:\n",
      "[[ True  True  True]\n",
      " [ True  True  True]\n",
      " [ True  True  True]]\n",
      "\n",
      "Nuevo array con impares sustituidos por -1:\n",
      "[[-1 -1 -1]\n",
      " [-1 -1 -1]\n",
      " [-1 -1 -1]]\n"
     ]
    }
   ],
   "source": [
    "# Crear un array 3x3 de booleanos con todos los elementos a True\n",
    "my_array = np.ones((3, 3), dtype=bool)\n",
    "\n",
    "# Crear una máscara booleana para los valores impares\n",
    "mascara_impares = my_array % 2 != 0\n",
    "\n",
    "# Crear un nuevo array donde los impares se sustituyen por -1\n",
    "nuevo_array = np.where(mascara_impares, -1, my_array) # LA FUNCION \"WHERE()\" DICE QUE A LOS VALORES DE \"mascara_impares\" SE LES ASIGNA EL VALOR -1 \n",
    "                                                       # Y AL RESTO DE ELEMENTOS DE LA VARIABLE ORIGINAL SE LES DEJA COMO ESTAN \n",
    "print(\"my_array original:\")\n",
    "print(my_array)\n",
    "print(\"\\nNuevo array con impares sustituidos por -1:\")\n",
    "print(nuevo_array)"
   ]
  },
  {
   "cell_type": "markdown",
   "metadata": {},
   "source": [
    "## Ejercicio 7\n",
    "Convierte `my_array` en un nuevo array de dos dimensiones mediante `reshape`."
   ]
  },
  {
   "cell_type": "code",
   "execution_count": 7,
   "metadata": {},
   "outputs": [
    {
     "name": "stdout",
     "output_type": "stream",
     "text": [
      "my_array:\n",
      "[0 1 2 3 4 5 6 7 8]\n",
      "\n",
      "Nuevo array de 3x3:\n",
      "[[0 1 2]\n",
      " [3 4 5]\n",
      " [6 7 8]]\n"
     ]
    }
   ],
   "source": [
    "# Crear un array 1D que vaya de 0 a 8\n",
    "my_array = np.arange(9) # ARREGLO DE 1 DIMENSION \"(9)\"\n",
    "\n",
    "# Convertir my_array en un nuevo array de 3x3 mediante reshape\n",
    "nuevo_array = my_array.reshape(3, 3) # LA FUNCION \".reshape\" CONVIERTE EL ARREGLO DE 1 DIMENSION ORIGINAL EN UN ARREGLO DE 2 DIMENSIONES \"(3, 3)\"\n",
    "\n",
    "print(\"my_array:\")\n",
    "print(my_array)\n",
    "print(\"\\nNuevo array de 3x3:\")\n",
    "print(nuevo_array)"
   ]
  },
  {
   "cell_type": "markdown",
   "metadata": {},
   "source": [
    "## Ejercicio 8\n",
    "Concatena los siguientes arrays verticalmente\n",
    "\n",
    "```Python\n",
    "a = np.arange(10).reshape(2,-1)\n",
    "b = np.repeat(1, 10).reshape(2,-1)\n",
    "```"
   ]
  },
  {
   "cell_type": "code",
   "execution_count": 8,
   "metadata": {},
   "outputs": [
    {
     "name": "stdout",
     "output_type": "stream",
     "text": [
      "Resultado de la concatenación vertical:\n",
      "[[0 1 2 3 4]\n",
      " [5 6 7 8 9]\n",
      " [1 1 1 1 1]\n",
      " [1 1 1 1 1]]\n"
     ]
    }
   ],
   "source": [
    "# Definir los arrays a y b\n",
    "a = np.arange(10).reshape(2, -1) # DICE QUE LA NUEVA ESTRUCTURA DONDE SE ALMACENARAN LOS DATOS SERÁ DE DIMENSIONES (2, \"LO NECESARIO PARA \n",
    "b = np.repeat(1, 10).reshape(2, -1) # QUE QUEPAN TODOS LOS DATOS (-1)\") \n",
    "\n",
    "# Concatenar los arrays verticalmente\n",
    "resultado = np.concatenate((a, b), axis=0) # LA FUNCION \"CONCATENATE()\" UNE EN ESTE CASO 2 ARREGLOS DE DIMENSIONES (2, 5), CON UNION EN EL EJE X (axis=0)  \n",
    "\n",
    "print(\"Resultado de la concatenación vertical:\")\n",
    "print(resultado) "
   ]
  },
  {
   "cell_type": "markdown",
   "metadata": {},
   "source": [
    "## Ejercicio 9\n",
    "Concatena los siguientes arrays horizontamente\n",
    "\n",
    "```Python\n",
    "a = np.arange(10).reshape(2,-1)\n",
    "b = np.repeat(1, 10).reshape(2,-1)\n",
    "```"
   ]
  },
  {
   "cell_type": "code",
   "execution_count": 9,
   "metadata": {},
   "outputs": [
    {
     "name": "stdout",
     "output_type": "stream",
     "text": [
      "Resultado de la concatenación horizontal:\n",
      "[[0 1 2 3 4 1 1 1 1 1]\n",
      " [5 6 7 8 9 1 1 1 1 1]]\n"
     ]
    }
   ],
   "source": [
    "# Definir los arrays a y b\n",
    "a = np.arange(10).reshape(2, -1) # UN ARREGLO DE DIMENSIONES (2, HASTA QUE ESTEN TODOS LOS DATOS)\n",
    "b = np.repeat(1, 10).reshape(2, -1) # LA FUNCION \"repeat()\" REPITE EL NÚMERO 1 DIEZ VECES \n",
    "\n",
    "# Concatenar los arrays horizontalmente\n",
    "resultado = np.concatenate((a, b), axis=1) # LA FUNCION \"concatenate()\" ESTÁ INDICANDO QUE ESTA SE DEBE HACER UNIENDOLOS EN EL EJE Y (axis=1), UNO \n",
    "                                            # A CONTINUACION DEL OTRO \n",
    "print(\"Resultado de la concatenación horizontal:\")\n",
    "print(resultado)  "
   ]
  },
  {
   "cell_type": "markdown",
   "metadata": {},
   "source": [
    "## Ejercicio 10\n",
    "Encuentra todos los elementos en común entre ambos arrays. [Para ello usa la función `intersect1d`](https://numpy.org/doc/stable/reference/generated/numpy.intersect1d.html)\n",
    "\n",
    "```Python\n",
    "a = np.array([1,2,3,2,3,4,3,4,5,6])\n",
    "b = np.array([7,2,10,2,7,4,9,4,9,8])\n",
    "```"
   ]
  },
  {
   "cell_type": "code",
   "execution_count": 10,
   "metadata": {},
   "outputs": [
    {
     "name": "stdout",
     "output_type": "stream",
     "text": [
      "Elementos en común:\n",
      "[2 4]\n"
     ]
    }
   ],
   "source": [
    "a = np.array([1, 2, 3, 2, 3, 4, 3, 4, 5, 6])\n",
    "b = np.array([7, 2, 10, 2, 7, 4, 9, 4, 9, 8])\n",
    "\n",
    "# Encontrar los elementos en común entre ambos arrays\n",
    "elementos_comunes = np.intersect1d(a, b) # LA FUNCION \"intersect1d\" ENCUENTRA Y ALMACENA TODOS LOS ELEMENTOS COMUNES ENTRE LAS VARIABLES DE ENTRADA \n",
    "\n",
    "print(\"Elementos en común:\")\n",
    "print(elementos_comunes) \n"
   ]
  },
  {
   "cell_type": "markdown",
   "metadata": {},
   "source": [
    "## Ejercicio 11\n",
    "Obtén la documentación acerca de la función `concatenate`"
   ]
  },
  {
   "cell_type": "code",
   "execution_count": 12,
   "metadata": {},
   "outputs": [
    {
     "name": "stdout",
     "output_type": "stream",
     "text": [
      "Help on _ArrayFunctionDispatcher in module numpy:\n",
      "\n",
      "concatenate(...)\n",
      "    concatenate((a1, a2, ...), axis=0, out=None, dtype=None, casting=\"same_kind\")\n",
      "\n",
      "    Join a sequence of arrays along an existing axis.\n",
      "\n",
      "    Parameters\n",
      "    ----------\n",
      "    a1, a2, ... : sequence of array_like\n",
      "        The arrays must have the same shape, except in the dimension\n",
      "        corresponding to `axis` (the first, by default).\n",
      "    axis : int, optional\n",
      "        The axis along which the arrays will be joined.  If axis is None,\n",
      "        arrays are flattened before use.  Default is 0.\n",
      "    out : ndarray, optional\n",
      "        If provided, the destination to place the result. The shape must be\n",
      "        correct, matching that of what concatenate would have returned if no\n",
      "        out argument were specified.\n",
      "    dtype : str or dtype\n",
      "        If provided, the destination array will have this dtype. Cannot be\n",
      "        provided together with `out`.\n",
      "\n",
      "        .. versionadded:: 1.20.0\n",
      "\n",
      "    casting : {'no', 'equiv', 'safe', 'same_kind', 'unsafe'}, optional\n",
      "        Controls what kind of data casting may occur. Defaults to 'same_kind'.\n",
      "\n",
      "        .. versionadded:: 1.20.0\n",
      "\n",
      "    Returns\n",
      "    -------\n",
      "    res : ndarray\n",
      "        The concatenated array.\n",
      "\n",
      "    See Also\n",
      "    --------\n",
      "    ma.concatenate : Concatenate function that preserves input masks.\n",
      "    array_split : Split an array into multiple sub-arrays of equal or\n",
      "                  near-equal size.\n",
      "    split : Split array into a list of multiple sub-arrays of equal size.\n",
      "    hsplit : Split array into multiple sub-arrays horizontally (column wise).\n",
      "    vsplit : Split array into multiple sub-arrays vertically (row wise).\n",
      "    dsplit : Split array into multiple sub-arrays along the 3rd axis (depth).\n",
      "    stack : Stack a sequence of arrays along a new axis.\n",
      "    block : Assemble arrays from blocks.\n",
      "    hstack : Stack arrays in sequence horizontally (column wise).\n",
      "    vstack : Stack arrays in sequence vertically (row wise).\n",
      "    dstack : Stack arrays in sequence depth wise (along third dimension).\n",
      "    column_stack : Stack 1-D arrays as columns into a 2-D array.\n",
      "\n",
      "    Notes\n",
      "    -----\n",
      "    When one or more of the arrays to be concatenated is a MaskedArray,\n",
      "    this function will return a MaskedArray object instead of an ndarray,\n",
      "    but the input masks are *not* preserved. In cases where a MaskedArray\n",
      "    is expected as input, use the ma.concatenate function from the masked\n",
      "    array module instead.\n",
      "\n",
      "    Examples\n",
      "    --------\n",
      "    >>> a = np.array([[1, 2], [3, 4]])\n",
      "    >>> b = np.array([[5, 6]])\n",
      "    >>> np.concatenate((a, b), axis=0)\n",
      "    array([[1, 2],\n",
      "           [3, 4],\n",
      "           [5, 6]])\n",
      "    >>> np.concatenate((a, b.T), axis=1)\n",
      "    array([[1, 2, 5],\n",
      "           [3, 4, 6]])\n",
      "    >>> np.concatenate((a, b), axis=None)\n",
      "    array([1, 2, 3, 4, 5, 6])\n",
      "\n",
      "    This function will not preserve masking of MaskedArray inputs.\n",
      "\n",
      "    >>> a = np.ma.arange(3)\n",
      "    >>> a[1] = np.ma.masked\n",
      "    >>> b = np.arange(2, 5)\n",
      "    >>> a\n",
      "    masked_array(data=[0, --, 2],\n",
      "                 mask=[False,  True, False],\n",
      "           fill_value=999999)\n",
      "    >>> b\n",
      "    array([2, 3, 4])\n",
      "    >>> np.concatenate([a, b])\n",
      "    masked_array(data=[0, 1, 2, 2, 3, 4],\n",
      "                 mask=False,\n",
      "           fill_value=999999)\n",
      "    >>> np.ma.concatenate([a, b])\n",
      "    masked_array(data=[0, --, 2, 2, 3, 4],\n",
      "                 mask=[False,  True, False, False, False, False],\n",
      "           fill_value=999999)\n",
      "\n"
     ]
    }
   ],
   "source": [
    "help(np.concatenate) "
   ]
  },
  {
   "cell_type": "markdown",
   "metadata": {},
   "source": [
    "## Ejercicio 12\n",
    "Crea un array unidimensional que vaya del 0 al 9. Llámalo `my_array`. \n",
    "1. Multiplica cada uno de los elementos de `my_array` por 10, en un nuevo array\n",
    "2. Accede al primer elemento de `my_array`\n",
    "3. Accede al último elemento de `my_array`\n",
    "4. Imprime por pantalla los numeros del 1 al 7 de `my_array`"
   ]
  },
  {
   "cell_type": "code",
   "execution_count": 13,
   "metadata": {},
   "outputs": [
    {
     "name": "stdout",
     "output_type": "stream",
     "text": [
      "Paso 1: my_array multiplicado por 10: [ 0 10 20 30 40 50 60 70 80 90]\n",
      "Paso 2: Primer elemento de my_array: 0\n",
      "Paso 3: Último elemento de my_array: 9\n",
      "Paso 4: Números del 1 al 7 de my_array: [1 2 3 4 5 6 7]\n"
     ]
    }
   ],
   "source": [
    "my_array = np.arange(10)\n",
    "\n",
    "# 1: Multiplicar cada elemento de my_array por 10 y almacenar el resultado en un nuevo array\n",
    "new_array = my_array * 10\n",
    "\n",
    "# 2: Acceder al primer elemento de my_array\n",
    "primer_elemento = my_array[0]\n",
    "\n",
    "# 3: Acceder al último elemento de my_array\n",
    "ultimo_elemento = my_array[-1]\n",
    "\n",
    "# 4: Imprimir los números del 1 al 7 de my_array\n",
    "numeros_1_al_7 = my_array[1:8]\n",
    "\n",
    "# Imprimir los resultados\n",
    "print(\"Paso 1: my_array multiplicado por 10:\", new_array)\n",
    "print(\"Paso 2: Primer elemento de my_array:\", primer_elemento)\n",
    "print(\"Paso 3: Último elemento de my_array:\", ultimo_elemento)\n",
    "print(\"Paso 4: Números del 1 al 7 de my_array:\", numeros_1_al_7)"
   ]
  },
  {
   "cell_type": "markdown",
   "metadata": {},
   "source": [
    "## Ejercicio 13\n",
    "Crea un array manualmente de tres filas por tres columnas. Llámalo `my_matrix`"
   ]
  },
  {
   "cell_type": "code",
   "execution_count": 14,
   "metadata": {},
   "outputs": [
    {
     "name": "stdout",
     "output_type": "stream",
     "text": [
      "[[1 2 3]\n",
      " [4 5 6]\n",
      " [7 8 9]]\n"
     ]
    }
   ],
   "source": [
    "# Crear un array manualmente de tres filas por tres columnas\n",
    "my_matrix = np.array([[1, 2, 3],\n",
    "                      [4, 5, 6],\n",
    "                      [7, 8, 9]])\n",
    "\n",
    "print(my_matrix) "
   ]
  },
  {
   "cell_type": "markdown",
   "metadata": {},
   "source": [
    "## Ejercicio 14\n",
    "Obtén la siguiente secuencia:\n",
    "\n",
    "```Python\n",
    "[ 1,  4,  7, 10, 13, 16, 19, 22, 25, 28, 31, 34, 37, 40, 43, 46, 49]\n",
    "```"
   ]
  },
  {
   "cell_type": "code",
   "execution_count": 15,
   "metadata": {},
   "outputs": [
    {
     "name": "stdout",
     "output_type": "stream",
     "text": [
      "[ 1  4  7 10 13 16 19 22 25 28 31 34 37 40 43 46 49]\n"
     ]
    }
   ],
   "source": [
    "# Obtener la secuencia utilizando arange()\n",
    "secuencia = np.arange(1, 50, 3)\n",
    "\n",
    "print(secuencia) "
   ]
  },
  {
   "cell_type": "markdown",
   "metadata": {},
   "source": [
    "## Ejercicio 15\n",
    "Obtén la siguiente secuencia\n",
    "\n",
    "```Python\n",
    "[4., 3.75, 3.5 , 3.25, 3.  , 2.75, 2.5 , 2.25, 2., 1.75, 1.5 ,1.25]\n",
    "```"
   ]
  },
  {
   "cell_type": "code",
   "execution_count": 19,
   "metadata": {},
   "outputs": [
    {
     "name": "stdout",
     "output_type": "stream",
     "text": [
      "[4.   3.75 3.5  3.25 3.   2.75 2.5  2.25 2.   1.75 1.5  1.25]\n"
     ]
    }
   ],
   "source": [
    "# Obtener la secuencia utilizando arange() y flip()\n",
    "secuencia = np.flip(np.arange(1.25, 4.25, 0.25)) # LA FUNCION \"flip()\" INVIERTE EL SENTIDO QUE LA SECUENCIA DE NÚMEROS OBTENIDA POR LA FUNCION \"arange()\" \n",
    "\n",
    "print(secuencia) "
   ]
  },
  {
   "cell_type": "markdown",
   "metadata": {},
   "source": [
    "## Ejercicio 16\n",
    "Lee la imagen \"numpy.png\""
   ]
  },
  {
   "cell_type": "code",
   "execution_count": 22,
   "metadata": {},
   "outputs": [
    {
     "data": {
      "text/plain": [
       "<matplotlib.image.AxesImage at 0x13f8d0cf530>"
      ]
     },
     "execution_count": 22,
     "metadata": {},
     "output_type": "execute_result"
    },
    {
     "data": {
      "image/png": "[encoded data removed]",
      "text/plain": [
       "<Figure size 640x480 with 1 Axes>"
      ]
     },
     "metadata": {},
     "output_type": "display_data"
    }
   ],
   "source": [
    "from PIL import Image # \"PIL\" ES UNA LIBRERIA DE IMAGENES DE PYTHON \n",
    "import matplotlib.pyplot as plt # \"MATPLOTLIB\" ES UNA LIBRERIA DE IMPRESION DE IMAGENES ORIENTADA A OBJETOS; Y \"PYPLOT\" ES UNA INTERFAZ DE IMPRESION DE IMAGENES  \n",
    "\n",
    "# Carga la imagen usando Pillow\n",
    "imagen = Image.open('./img/numpy.png') \n",
    "\n",
    "plt.imshow(imagen) # LA FUNCION \"imshow()\" IMPRIME LA IMAGEN EN PANTALLA "
   ]
  },
  {
   "cell_type": "markdown",
   "metadata": {},
   "source": [
    "## Ejercicio 17\n",
    "Crea un array de 4x1. A continuación convierte el array a un 2x2"
   ]
  },
  {
   "cell_type": "code",
   "execution_count": 23,
   "metadata": {},
   "outputs": [
    {
     "name": "stdout",
     "output_type": "stream",
     "text": [
      "Array original de 4x1:\n",
      "[[1]\n",
      " [2]\n",
      " [3]\n",
      " [4]]\n",
      "\n",
      "Array convertido a un 2x2:\n",
      "[[1 2]\n",
      " [3 4]]\n"
     ]
    }
   ],
   "source": [
    "# Crear un array de 4x1\n",
    "array_4x1 = np.array([[1], [2], [3], [4]]) # UN ARREGLO EN POSICION VERTICAL, ES DECIR, DE DIMENSIONES (4, 1) \n",
    "\n",
    "# Convertir el array a un 2x2\n",
    "array_2x2 = array_4x1.reshape(2, 2) # CON LA FUNCION \".reshape\" SE CAMBIAN LAS DIMENSIONES DE LA ESTRUCTURA QUE ALMACENA LOS DATOS \n",
    "\n",
    "print(\"Array original de 4x1:\")\n",
    "print(array_4x1)\n",
    "\n",
    "print(\"\\nArray convertido a un 2x2:\")\n",
    "print(array_2x2)"
   ]
  },
  {
   "cell_type": "markdown",
   "metadata": {},
   "source": [
    "## Ejercicio 18\n",
    "Crea una secuencia aleatoria. La secuencia se tiene que componer de 4 matrices de 5x3. Serían 3 dimensiones diferentes."
   ]
  },
  {
   "cell_type": "code",
   "execution_count": 24,
   "metadata": {},
   "outputs": [
    {
     "name": "stdout",
     "output_type": "stream",
     "text": [
      "Secuencia aleatoria de 4 matrices de 5x3:\n",
      "[[[0.79627426 0.84467253 0.01149889]\n",
      "  [0.40125626 0.33847343 0.91772932]\n",
      "  [0.65653394 0.22465059 0.47574679]\n",
      "  [0.67967827 0.9620107  0.34234971]\n",
      "  [0.85766151 0.78547541 0.25567114]]\n",
      "\n",
      " [[0.26893227 0.38710978 0.40575729]\n",
      "  [0.48644596 0.99190154 0.44256177]\n",
      "  [0.94980208 0.9789185  0.76279781]\n",
      "  [0.67958255 0.37033198 0.0194336 ]\n",
      "  [0.55857855 0.98474349 0.69767783]]\n",
      "\n",
      " [[0.80363788 0.09544802 0.91358425]\n",
      "  [0.88180566 0.58429285 0.77145613]\n",
      "  [0.02124706 0.82899736 0.0012291 ]\n",
      "  [0.86578191 0.9360811  0.0990985 ]\n",
      "  [0.12785781 0.23248465 0.49895153]]\n",
      "\n",
      " [[0.97420049 0.32049527 0.39282751]\n",
      "  [0.19022432 0.37308636 0.94378425]\n",
      "  [0.53299938 0.42395813 0.90804995]\n",
      "  [0.45051345 0.38969611 0.82311576]\n",
      "  [0.07900834 0.15720177 0.99597306]]]\n"
     ]
    }
   ],
   "source": [
    "# Definir las dimensiones de la secuencia\n",
    "num_matrices = 4\n",
    "filas = 5\n",
    "columnas = 3\n",
    "\n",
    "# Generar la secuencia aleatoria de 4 matrices de 5x3\n",
    "secuencia_aleatoria = np.random.rand(num_matrices, filas, columnas) # LA FUNCION .RAND CREA UNA CANTIDAD DE MATRICES DESEADA, CON FILAS Y COLUMNAS\n",
    "                                                                     # DESEADAS, Y CON DATOS QUE ESTAN ENTRE EL CERO Y EL NÚMERO UNO \n",
    "print(\"Secuencia aleatoria de 4 matrices de 5x3:\")\n",
    "print(secuencia_aleatoria) "
   ]
  },
  {
   "cell_type": "markdown",
   "metadata": {},
   "source": [
    "## Ejercicio 19\n",
    "Crea una matriz de 10x1, toda ella compuesta por `False`. Después transformalo en un 2x5"
   ]
  },
  {
   "cell_type": "code",
   "execution_count": 25,
   "metadata": {},
   "outputs": [
    {
     "name": "stdout",
     "output_type": "stream",
     "text": [
      "Matriz original de 10x1:\n",
      "[[False]\n",
      " [False]\n",
      " [False]\n",
      " [False]\n",
      " [False]\n",
      " [False]\n",
      " [False]\n",
      " [False]\n",
      " [False]\n",
      " [False]]\n",
      "\n",
      "Matriz transformada en un 2x5:\n",
      "[[False False False False False]\n",
      " [False False False False False]]\n"
     ]
    }
   ],
   "source": [
    "# Crear una matriz de 10x1 de False\n",
    "matriz_10x1 = np.full((10, 1), False) # LA FUNCION \"np.full()\" CREA Y DEVUELVE UNA REFERENCIA A UN ARRAY CON LAS DIMENSIONES ESPECIFICADAS EN EL \n",
    "                                       # PRIMER DATO DE ENTRADA, Y CUYOS ELEMENTOS SON TODOS IGUALES AL ESPECIFICADO EN EL SEGUNDO DATO DE ENTRADA \n",
    "# Transformar la matriz en un 2x5\n",
    "matriz_2x5 = matriz_10x1.reshape(2, 5)\n",
    "\n",
    "print(\"Matriz original de 10x1:\")\n",
    "print(matriz_10x1)\n",
    "\n",
    "print(\"\\nMatriz transformada en un 2x5:\")\n",
    "print(matriz_2x5) "
   ]
  },
  {
   "attachments": {},
   "cell_type": "markdown",
   "metadata": {},
   "source": [
    "## Ejercicio 20\n",
    "Dado el siguiente array\n",
    "\n",
    "```Python\n",
    "x = np.random.randint(10, 20, size = (5,2,6))\n",
    "```\n",
    "\n",
    "1. ¿Cuántos elementos tiene el array?\n",
    "2. ¿Cuántas dimensiones?\n",
    "3. ¿Cuánta es la longitud cada dimensión?"
   ]
  },
  {
   "cell_type": "code",
   "execution_count": 6,
   "metadata": {},
   "outputs": [
    {
     "name": "stdout",
     "output_type": "stream",
     "text": [
      "[[[18 17 15 12 15 18]\n",
      "  [14 11 10 14 14 13]]\n",
      "\n",
      " [[11 16 15 16 15 11]\n",
      "  [15 16 16 18 16 19]]\n",
      "\n",
      " [[17 14 13 10 15 19]\n",
      "  [11 16 12 13 19 10]]\n",
      "\n",
      " [[13 12 13 17 14 16]\n",
      "  [18 14 10 18 13 14]]\n",
      "\n",
      " [[13 10 11 10 16 18]\n",
      "  [17 14 10 16 14 10]]]\n",
      "1. Número total de elementos del array: 60\n",
      "2. Número de dimensiones del array: 3\n",
      "3. Longitud de cada dimensión del array: (5, 2, 6)\n"
     ]
    }
   ],
   "source": [
    "# Definir el array x\n",
    "x = np.random.randint(10, 20, size=(5, 2, 6)) # LA FUNCION \".randint()\" GENERA DATOS ALEATORIOS QUE ESTAN DENTRO DEL RANGO INGRESADO EN LOS 2 PRIMEROS  \n",
    "                                               # DE ENTRADA. ADEMÁS, EN EL TERCER DATO DE ENTRADA SE ESPECIFICA, PRIMERO CUANTAS ESTRUCTURAS QUIERO QUE HAGA,\n",
    "                                                # LUEGO EN LOS SIGUIENTES DOS DATOS DE ENTRADA SE ESPECIFICAN LAS DIMENSIONES QUE QUIERO QUE TENGA LA ESTRUCTURA\n",
    "                                                 # QUE ALMACENARÁ LA INFORMACIÓN \n",
    "# 1. Calcular el número total de elementos del array\n",
    "num_elementos = x.size                               # \"x.size\" ARROJA LA CANTIDAD DE ELEMENTOS QUE ALMACENA LA ESTRUCTURA DE LOS DATOS \n",
    "\n",
    "# 2. Obtener el número de dimensiones del array\n",
    "num_dimensiones = x.ndim                              # \"x.ndim\" ARROJA LAS DIMENSIONES DE LA ESTRUCTURA QUE ALMACENA LOS DATOS. EN ESTE CASO, LA\n",
    "                                                       # PRIMERA DIMENSION INDICA LA CANTIDAD DE VECES QUE SE REPITE LA ESTRUCTURA, LA SEGUNDA DIMENSION\n",
    "                                                        # INDICA CUANTAS ESTRUCTURAS ESTAN CONTENIDAS EN CADA UNA DE LAS DIMENSIONES MENCIONADAS, Y\n",
    "                                                         # LA TERCERA DIMENSION ES CADA UNO DE LOS DATOS \n",
    "\n",
    "# 3. Obtener la longitud de cada dimensión del array\n",
    "longitud_dim = x.shape                                # \"x.shape\" INDICA EL TAMAÑO DE CADA DIMENSION, ES DECIR, EN ESTE CASO LA PRIMERA DIMENSION\n",
    "                                                       # SON 5 ESTRUCTURAS IGUALES, LA SEGUNDA DIMENSION SON 2 DATOS IGUALES, Y LA TERCERA DIMENSION \n",
    "                                                        # SON 6 DATOS IGUALES \n",
    "\n",
    "# Imprimir los resultados\n",
    "# print(x) \n",
    "print(\"1. Número total de elementos del array:\", num_elementos)\n",
    "print(\"2. Número de dimensiones del array:\", num_dimensiones)\n",
    "print(\"3. Longitud de cada dimensión del array:\", longitud_dim)  "
   ]
  }
 ],
 "metadata": {
  "kernelspec": {
   "display_name": "Python 3.7.4 64-bit",
   "language": "python",
   "name": "python3"
  },
  "language_info": {
   "codemirror_mode": {
    "name": "ipython",
    "version": 3
   },
   "file_extension": ".py",
   "mimetype": "text/x-python",
   "name": "python",
   "nbconvert_exporter": "python",
   "pygments_lexer": "ipython3",
   "version": "3.12.3"
  },
  "vscode": {
   "interpreter": {
    "hash": "90139cb9a825bf3d63f6f6704e828dbd1ff7edbd4d0c6e906a71235d6efc74af"
   }
  }
 },
 "nbformat": 4,
 "nbformat_minor": 4
}
