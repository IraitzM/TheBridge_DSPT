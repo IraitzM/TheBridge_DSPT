{
 "cells": [
  {
   "cell_type": "markdown",
   "metadata": {},
   "source": [
    "# Profundizando en Git y Github\n",
    "\n",
    "Previamente vimos qué era Git y qué era Github. Venimos trabajando con Git, haciendo _pull_ para traernos los cambios del repositorio del curso. Y algunos de vosotros yha habéis descubierto que no todos los formatos de fichero se llevan bien con _git_ (notebooks mayormente).\n",
    "\n",
    "Git es el programa que nos permite gestionar un repositorio de código versionado para poder colaborar con nuestros compañeros de trabajo. Estos repositorios suelen estar albergados en un entorno remoto, un servidor que copia y gestiona todas las copias y cambios que hagamos a nuestro código. Es top es Github. Existen múltiples opciones:\n",
    "\n",
    "* Github\n",
    "* Gitlab\n",
    "* Bitbucket\n",
    "* Azure DevOps\n",
    "\n",
    "Pero todas hablan el mismo idioma, los comandos de Git. Deberemos familiarizarnos por lo tanto con el ciclo de vida de git. Existen distintas etapas de las que deberemos hacernos eco.\n",
    "\n",
    "<img src=\"./img/git-commands.png\" alt=\"git\" width=\"800\"/>"
   ]
  },
  {
   "cell_type": "markdown",
   "metadata": {},
   "source": [
    "Cuando creamos un repositorio vacío en Github, unicamente reservamos ese hueco para poder añadir nuestro contenido. Podemos crear un repositorio en el siguiente botón.\n",
    "\n",
    "![cfg_2](./img/git_config_2.png)"
   ]
  },
  {
   "cell_type": "markdown",
   "metadata": {},
   "source": [
    "![empty](./img/empty-repo.png)"
   ]
  },
  {
   "cell_type": "markdown",
   "metadata": {},
   "source": [
    "Estas instrucciones nos indican cómo podemos sincronizar una carpeta local, un directorio donde estemos trabajando con el entorno remoto. Crearemos uno para nuestro ejemplo."
   ]
  },
  {
   "cell_type": "code",
   "execution_count": 2,
   "metadata": {},
   "outputs": [
    {
     "data": {
      "text/plain": [
       "'/home/iraitz/TheBridge/Otros/TheBridge_DSPT/2-Data Analysis/8-Gestión de proyectos/Github/mi_repo'"
      ]
     },
     "execution_count": 2,
     "metadata": {},
     "output_type": "execute_result"
    }
   ],
   "source": [
    "import os\n",
    "\n",
    "os.mkdir('mi_repo')\n",
    "os.chdir('mi_repo')\n",
    "os.getcwd()"
   ]
  },
  {
   "cell_type": "markdown",
   "metadata": {},
   "source": [
    "Podemos crear un fichero de forma sencilla."
   ]
  },
  {
   "cell_type": "code",
   "execution_count": 3,
   "metadata": {},
   "outputs": [
    {
     "name": "stdout",
     "output_type": "stream",
     "text": [
      "Writing README.md\n"
     ]
    }
   ],
   "source": [
    "%%file README.md\n",
    "\n",
    "Hola!"
   ]
  },
  {
   "cell_type": "markdown",
   "metadata": {},
   "source": [
    "Y ahora iniciamos nuestros comandos git:"
   ]
  },
  {
   "cell_type": "code",
   "execution_count": 4,
   "metadata": {},
   "outputs": [
    {
     "name": "stdout",
     "output_type": "stream",
     "text": [
      "\u001b[33mayuda: Usando 'master' como el nombre de la rama inicial. Este nombre de rama predeterminado\u001b[m\n",
      "\u001b[33mayuda: está sujeto a cambios. Para configurar el nombre de la rama inicial para usar en todos\u001b[m\n",
      "\u001b[33mayuda: de sus nuevos repositorios, reprimiendo esta advertencia, llama a:\u001b[m\n",
      "\u001b[33mayuda: \u001b[m\n",
      "\u001b[33mayuda: \tgit config --global init.defaultBranch <nombre>\u001b[m\n",
      "\u001b[33mayuda: \u001b[m\n",
      "\u001b[33mayuda: Los nombres comúnmente elegidos en lugar de 'master' son 'main', 'trunk' y\u001b[m\n",
      "\u001b[33mayuda: 'development'. Se puede cambiar el nombre de la rama recién creada mediante este comando:\u001b[m\n",
      "\u001b[33mayuda: \u001b[m\n",
      "\u001b[33mayuda: \tgit branch -m <nombre>\u001b[m\n",
      "Inicializado repositorio Git vacío en /home/iraitz/TheBridge/Otros/TheBridge_DSPT/2-Data Analysis/8-Gestión de proyectos/Github/mi_repo/.git/\n"
     ]
    }
   ],
   "source": [
    "!git init"
   ]
  },
  {
   "cell_type": "code",
   "execution_count": 5,
   "metadata": {},
   "outputs": [
    {
     "name": "stdout",
     "output_type": "stream",
     "text": [
      "En la rama master\n",
      "\n",
      "No hay commits todavía\n",
      "\n",
      "Archivos sin seguimiento:\n",
      "  (usa \"git add <archivo>...\" para incluirlo a lo que será confirmado)\n",
      "\t\u001b[31mREADME.md\u001b[m\n",
      "\n",
      "no hay nada agregado al commit pero hay archivos sin seguimiento presentes (usa \"git add\" para hacerles seguimiento)\n"
     ]
    }
   ],
   "source": [
    "!git status"
   ]
  },
  {
   "cell_type": "code",
   "execution_count": 6,
   "metadata": {},
   "outputs": [],
   "source": [
    "!git add README.md"
   ]
  },
  {
   "cell_type": "code",
   "execution_count": 7,
   "metadata": {},
   "outputs": [
    {
     "name": "stdout",
     "output_type": "stream",
     "text": [
      "En la rama master\n",
      "\n",
      "No hay commits todavía\n",
      "\n",
      "Cambios a ser confirmados:\n",
      "  (usa \"git rm --cached <archivo>...\" para sacar del área de stage)\n",
      "\t\u001b[32mnuevos archivos: README.md\u001b[m\n",
      "\n"
     ]
    }
   ],
   "source": [
    "!git status"
   ]
  },
  {
   "cell_type": "code",
   "execution_count": 9,
   "metadata": {},
   "outputs": [
    {
     "name": "stdout",
     "output_type": "stream",
     "text": [
      "[master (commit-raíz) 53a5e5b] Mi primer commit\n",
      " 1 file changed, 2 insertions(+)\n",
      " create mode 100644 README.md\n"
     ]
    }
   ],
   "source": [
    "!git commit -m \"Mi primer commit\""
   ]
  },
  {
   "cell_type": "code",
   "execution_count": 10,
   "metadata": {},
   "outputs": [
    {
     "name": "stdout",
     "output_type": "stream",
     "text": [
      "En la rama master\n",
      "nada para hacer commit, el árbol de trabajo está limpio\n"
     ]
    }
   ],
   "source": [
    "!git status"
   ]
  },
  {
   "cell_type": "code",
   "execution_count": 12,
   "metadata": {},
   "outputs": [],
   "source": [
    "!git branch -M main "
   ]
  },
  {
   "cell_type": "code",
   "execution_count": 13,
   "metadata": {},
   "outputs": [
    {
     "name": "stdout",
     "output_type": "stream",
     "text": [
      "* \u001b[32mmain\u001b[m\n"
     ]
    }
   ],
   "source": [
    "!git branch"
   ]
  },
  {
   "cell_type": "markdown",
   "metadata": {},
   "source": [
    "Aquí deberéis indicarle cómo se llama vuestro repositorio remoto para poder realizar la conexión.\n",
    "\n",
    "![remote](./img/remote-iraitz.png)"
   ]
  },
  {
   "cell_type": "code",
   "execution_count": 14,
   "metadata": {},
   "outputs": [],
   "source": [
    "!git remote add origin https://github.com/IraitzM/Empty.git"
   ]
  },
  {
   "cell_type": "code",
   "execution_count": 15,
   "metadata": {},
   "outputs": [
    {
     "name": "stdout",
     "output_type": "stream",
     "text": [
      "origin\n"
     ]
    }
   ],
   "source": [
    "!git remote"
   ]
  },
  {
   "cell_type": "markdown",
   "metadata": {},
   "source": [
    "Github necesita saber quienes somos para dejarnos o no subir cambios al repositorio remoto."
   ]
  },
  {
   "cell_type": "code",
   "execution_count": 20,
   "metadata": {},
   "outputs": [],
   "source": [
    "!git config user.name \"IraitzM\"\n",
    "!git config user.email \"iraitzm@gmail.com\""
   ]
  },
  {
   "cell_type": "markdown",
   "metadata": {},
   "source": [
    "Y ahora simplemente podremos pedirle que suba nuestros cambios de nuestro repositorio local al servidor remoto. Esto tendremos que hacerlo bien en nuestro terminal o en los botones de VSCode de la izquierda.\n",
    "\n",
    "_!git push --set-upstream origin main_\n",
    "\n",
    "![push](./img/git-push-upstream.png)"
   ]
  },
  {
   "cell_type": "markdown",
   "metadata": {},
   "source": [
    "Con esto nuestro repositorio local quedará enlazado y cualquier acción que incluya esta dinámica quedará registrada en el histórico del repositorio."
   ]
  },
  {
   "cell_type": "code",
   "execution_count": 24,
   "metadata": {},
   "outputs": [
    {
     "name": "stdout",
     "output_type": "stream",
     "text": [
      "Overwriting README.md\n"
     ]
    }
   ],
   "source": [
    "%%file README.md\n",
    "\n",
    "Hola ¿cómo estás?"
   ]
  },
  {
   "cell_type": "code",
   "execution_count": 25,
   "metadata": {},
   "outputs": [
    {
     "name": "stdout",
     "output_type": "stream",
     "text": [
      "En la rama main\n",
      "Tu rama está actualizada con 'origin/main'.\n",
      "\n",
      "Cambios no rastreados para el commit:\n",
      "  (usa \"git add <archivo>...\" para actualizar lo que será confirmado)\n",
      "  (usa \"git restore <archivo>...\" para descartar los cambios en el directorio de trabajo)\n",
      "\t\u001b[31mmodificados:     README.md\u001b[m\n",
      "\n",
      "sin cambios agregados al commit (usa \"git add\" y/o \"git commit -a\")\n"
     ]
    }
   ],
   "source": [
    "!git status"
   ]
  },
  {
   "cell_type": "code",
   "execution_count": 28,
   "metadata": {},
   "outputs": [
    {
     "name": "stdout",
     "output_type": "stream",
     "text": [
      "En la rama main\n",
      "Tu rama está adelantada a 'origin/main' por 1 commit.\n",
      "  (usa \"git push\" para publicar tus commits locales)\n",
      "\n",
      "nada para hacer commit, el árbol de trabajo está limpio\n"
     ]
    }
   ],
   "source": [
    "!git add .\n",
    "!git commit -m \"New changes\""
   ]
  },
  {
   "cell_type": "markdown",
   "metadata": {},
   "source": [
    "![commits](./img/commits.png)"
   ]
  },
  {
   "cell_type": "markdown",
   "metadata": {},
   "source": [
    "## Ramas\n",
    "\n",
    "Las ramas son copias de nuestro código en un momento dado en el que decidimos diferir la implementación para poder acometer cambios concretos. Habitualmente porque queremos crear una mejora (`feature/...`) o corregir un problema (`fix/...`). Son copias de nuestro código esencialmente."
   ]
  },
  {
   "cell_type": "markdown",
   "metadata": {},
   "source": [
    "<img src=\"./img/git_branch_merge_1.png\" alt=\"branch\" width=\"800\"/>\n",
    "\n",
    "Esto permite que múltiples personas estén trabajando sobre _el mismo código_ sin interferir los unos con los otros."
   ]
  },
  {
   "cell_type": "code",
   "execution_count": 30,
   "metadata": {},
   "outputs": [
    {
     "name": "stdout",
     "output_type": "stream",
     "text": [
      "* \u001b[32mmain\u001b[m\n"
     ]
    }
   ],
   "source": [
    "!git branch --list"
   ]
  },
  {
   "cell_type": "code",
   "execution_count": 31,
   "metadata": {},
   "outputs": [],
   "source": [
    "!git branch feature/mejorar_markdown"
   ]
  },
  {
   "cell_type": "code",
   "execution_count": 32,
   "metadata": {},
   "outputs": [
    {
     "name": "stdout",
     "output_type": "stream",
     "text": [
      "  feature/mejorar_markdown\u001b[m\n",
      "* \u001b[32mmain\u001b[m\n"
     ]
    }
   ],
   "source": [
    "!git branch --list"
   ]
  },
  {
   "cell_type": "code",
   "execution_count": 33,
   "metadata": {},
   "outputs": [
    {
     "name": "stdout",
     "output_type": "stream",
     "text": [
      "Cambiado a rama 'feature/mejorar_markdown'\n"
     ]
    }
   ],
   "source": [
    "!git switch feature/mejorar_markdown"
   ]
  },
  {
   "cell_type": "code",
   "execution_count": 34,
   "metadata": {},
   "outputs": [
    {
     "name": "stdout",
     "output_type": "stream",
     "text": [
      "* \u001b[32mfeature/mejorar_markdown\u001b[m\n",
      "  main\u001b[m\n"
     ]
    }
   ],
   "source": [
    "!git branch --list"
   ]
  },
  {
   "cell_type": "code",
   "execution_count": 36,
   "metadata": {},
   "outputs": [
    {
     "name": "stdout",
     "output_type": "stream",
     "text": [
      "Overwriting README.md\n"
     ]
    }
   ],
   "source": [
    "%%file README.md\n",
    "\n",
    "## Saludos\n",
    "\n",
    "Hola ¿Cómo están ustedes?"
   ]
  },
  {
   "cell_type": "code",
   "execution_count": 37,
   "metadata": {},
   "outputs": [
    {
     "name": "stdout",
     "output_type": "stream",
     "text": [
      "En la rama feature/mejorar_markdown\n",
      "Cambios no rastreados para el commit:\n",
      "  (usa \"git add <archivo>...\" para actualizar lo que será confirmado)\n",
      "  (usa \"git restore <archivo>...\" para descartar los cambios en el directorio de trabajo)\n",
      "\t\u001b[31mmodificados:     README.md\u001b[m\n",
      "\n",
      "sin cambios agregados al commit (usa \"git add\" y/o \"git commit -a\")\n"
     ]
    }
   ],
   "source": [
    "!git status"
   ]
  },
  {
   "cell_type": "code",
   "execution_count": 38,
   "metadata": {},
   "outputs": [
    {
     "name": "stdout",
     "output_type": "stream",
     "text": [
      "[feature/mejorar_markdown b82eed5] mejorado readme\n",
      " 1 file changed, 3 insertions(+), 1 deletion(-)\n"
     ]
    }
   ],
   "source": [
    "!git add .\n",
    "!git commit -m \"mejorado readme\""
   ]
  },
  {
   "cell_type": "markdown",
   "metadata": {},
   "source": [
    "Nos pedirá volver a realizar el enlace ya que hay que crear un homólogo a la rama local en el servidor remoto:\n",
    "\n",
    "_git push --set-upstream origin feature/mejorar_markdown_\n",
    "\n",
    "Y con esto veremos que el repositorio cuenta ahora con dos ramas, dos copias divergentes del código.\n",
    "\n",
    "![feat](./img/feature-branch.png)\n",
    "\n",
    "Podemos juntar los cambios de nuestra rama a la rama principal con un _pull-request_. Es una petición para revisar si existe algún problema o cambio a tener en cuenta. Esto sucede por ejemplo si alguien en las otras ramas cambia el mismo fichero que nosotros de forma que Git no sepa cómo solventar las discrepancias."
   ]
  },
  {
   "cell_type": "code",
   "execution_count": 39,
   "metadata": {},
   "outputs": [
    {
     "name": "stdout",
     "output_type": "stream",
     "text": [
      "Cambiado a rama 'main'\n",
      "Tu rama está actualizada con 'origin/main'.\n"
     ]
    }
   ],
   "source": [
    "!git checkout main"
   ]
  },
  {
   "cell_type": "code",
   "execution_count": 40,
   "metadata": {},
   "outputs": [
    {
     "name": "stdout",
     "output_type": "stream",
     "text": [
      "Overwriting README.md\n"
     ]
    }
   ],
   "source": [
    "%%file README.md\n",
    "\n",
    "## Saludos\n",
    "\n",
    "Hola, ¿Cómo están ustedes?"
   ]
  },
  {
   "cell_type": "code",
   "execution_count": 41,
   "metadata": {},
   "outputs": [
    {
     "name": "stdout",
     "output_type": "stream",
     "text": [
      "[main aed01d7] mejorado readme en main\n",
      " 1 file changed, 3 insertions(+), 1 deletion(-)\n"
     ]
    }
   ],
   "source": [
    "!git add .\n",
    "!git commit -m \"mejorado readme en main\""
   ]
  },
  {
   "cell_type": "markdown",
   "metadata": {},
   "source": [
    "Al haber cambiado el main a la vez, las mismas líneas, fijaros qué sucede al hacer el _pull request_. Se genera un conflicto. \n",
    "\n",
    "![conflict](./img/conflicto.png)"
   ]
  },
  {
   "cell_type": "markdown",
   "metadata": {},
   "source": [
    "Dado que la rama principal es la main, acordada por el equipo, nos corresponderá corregir nuestra version del código. nos deberemos traer los cambios poniéndonos en la rama main."
   ]
  },
  {
   "cell_type": "code",
   "execution_count": 45,
   "metadata": {},
   "outputs": [
    {
     "name": "stdout",
     "output_type": "stream",
     "text": [
      "  feature/mejorar_markdown\u001b[m\n",
      "* \u001b[32mmain\u001b[m\n"
     ]
    }
   ],
   "source": [
    "!git branch"
   ]
  },
  {
   "cell_type": "code",
   "execution_count": 44,
   "metadata": {},
   "outputs": [
    {
     "name": "stdout",
     "output_type": "stream",
     "text": [
      "Ya está actualizado.\n"
     ]
    }
   ],
   "source": [
    "!git pull"
   ]
  },
  {
   "cell_type": "code",
   "execution_count": 46,
   "metadata": {},
   "outputs": [
    {
     "name": "stdout",
     "output_type": "stream",
     "text": [
      "Cambiado a rama 'feature/mejorar_markdown'\n",
      "Tu rama está actualizada con 'origin/feature/mejorar_markdown'.\n"
     ]
    }
   ],
   "source": [
    "!git checkout feature/mejorar_markdown"
   ]
  },
  {
   "cell_type": "code",
   "execution_count": 47,
   "metadata": {},
   "outputs": [
    {
     "name": "stdout",
     "output_type": "stream",
     "text": [
      "* \u001b[32mfeature/mejorar_markdown\u001b[m\n",
      "  main\u001b[m\n"
     ]
    }
   ],
   "source": [
    "!git branch"
   ]
  },
  {
   "cell_type": "markdown",
   "metadata": {},
   "source": [
    "Y ahora, juntar (merge) los cambios de ambas."
   ]
  },
  {
   "cell_type": "code",
   "execution_count": 48,
   "metadata": {},
   "outputs": [
    {
     "name": "stdout",
     "output_type": "stream",
     "text": [
      "Auto-fusionando README.md\n",
      "CONFLICTO (contenido): Conflicto de fusión en README.md\n",
      "Fusión automática falló; arregle los conflictos y luego realice un commit con el resultado.\n"
     ]
    }
   ],
   "source": [
    "!git merge main"
   ]
  },
  {
   "cell_type": "markdown",
   "metadata": {},
   "source": [
    "Veremos que el fichero se abre con una forma especial.\n",
    "\n",
    "![resolve](./img/conflict-resolve.png)\n",
    "\n",
    "Nos permite decidir si queremos quedarnos con uno y otro cambio. Podemos generar la versión conciliada entre ambos."
   ]
  },
  {
   "cell_type": "code",
   "execution_count": 50,
   "metadata": {},
   "outputs": [
    {
     "name": "stdout",
     "output_type": "stream",
     "text": [
      "En la rama feature/mejorar_markdown\n",
      "Tu rama está actualizada con 'origin/feature/mejorar_markdown'.\n",
      "\n",
      "Todos los conflictos resueltos pero sigues fusionando.\n",
      "  (usa \"git commit\" para concluir la fusión)\n",
      "\n",
      "Cambios a ser confirmados:\n",
      "\t\u001b[32mmodificados:     README.md\u001b[m\n",
      "\n"
     ]
    }
   ],
   "source": [
    "!git add .\n",
    "!git status"
   ]
  },
  {
   "cell_type": "code",
   "execution_count": 51,
   "metadata": {},
   "outputs": [
    {
     "name": "stdout",
     "output_type": "stream",
     "text": [
      "[feature/mejorar_markdown 16fc665] Conflicto resuelto\n"
     ]
    }
   ],
   "source": [
    "!git commit -m \"Conflicto resuelto\""
   ]
  },
  {
   "cell_type": "markdown",
   "metadata": {},
   "source": [
    "Esto genera que Github actualice su estatus y si todos los conflictos han sido resueltos, podamos llevar nuestros cambios a la rama principal para que el resto de nuestros compañeros puedan usarlos en sus ramas.\n",
    "\n",
    "![resolved](./img/resolved.png)"
   ]
  },
  {
   "cell_type": "markdown",
   "metadata": {},
   "source": [
    "## Fork\n",
    "\n",
    "En caso de tratarse de repositorios en los que no tenemos permiso para contribuir directamente, siempre podemos hacer una copia, un repositorio remoto conectado al repositorio de otra persona para así poder hacer nuestros cambios pero también poder traernos los que ocurran en el repositorio de ese tercero."
   ]
  },
  {
   "cell_type": "markdown",
   "metadata": {},
   "source": [
    "![fork](./img/fork.png)"
   ]
  },
  {
   "cell_type": "markdown",
   "metadata": {},
   "source": [
    "La idea es que cada desarrollador haga su clonado de un repositorio, y pueda trabajar de manera independiente en su rama. Una vez no existan conflictos, estos cambios pueden traerse al repositorio central. Con el Fork, extendemos este concepto a múltiples equipos trabajando en módulos concretos para grandes proyectos.\n",
    "\n",
    "Será obligatorio sincronizar nuestra copia periódicamente para traernos los cambios en el repositorio principal.\n",
    "\n",
    "![fork-sync](./img/fork-sync.png)"
   ]
  },
  {
   "cell_type": "markdown",
   "metadata": {},
   "source": [
    "Existen distintas formas de organizarse con estas capacidades técnicas.\n",
    "\n",
    "#### Git flow\n",
    "\n",
    "Se trata de crear un flujo de cambios, de menos a más, que vaya integrándose poco a poco.\n",
    "\n",
    "<img src=\"./img/flow.png\" alt=\"flow\" width=\"800\"/>\n",
    "\n",
    "\n",
    "#### Trunk based\n",
    "\n",
    "Se ustiliza una única rama central, con ramas de corta duración para aportar los cambios necesarios.\n",
    "\n",
    "<img src=\"./img/trunk.png\" alt=\"trunk\" width=\"800\"/>"
   ]
  },
  {
   "cell_type": "markdown",
   "metadata": {},
   "source": [
    "### Ejercicio\n",
    "\n",
    "Veamos si podemos hacer que cada uno de vosotros tenga un FORK del repositorio de TheBridge donde poder incluir vuestras anotaciones y ejercicios resueltos hasta la fecha.\n",
    "\n",
    "1. Cread un fork del repositorio oficial si es que no tenéis uno ya hecho: https://github.com/IraitzM/TheBridge_DSPT/fork\n",
    "2. Revisad a qué repositorio remoto apunta vuestra carpeta local"
   ]
  },
  {
   "cell_type": "code",
   "execution_count": 1,
   "metadata": {},
   "outputs": [
    {
     "name": "stdout",
     "output_type": "stream",
     "text": [
      "https://github.com/IraitzM/TheBridge_DSPT.git\n"
     ]
    }
   ],
   "source": [
    "!git remote get-url origin"
   ]
  },
  {
   "cell_type": "markdown",
   "metadata": {},
   "source": [
    "3. Cambiad la url a la que apunta a vuestro FORK\n",
    "\n",
    "```sh\n",
    "!git remote remove origin\n",
    "!git remote set-url origin https://github.com/...\n",
    "```\n",
    "\n",
    "Podéis pedir más información sobre el comando tecleando en el terminal: `git remote --help`"
   ]
  },
  {
   "cell_type": "markdown",
   "metadata": {},
   "source": [
    "4. Veamos si somos capaces de traernos los cambios `git pull`, crear una rama para vuestra versión `git branch <nombre rama>` y corregir las inconsistencias entre vuestros notebooks y los de los ejercicios. "
   ]
  },
  {
   "cell_type": "markdown",
   "metadata": {},
   "source": [
    "Recursos:\n",
    "\n",
    "* https://www.w3schools.com/git/\n",
    "* https://learngitbranching.js.org/?locale=es_ES\n",
    "* https://openwebinars.net/blog/trunk-based-development-vs-git-flow-cual-elegir/\n"
   ]
  }
 ],
 "metadata": {
  "kernelspec": {
   "display_name": ".venv",
   "language": "python",
   "name": "python3"
  },
  "language_info": {
   "codemirror_mode": {
    "name": "ipython",
    "version": 3
   },
   "file_extension": ".py",
   "mimetype": "text/x-python",
   "name": "python",
   "nbconvert_exporter": "python",
   "pygments_lexer": "ipython3",
   "version": "3.10.12"
  }
 },
 "nbformat": 4,
 "nbformat_minor": 2
}
